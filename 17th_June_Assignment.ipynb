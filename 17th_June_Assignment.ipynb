{
  "nbformat": 4,
  "nbformat_minor": 0,
  "metadata": {
    "colab": {
      "provenance": []
    },
    "kernelspec": {
      "name": "python3",
      "display_name": "Python 3"
    },
    "language_info": {
      "name": "python"
    }
  },
  "cells": [
    {
      "cell_type": "markdown",
      "source": [
        "17th June\n"
      ],
      "metadata": {
        "id": "X2aadcpb2Gey"
      }
    },
    {
      "cell_type": "markdown",
      "source": [
        "1. What is the role of try and exception block?\n"
      ],
      "metadata": {
        "id": "BJYKkc4O1vwu"
      }
    },
    {
      "cell_type": "code",
      "source": [
        "# In python we use try and except block to handle exceptions or runtime errors.\n",
        "# The try block contains the code to raise an exception and the except block contains the code that will be excuted if an exception raised"
      ],
      "metadata": {
        "id": "W6LrfeW_-ohM"
      },
      "execution_count": null,
      "outputs": []
    },
    {
      "cell_type": "markdown",
      "source": [
        "2. What is the syntax for a basic try-except block?\n"
      ],
      "metadata": {
        "id": "hmBo3j141yQZ"
      }
    },
    {
      "cell_type": "code",
      "source": [
        "\n",
        "try:\n",
        "   x=10/0\n",
        "except ZeroDivisionError :\n",
        "  print(\"Zero division error\")\n"
      ],
      "metadata": {
        "colab": {
          "base_uri": "https://localhost:8080/"
        },
        "id": "0VlsFpOR-0XO",
        "outputId": "86854645-528c-49d2-a86a-aae62b2dbdd0"
      },
      "execution_count": null,
      "outputs": [
        {
          "output_type": "stream",
          "name": "stdout",
          "text": [
            "Zero division error\n"
          ]
        }
      ]
    },
    {
      "cell_type": "markdown",
      "source": [
        "3. What happens if an exception occurs inside a try block and there is no matching\n",
        "except block?\n"
      ],
      "metadata": {
        "id": "hsS5UbgF1yTS"
      }
    },
    {
      "cell_type": "code",
      "source": [
        "# We should handle errors with appropriate except blocks. The program will stop excute if there is no matched except block\n",
        "try:\n",
        "   x=10/0\n",
        "except IOError :\n",
        "  print(\"Zero division error\")\n"
      ],
      "metadata": {
        "colab": {
          "base_uri": "https://localhost:8080/"
        },
        "id": "3lg4d5fN-07w",
        "outputId": "c24e5b63-6c8b-4889-f202-61f7c8e072d4"
      },
      "execution_count": null,
      "outputs": [
        {
          "output_type": "stream",
          "name": "stdout",
          "text": [
            "Zero division error\n"
          ]
        }
      ]
    },
    {
      "cell_type": "markdown",
      "source": [
        "4. What is the difference between using a bare except block and specifying a specific\n",
        "exception type?\n"
      ],
      "metadata": {
        "id": "nYSVDXvF1yWN"
      }
    },
    {
      "cell_type": "code",
      "source": [
        "from logging import exception\n",
        "# bare except block:\n",
        "  # It can handle all type of exception without specifing but it can\n",
        "try:\n",
        "   x=10/0\n",
        "except  :\n",
        "  print(\"Zero division error\")\n"
      ],
      "metadata": {
        "colab": {
          "base_uri": "https://localhost:8080/"
        },
        "id": "BPswFJzJ-1cL",
        "outputId": "d28e0243-ba25-48f3-ea34-34989e992112"
      },
      "execution_count": null,
      "outputs": [
        {
          "output_type": "stream",
          "name": "stdout",
          "text": [
            "Zero division error\n"
          ]
        }
      ]
    },
    {
      "cell_type": "markdown",
      "source": [
        "5. Can you have nested try-except blocks in Python? If yes, then give an example.\n"
      ],
      "metadata": {
        "id": "zDdzhA9T1yZS"
      }
    },
    {
      "cell_type": "code",
      "source": [
        "# Yes, we can have nested try except block in python.\n",
        "try:\n",
        "    # Outer try block\n",
        "    try:\n",
        "        # Inner try block\n",
        "        a = 10\n",
        "        b = 0\n",
        "        result = a / b\n",
        "\n",
        "        print(\"Result:\", result)\n",
        "    except ZeroDivisionError:\n",
        "        print(\"Error: Division by zero!\")\n",
        "except Exception as e:\n",
        "    print(\"An error occurred:\", str(e))\n",
        "\n",
        "# The outer except block is a more general exception handler that can catch any other exception that was\n",
        "#  not handled by the inner except block. In this example, it prints a generic error message along with the exception details."
      ],
      "metadata": {
        "id": "WRZcF0OR-2NB",
        "colab": {
          "base_uri": "https://localhost:8080/"
        },
        "outputId": "c8b5458b-dc51-4969-c184-7284b680d7bc"
      },
      "execution_count": 14,
      "outputs": [
        {
          "output_type": "stream",
          "name": "stdout",
          "text": [
            "Error: Division by zero!\n"
          ]
        }
      ]
    },
    {
      "cell_type": "markdown",
      "source": [
        "6. Can we use multiple exception blocks, if yes then give an example.\n"
      ],
      "metadata": {
        "id": "dau3r2yP1ycV"
      }
    },
    {
      "cell_type": "code",
      "source": [
        "try:\n",
        "  n = int( input(\"Please enter the numerator:\"))\n",
        "  d = int( input(\"Please enter the Denomerator:\"))\n",
        "  print(n/d)\n",
        "except ValueError :\n",
        "  print(\"Please enter valid integers for numerator and Denomerator\")\n",
        "except ZeroDivisionError :\n",
        "  print(\"Division by zero is not allowed.\")"
      ],
      "metadata": {
        "id": "3d88IiD0-2xW",
        "colab": {
          "base_uri": "https://localhost:8080/"
        },
        "outputId": "ce6fc32a-d4b7-47cf-fa29-09bcff46c6c6"
      },
      "execution_count": 8,
      "outputs": [
        {
          "output_type": "stream",
          "name": "stdout",
          "text": [
            "Please enter the numerator:4\n",
            "Please enter the Denomerator:3\n",
            "1.3333333333333333\n"
          ]
        }
      ]
    },
    {
      "cell_type": "markdown",
      "source": [
        "7. Write the reason due to which following errors are raised:\n",
        "a. EOFError\n",
        "b. FloatingPointError\n",
        "c. IndexError\n",
        "d. MemoryError\n",
        "e. OverflowError\n",
        "f. TabError\n",
        "g. ValueError\n"
      ],
      "metadata": {
        "id": "1i72rNEV1yfZ"
      }
    },
    {
      "cell_type": "code",
      "source": [
        "# a.EOFError            = End of File Error occures when an input() reaches end of the file while reading the input from the user\n",
        "# b.FloatingPointError  = Raises when a floating point operation fails\n",
        "# c.IndexError          = Raises when an index out of range\n",
        "# d.MemoryError         = Raises when an operation runs out of memory\n",
        "# e.OverflowError       = Raised when the result of arithmetic operation is too large to be expressed\n",
        "# f.TabError            = Raised when indentation contains mixed tabs and spaces\n",
        "# g.ValueError          = Raised when a built-in operation or function receives an argument that has the right type but an inappropriate value."
      ],
      "metadata": {
        "id": "L1-g_5my-3o3"
      },
      "execution_count": null,
      "outputs": []
    },
    {
      "cell_type": "markdown",
      "source": [
        "8. Write code for the following given scenario and add try-exception block to it.\n",
        "a. Program to divide two numbers\n",
        "b. Program to convert a string to an integer\n",
        "c. Program to access an element in a list\n",
        "d. Program to handle a specific exception\n",
        "e. Program to handle any exception"
      ],
      "metadata": {
        "id": "_tun3ZkA1yiY"
      }
    },
    {
      "cell_type": "code",
      "source": [
        "# a. Program to divide two numbers\n",
        "# b. Program to convert a string to an integer\n",
        "# e. Program to handle any exception\n",
        "try:\n",
        "    # Outer try block\n",
        "    try:\n",
        "        # Inner try block\n",
        "        n = int( input(\"Please enter the numerator:\"))\n",
        "        d = int( input(\"Please enter the Denomerator:\"))\n",
        "        result=n/d\n",
        "\n",
        "        print(\"Result:\", result)\n",
        "    except ValueError :\n",
        "        print(\"Please enter valid integers for numerator and Denomerator\")\n",
        "    except ZeroDivisionError:\n",
        "        print(\"Error: Division by zero!\")\n",
        "except Exception as e:#Handles any exception\n",
        "    print(\"An error occurred:\", str(e))"
      ],
      "metadata": {
        "id": "0I7tY0rD-4UZ"
      },
      "execution_count": null,
      "outputs": []
    },
    {
      "cell_type": "code",
      "source": [
        "# c. Program to access an element in a list\n",
        "# d. Program to handle a specific exception\n",
        "\n",
        "try:\n",
        "  lst=[100,200,400,500]\n",
        "  n=int(input(\"Please enter number to access elements \"))\n",
        "  print(\"value for given index \",lst[n])\n",
        "except IndexError:\n",
        "  print(\"Please enter proper index number\")"
      ],
      "metadata": {
        "colab": {
          "base_uri": "https://localhost:8080/"
        },
        "id": "IlCzWkUAKbgs",
        "outputId": "e0934130-60f7-4525-f1aa-6f315ea9f132"
      },
      "execution_count": 19,
      "outputs": [
        {
          "output_type": "stream",
          "name": "stdout",
          "text": [
            "Please enter number to access elements 9\n",
            "Please enter proper index number\n"
          ]
        }
      ]
    }
  ]
}