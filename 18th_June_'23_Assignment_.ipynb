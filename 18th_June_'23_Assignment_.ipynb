{
  "nbformat": 4,
  "nbformat_minor": 0,
  "metadata": {
    "colab": {
      "provenance": []
    },
    "kernelspec": {
      "name": "python3",
      "display_name": "Python 3"
    },
    "language_info": {
      "name": "python"
    }
  },
  "cells": [
    {
      "cell_type": "markdown",
      "source": [
        "\n",
        "18th June '23 Assignment."
      ],
      "metadata": {
        "id": "4riFuY1TMdQX"
      }
    },
    {
      "cell_type": "markdown",
      "source": [
        "1. What is the role of the 'else' block in a try-except statement? Provide an example\n",
        "scenario where it would be useful.\n"
      ],
      "metadata": {
        "id": "VqzAX_DJMqlm"
      }
    },
    {
      "cell_type": "code",
      "source": [
        "# The else block allows you run code without errors. The else block excutes when no exception raised\n",
        "try:\n",
        "  print(\"Good morning today is 18th June\")\n",
        "except:\n",
        "  print(\"Some issue\")\n",
        "else:\n",
        "  print(\"No issues\")"
      ],
      "metadata": {
        "colab": {
          "base_uri": "https://localhost:8080/"
        },
        "id": "MOSDaz-HNMUD",
        "outputId": "458bc8a0-3178-4570-9f17-222afa01f615"
      },
      "execution_count": 4,
      "outputs": [
        {
          "output_type": "stream",
          "name": "stdout",
          "text": [
            "Good morning today is 18th June\n",
            "No issues\n"
          ]
        }
      ]
    },
    {
      "cell_type": "markdown",
      "source": [
        "2. Can a try-except block be nested inside another try-except block? Explain with an\n",
        "example.\n"
      ],
      "metadata": {
        "id": "nmGsaPocMqoO"
      }
    },
    {
      "cell_type": "code",
      "source": [
        "# Yes we can have try-except in side another try-except block\n",
        "try:\n",
        "  try:\n",
        "    10/0\n",
        "  except ZeroDivisionError:\n",
        "    print(\"Error: Division by zero!\")\n",
        "except Exception as e:\n",
        "  print(\"\",e)"
      ],
      "metadata": {
        "colab": {
          "base_uri": "https://localhost:8080/"
        },
        "id": "raSuxYhuNORS",
        "outputId": "806a457b-ccce-4f28-d7e3-72539e60f97f"
      },
      "execution_count": 5,
      "outputs": [
        {
          "output_type": "stream",
          "name": "stdout",
          "text": [
            "Error: Division by zero!\n"
          ]
        }
      ]
    },
    {
      "cell_type": "markdown",
      "source": [
        "3. How can you create a custom exception class in Python? Provide an example that\n",
        "demonstrates its usage.\n"
      ],
      "metadata": {
        "id": "yxNiSzjpMqrH"
      }
    },
    {
      "cell_type": "code",
      "source": [
        "class MyCustomException(Exception):\n",
        "  pass\n",
        "\n",
        "try:\n",
        "  raise MyCustomException()\n",
        "except MyCustomException :\n",
        "  print(\"Handling custom exception\")\n"
      ],
      "metadata": {
        "colab": {
          "base_uri": "https://localhost:8080/"
        },
        "id": "itdJECRwNO32",
        "outputId": "c33bfd73-ce5f-4849-87a1-497506679ca6"
      },
      "execution_count": 6,
      "outputs": [
        {
          "output_type": "stream",
          "name": "stdout",
          "text": [
            "Handling custom exception\n"
          ]
        }
      ]
    },
    {
      "cell_type": "markdown",
      "source": [
        "4. What are some common exceptions that are built-in to Python?\n",
        "bb"
      ],
      "metadata": {
        "id": "1zOS-Y2TMquL"
      }
    },
    {
      "cell_type": "code",
      "source": [],
      "metadata": {
        "id": "RNxiG9OWNQXj"
      },
      "execution_count": null,
      "outputs": []
    },
    {
      "cell_type": "markdown",
      "source": [
        "5. What is logging in Python, and why is it important in software development?\n"
      ],
      "metadata": {
        "id": "ON9nzi0QMqxL"
      }
    },
    {
      "cell_type": "code",
      "source": [
        "# SyntaxError: Raised when there is a syntax error in the code.\n",
        "# IndentationError: Raised when there is an indentation error in the code.\n",
        "# NameError: Raised when a local or global name is not found.\n",
        "# TypeError: Raised when an operation or function is applied to an object of an inappropriate type.\n",
        "# ValueError: Raised when a function receives an argument of the correct type but an inappropriate value.\n",
        "# IndexError: Raised when an index is out of range.\n",
        "# KeyError: Raised when a dictionary key is not found.\n",
        "# FileNotFoundError: Raised when a file or directory is not found.\n",
        "# IOError: Raised when an I/O operation fails.\n",
        "# ZeroDivisionError: Raised when division or modulo operation is performed with zero as the divisor.\n",
        "# OverflowError: Raised when a calculation exceeds the maximum limit of a numeric type.\n",
        "# AssertionError: Raised when an assert statement fails.\n",
        "# ImportError: Raised when an imported module or package cannot be found.\n",
        "# AttributeError: Raised when an attribute reference or assignment fails."
      ],
      "metadata": {
        "id": "Ub6YeJpPNRA2"
      },
      "execution_count": null,
      "outputs": []
    },
    {
      "cell_type": "markdown",
      "source": [
        "6. Explain the purpose of log levels in Python logging and provide examples of when\n",
        "each log level would be appropriate.\n"
      ],
      "metadata": {
        "id": "mgSSQ-HvMq0E"
      }
    },
    {
      "cell_type": "code",
      "source": [
        "# Logging is a technique to track the events when software in use\n",
        "# For the creation, debugging of a software logging is crusial\n",
        "\n",
        "import logging\n",
        "logging.basicConfig(level=logging.DEBUG)\n",
        "\n",
        "logging.debug(\"This is a debug message\")\n",
        "logging.info(\"This is a info message\")\n",
        "logging.warning('This is a warning message')\n",
        "logging.error('This is an error message')\n",
        "logging.critical('This is a critical message')"
      ],
      "metadata": {
        "colab": {
          "base_uri": "https://localhost:8080/"
        },
        "id": "NDg6xVSrNRiH",
        "outputId": "cf9b249f-8e9a-4a3a-e299-f8f77796d0a3"
      },
      "execution_count": 11,
      "outputs": [
        {
          "output_type": "stream",
          "name": "stderr",
          "text": [
            "WARNING:root:This is a warning message\n",
            "ERROR:root:This is an error message\n",
            "CRITICAL:root:This is a critical message\n"
          ]
        }
      ]
    },
    {
      "cell_type": "markdown",
      "source": [
        "7. What are log formatters in Python logging, and how can you customise the log\n",
        "message format using formatters?\n"
      ],
      "metadata": {
        "id": "91wNA1TeMq2-"
      }
    },
    {
      "cell_type": "code",
      "source": [
        "# %(asctime)s   : The timestamp of the log record in a specific format\n",
        "# %(name)s      : The name of the logger that generated the log record\n",
        "# %(levelname)s : The log level of the record\n",
        "# %(message)s   : The actual log message\n"
      ],
      "metadata": {
        "id": "9QC3Hq_WNSrc"
      },
      "execution_count": null,
      "outputs": []
    },
    {
      "cell_type": "code",
      "source": [
        "import logging\n",
        "\n",
        "# Create a logger\n",
        "logger = logging.getLogger('my_logger')\n",
        "logger.setLevel(logging.DEBUG)\n",
        "\n",
        "# Create a file handler\n",
        "file_handler = logging.FileHandler('example.log')\n",
        "\n",
        "# Create a formatter and set it for the file handler\n",
        "formatter = logging.Formatter('%(asctime)s - %(name)s - %(levelname)s - %(message)s')\n",
        "file_handler.setFormatter(formatter)\n",
        "\n",
        "# Add the file handler to the logger\n",
        "logger.addHandler(file_handler)\n",
        "\n",
        "# Log some messages\n",
        "logger.debug('Debug message')\n",
        "logger.info('Info message')\n",
        "logger.warning('Warning message')\n",
        "logger.error('Error message')\n"
      ],
      "metadata": {
        "colab": {
          "base_uri": "https://localhost:8080/"
        },
        "id": "qVwdHD_Doe48",
        "outputId": "a671e60c-1117-45b1-b74f-8b9f2078da88"
      },
      "execution_count": 14,
      "outputs": [
        {
          "output_type": "stream",
          "name": "stderr",
          "text": [
            "DEBUG:my_logger:Debug message\n",
            "INFO:my_logger:Info message\n",
            "WARNING:my_logger:Warning message\n",
            "ERROR:my_logger:Error message\n"
          ]
        }
      ]
    },
    {
      "cell_type": "markdown",
      "source": [
        "8. How can you set up logging to capture log messages from multiple modules or\n",
        "classes in a Python application?\n"
      ],
      "metadata": {
        "id": "TAFhpO6pMq6a"
      }
    },
    {
      "cell_type": "code",
      "source": [
        "import logging\n",
        "logging.basicConfig(level=logging.DEBUG,format='%(asctime)s - %(name)s - %(levelname)s - %(message)s')\n",
        "# Create a logger for a specific module or class\n",
        "logger = logging.getLogger('my_module')\n",
        "logger.debug('Debug message')\n",
        "logger.info('Info message')\n",
        "logger.warning('Warning message')\n",
        "logger.error('Error message')\n",
        "\n"
      ],
      "metadata": {
        "colab": {
          "base_uri": "https://localhost:8080/"
        },
        "id": "vv_vIPokNTHv",
        "outputId": "b87e1b07-7933-49a8-d0a0-ec9b1213b8e7"
      },
      "execution_count": 19,
      "outputs": [
        {
          "output_type": "stream",
          "name": "stderr",
          "text": [
            "WARNING:my_module:Warning message\n",
            "ERROR:my_module:Error message\n"
          ]
        }
      ]
    },
    {
      "cell_type": "markdown",
      "source": [
        "9. What is the difference between the logging and print statements in Python? When\n",
        "should you use logging over print statements in a real-world application?\n"
      ],
      "metadata": {
        "id": "l-D1jrCJMrTC"
      }
    },
    {
      "cell_type": "code",
      "source": [
        "#  it is recommended to use the logging module over print statements in real-world applications,\n",
        "# especially for larger projects or production environments.\n",
        "#  Logging provides better control, flexibility, and debugging capabilities.\n",
        "# It also allows you to separate log messages based on their severity or source,\n",
        "# making it easier to filter and analyze logs when troubleshooting or maintaining the application.\n",
        "# However, for quick and temporary debugging or simple scripts, print statements can still be useful."
      ],
      "metadata": {
        "id": "cW7a6u5ONTpA"
      },
      "execution_count": 20,
      "outputs": []
    },
    {
      "cell_type": "markdown",
      "source": [
        "10. Write a Python program that logs a message to a file named \"app.log\" with the\n",
        "following requirements:\n",
        "● The log message should be \"Hello, World!\"\n",
        "● The log level should be set to \"INFO.\"\n",
        "● The log file should append new log entries without overwriting previous ones.\n"
      ],
      "metadata": {
        "id": "xiN3Pex_MrWb"
      }
    },
    {
      "cell_type": "code",
      "source": [
        "import logging\n",
        "import os\n",
        "\n",
        "dir_path='/content'\n",
        "log_file='app.log'\n",
        "full_path=os.path.join(dir_path,log_file)\n",
        "os.makedirs(dir_path, exist_ok=True)\n",
        "\n",
        "logger=logging.getLogger()\n",
        "logger.setLevel(level=logging.INFO)\n",
        "handler=logging.FileHandler(full_path)\n",
        "handler.setFormatter(logging.Formatter('%(asctime)s:%(name)s-%(levelname)s:%(message)s'))\n",
        "logger.addHandler(handler)\n",
        "\n",
        "\n",
        "# Log the message\n",
        "logging.info('Hello, World!')"
      ],
      "metadata": {
        "colab": {
          "base_uri": "https://localhost:8080/"
        },
        "id": "ygeIzp-WNUH9",
        "outputId": "d6e4c421-7d17-41f2-ff94-28174e01804e"
      },
      "execution_count": 8,
      "outputs": [
        {
          "output_type": "stream",
          "name": "stderr",
          "text": [
            "INFO:root:Hello, World!\n"
          ]
        }
      ]
    },
    {
      "cell_type": "code",
      "source": [
        "# 10th problem second version\n",
        "import logging\n",
        "\n",
        "# Configure the logger\n",
        "logging.basicConfig(\n",
        "    filename='app.log',\n",
        "    level=logging.INFO,\n",
        "    format='%(asctime)s - %(levelname)s - %(message)s',\n",
        "    filemode='a'  # Append mode\n",
        ")\n",
        "\n",
        "# Log the message\n",
        "logging.info('Hello, World2!')"
      ],
      "metadata": {
        "colab": {
          "base_uri": "https://localhost:8080/"
        },
        "id": "MRwZj_ulAR_K",
        "outputId": "169e7b10-41fb-4b2b-b368-9d2278f52968"
      },
      "execution_count": 11,
      "outputs": [
        {
          "output_type": "stream",
          "name": "stderr",
          "text": [
            "INFO:root:Hello, World2!\n"
          ]
        }
      ]
    },
    {
      "cell_type": "markdown",
      "source": [
        "11. Create a Python program that logs an error message to the console and a file named\n",
        "\"errors.log\" if an exception occurs during the program's execution. The error\n",
        "message should include the exception type and a timestamp."
      ],
      "metadata": {
        "id": "sgNoZ4vjNKcz"
      }
    },
    {
      "cell_type": "code",
      "source": [
        "import logging\n",
        "import datetime\n",
        "logging.basicConfig(\n",
        "    filename='errors.log',\n",
        "    level=logging.error,\n",
        "    format='%(asctime)s - %(levelname)s - %(message)s'\n",
        ")\n",
        "\n",
        "error_handler=logging.FileHandler('errors.log')\n",
        "error_handler.setLevel(logging.ERROR)\n",
        "formatter=logging.Formatter('%(asctime)s - %(levelname)s - %(message)s')\n",
        "error_handler.setFormatter(formatter)\n",
        "\n",
        "logging.getLogger().addHandler(error_handler)\n",
        "\n",
        "try:\n",
        "  raise ValueError('Opps! something went wrong')\n",
        "except Exception as e:\n",
        "  timestamp = datetime.datetime.now().strftime('%Y-%m-%d %H:%M:%S')\n",
        "  error_message = f\"{timestamp} - Exception: {type(e).__name__} - {str(e)}\"\n",
        "  logging.error(error_message)\n"
      ],
      "metadata": {
        "colab": {
          "base_uri": "https://localhost:8080/"
        },
        "id": "tS5oICLbNUnR",
        "outputId": "39975936-b577-4ab2-da6f-37d3db321b40"
      },
      "execution_count": 14,
      "outputs": [
        {
          "output_type": "stream",
          "name": "stderr",
          "text": [
            "ERROR:root:2023-07-02 05:20:38 - Exception: ValueError - Opps! something went wrong\n"
          ]
        }
      ]
    }
  ]
}