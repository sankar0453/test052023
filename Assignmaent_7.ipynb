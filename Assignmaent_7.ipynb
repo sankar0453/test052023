{
 "cells": [
  {
   "cell_type": "markdown",
   "id": "45a662bb",
   "metadata": {},
   "source": [
    "### 21 May Python Basic - 2"
   ]
  },
  {
   "cell_type": "markdown",
   "id": "76634261",
   "metadata": {},
   "source": [
    "#### Q.1. Create two int type variables, apply addition, subtraction, division and multiplications\n",
    "#### and store the results in variables. Then print the data in the following format by calling the\n",
    "#### variables:\n",
    "#### First variable is __ & second variable is __.\n",
    "#### Addition: __ + __ = __\n",
    "#### Subtraction: __ - __ = __\n",
    "#### Multiplication: __ * __ = __\n",
    "#### Division: __ / __ = __"
   ]
  },
  {
   "cell_type": "code",
   "execution_count": 8,
   "id": "6300c737",
   "metadata": {},
   "outputs": [
    {
     "name": "stdout",
     "output_type": "stream",
     "text": [
      "First variable is 20 & second variable is 10.\n",
      "Addition:20 + 10 = 30\n",
      "Subtraction:20 - 10 = 30\n",
      "Multiplication:20 * 10 = 30\n",
      "Division:20 / 10 = 30\n"
     ]
    }
   ],
   "source": [
    "def addition(a,b):\n",
    "    return a+b\n",
    "def subtraction(a,b):\n",
    "    return a+b\n",
    "def multiplication(a,b):\n",
    "    return a+b\n",
    "def division(a,b):\n",
    "    return a+b\n",
    "x=20\n",
    "y=10\n",
    "print(f\"First variable is {x} & second variable is {y}.\")\n",
    "print(f\"Addition:{x} + {y} = {addition(x,y)}\")\n",
    "print(f\"Subtraction:{x} - {y} = {subtraction(x,y)}\")\n",
    "print(f\"Multiplication:{x} * {y} = {multiplication(x,y)}\")\n",
    "print(f\"Division:{x} / {y} = {division(x,y)}\")"
   ]
  },
  {
   "cell_type": "markdown",
   "id": "f2b2519c",
   "metadata": {},
   "source": [
    "#### Q.2. What is the difference between the following operators:\n",
    "#### (i) ‘/’ & ‘//’\n",
    "#### (ii) ‘**’ & ‘^’"
   ]
  },
  {
   "cell_type": "code",
   "execution_count": 17,
   "id": "0cbfad0f",
   "metadata": {},
   "outputs": [
    {
     "name": "stdout",
     "output_type": "stream",
     "text": [
      "4.333333333333333\n",
      "4\n",
      "32\n",
      "7\n"
     ]
    }
   ],
   "source": [
    "# ‘/’ Division\n",
    "print(13 / 3) #4.333333333333333\n",
    "\n",
    "# ‘//’ Floor Division\n",
    "print(13 // 3) #4\n",
    "\n",
    "# **’ Exponentiation\n",
    "print(2**5) # 2*2*2*2*2=32\n",
    "\n",
    "#  ‘^’ XOR \n",
    "print(2^5) \n",
    "\n",
    "\"\"\"The ^ operator compares each bit and set it to 1 if only one is 1, \n",
    "otherwise (if both are 1 or both are 0) it is set to 0:\n",
    "\n",
    "2 = 0000000000000010\n",
    "5 = 0000000000000101\n",
    "--------------------\n",
    "7 = 0000000000000111          \n",
    "--------------------\n",
    "\"\"\"\n"
   ]
  },
  {
   "cell_type": "markdown",
   "id": "f3a41c49",
   "metadata": {},
   "source": [
    "#### Q.3. List the logical operators."
   ]
  },
  {
   "cell_type": "code",
   "execution_count": 22,
   "id": "59f8eb62",
   "metadata": {},
   "outputs": [
    {
     "name": "stdout",
     "output_type": "stream",
     "text": [
      "True\n",
      "True\n",
      "False\n"
     ]
    }
   ],
   "source": [
    "x=2\n",
    "\n",
    "# \"and\" Returns True if both statements are true\n",
    "print(x>1 and x<5) #True\n",
    "\n",
    "# \"or\" Returns True if one of the statement is true\n",
    "print(x>5 or x<5) #True\n",
    "\n",
    "# \"not\" Reverse the result, returns False if the result is true\n",
    "print(not(x>1 and x<5)) #False"
   ]
  },
  {
   "cell_type": "markdown",
   "id": "868e1dbe",
   "metadata": {},
   "source": [
    "#### Q.4. Explain right shift operator and left shift operator with examples."
   ]
  },
  {
   "cell_type": "code",
   "execution_count": 46,
   "id": "aa8ac3b9",
   "metadata": {},
   "outputs": [
    {
     "name": "stdout",
     "output_type": "stream",
     "text": [
      "10 >> 2 : 2\n",
      "10 << 2 : 40\n"
     ]
    }
   ],
   "source": [
    "import numpy as np\n",
    "\n",
    "# Right Shift Operator (>>)\n",
    "num=10 # 1010\n",
    "result = num >> 2    # 0010\n",
    "print(f\"{num} >> 2 : {result}\") \n",
    "\n",
    "\n",
    "# Lef Shift Operator (>>)\n",
    "num=10 # 1010\n",
    "result = num << 2    # 101000\n",
    "print(f\"{num} << 2 : {result}\") "
   ]
  },
  {
   "cell_type": "markdown",
   "id": "9b342c1d",
   "metadata": {},
   "source": [
    "#### Q.5. Create a list containing int type data of length 15. Then write a code to check if 10 is present in the list or not."
   ]
  },
  {
   "cell_type": "code",
   "execution_count": 35,
   "id": "292fbd97",
   "metadata": {},
   "outputs": [
    {
     "name": "stdout",
     "output_type": "stream",
     "text": [
      "my_list: [5, 10, 15, 20, 25, 30, 35, 40, 45, 50, 55, 60, 65, 70, 75]\n",
      "my_list size: 15\n",
      "10 is present in the list \n"
     ]
    }
   ],
   "source": [
    "my_list=[] \n",
    "for i in range(5,80,5):\n",
    "    my_list.append(i)\n",
    "print(f\"my_list: {my_list}\")\n",
    "print(f\"my_list size: {len(my_list)}\")\n",
    "\n",
    "if 10 in my_list:\n",
    "    print(\"10 is present in the list \")\n",
    "else:\n",
    "    print(\"10 is not present in the list \")    "
   ]
  }
 ],
 "metadata": {
  "kernelspec": {
   "display_name": "Python 3 (ipykernel)",
   "language": "python",
   "name": "python3"
  },
  "language_info": {
   "codemirror_mode": {
    "name": "ipython",
    "version": 3
   },
   "file_extension": ".py",
   "mimetype": "text/x-python",
   "name": "python",
   "nbconvert_exporter": "python",
   "pygments_lexer": "ipython3",
   "version": "3.10.9"
  }
 },
 "nbformat": 4,
 "nbformat_minor": 5
}
