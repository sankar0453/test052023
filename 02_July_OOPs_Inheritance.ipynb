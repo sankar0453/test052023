{
  "nbformat": 4,
  "nbformat_minor": 0,
  "metadata": {
    "colab": {
      "provenance": []
    },
    "kernelspec": {
      "name": "python3",
      "display_name": "Python 3"
    },
    "language_info": {
      "name": "python"
    }
  },
  "cells": [
    {
      "cell_type": "markdown",
      "source": [
        "1. Explain what inheritance is in object-oriented programming and why it is used."
      ],
      "metadata": {
        "id": "Vt4_YarEYOVb"
      }
    },
    {
      "cell_type": "code",
      "execution_count": null,
      "metadata": {
        "id": "KqE1I7tqX95k"
      },
      "outputs": [],
      "source": [
        "# Inheritance allows the creation of new classes based on the existing class.\n",
        "# It enables the code reusability and establish the hirarchiel relationship between the classes.\n",
        "# Through inheritance, derived classes inherit properties and behavior from base (parent) classes, promoting code reuse and enhancing modularity.\n",
        "# Inheritance offers a simple, understandable model structure.\n",
        "# Less development and maintenance expenses result from an inheritance.\n",
        "\n",
        "class Parent:\n",
        "  {Body}\n",
        "class Child(Parent):\n",
        "  {Body}\n"
      ]
    },
    {
      "cell_type": "markdown",
      "source": [
        "2. Discuss the concept of single inheritance and multiple inheritance, highlighting their\n",
        "differences and advantages."
      ],
      "metadata": {
        "id": "EeA0P3MWYPNW"
      }
    },
    {
      "cell_type": "code",
      "source": [
        "# Single Inheritence : When a child class inherits from only one parent class. It is called single Inheritence.\n",
        "\n",
        "class Person:\n",
        "  def __init__(self, name, age):\n",
        "    self.name=name\n",
        "    self.age=age\n",
        "\n",
        "  def display(self):\n",
        "    print(self.name ,self.age)\n",
        "\n",
        "class Student(Person):\n",
        "  def __init__(self,name, age, dob):\n",
        "    self.name=name\n",
        "    self.age=age\n",
        "    self.dob=dob\n",
        "\n",
        "  def display_info(self):\n",
        "    print(self.name ,self.age,self.dob)\n",
        "\n",
        "obj = Student(\"Mayank\", 23, \"16-03-2000\")\n",
        "obj.display_info()\n",
        "\n"
      ],
      "metadata": {
        "colab": {
          "base_uri": "https://localhost:8080/"
        },
        "id": "EhEoaYZ0YoAu",
        "outputId": "808c564a-339c-4cbc-ec29-399a24438a19"
      },
      "execution_count": null,
      "outputs": [
        {
          "output_type": "stream",
          "name": "stdout",
          "text": [
            "Mayank 23 16-03-2000\n"
          ]
        }
      ]
    },
    {
      "cell_type": "markdown",
      "source": [
        "3. Explain the terms \"base class\" and \"derived class\" in the context of inheritance."
      ],
      "metadata": {
        "id": "S-bhOAauYPQO"
      }
    },
    {
      "cell_type": "code",
      "source": [
        "# Base class (Super class or Parent class):\n",
        "# A base class is the class from which other classes inherit. It is also known as Super class or Parent class.\n",
        "# It serves as a blueprint for creating derived classes. The base class defines the common attributes and behaviour that can be shared by multiple derived classes.\n",
        "\n",
        "# Dervied class (Subclass or child class):\n",
        "# A child class the class that inherit propertises and methods from its base class. It is also know as Child class or subclass.\n",
        "# The derived class inherits all the attributes and methods defined in the base class and can also have its own unique attributes and methods."
      ],
      "metadata": {
        "id": "UNG3vUABYolD"
      },
      "execution_count": null,
      "outputs": []
    },
    {
      "cell_type": "markdown",
      "source": [
        "4. What is the significance of the \"protected\" access modifier in inheritance? How does\n",
        "it differ from \"private\" and \"public\" modifiers?"
      ],
      "metadata": {
        "id": "ZCM8L_rdYPTO"
      }
    },
    {
      "cell_type": "code",
      "source": [
        "# In python, access modifiers like public, private and protected determine the accessability of attributes and methods within a class or its subclasses.\n",
        "# However, it's important to note that Python uses naming conventions rather than strict access modifiers.\n",
        "\n",
        "# In Python, a single underscore prefix (_) indicates a \"protected\" attribute or method. Here's a breakdown of the significance of the \"protected\"\n",
        "# access modifier in inheritance, along with comparisons to \"private\" and \"public\":\n",
        "\n",
        "# Public Access Modifier:\n",
        "\n",
        "# No underscore prefix.\n",
        "# Attributes and methods are accessible from anywhere, both within the class and outside of it.\n",
        "# Can be accessed directly by instances of the class.\n",
        "# Example: attribute or def method(self):\n",
        "# Protected Access Modifier:\n",
        "\n",
        "# Single underscore prefix (_) before an attribute or method name.\n",
        "# Serves as a convention to indicate that an attribute or method should be treated as \"protected\" or intended for internal use.\n",
        "# Accessible within the class and its subclasses (derived classes).\n",
        "# Not intended for direct external access, but can still be accessed if necessary.\n",
        "# Example: _attribute or def _method(self):\n",
        "# Private Access Modifier:\n",
        "\n",
        "# Double underscore prefix (__) before an attribute or method name.\n",
        "# Provides name mangling, meaning the attribute or method name is modified to prevent accidental overriding in subclasses.\n",
        "# Accessible only within the class, not available to subclasses or external code.\n",
        "# Usually intended for internal use within the class and to prevent unintentional changes.\n",
        "# Example: __attribute or def __method(self):"
      ],
      "metadata": {
        "id": "05nFgFz7YpeT"
      },
      "execution_count": 4,
      "outputs": []
    },
    {
      "cell_type": "markdown",
      "source": [
        "5. What is the purpose of the \"super\" keyword in inheritance? Provide an example.\n",
        "\n"
      ],
      "metadata": {
        "id": "69HawXCWYPWQ"
      }
    },
    {
      "cell_type": "code",
      "source": [
        "# The super keyword in Python useful to call methods from the parent class in the context of Inheritance.\n",
        "# It allows you to invoke the superclass 's version of methods, to provididng a way to extend or overide the behavior defined in parent class.\n",
        "\n",
        "class Vehicle:\n",
        "  def __init__(self,brand):\n",
        "    self.brand=brand\n",
        "\n",
        "  def display_info(self):\n",
        "    print(f\"Brand: {self.brand}\")\n",
        "\n",
        "class Car(Vehicle):\n",
        "    def __init__(self, brand, model):\n",
        "        super().__init__(brand)  # Call the superclass's __init__ method\n",
        "        self.model = model\n",
        "\n",
        "    def display_info(self):\n",
        "        super().display_info()  # Call the superclass's display_info method\n",
        "        print(f\"Model: {self.model}\")\n",
        "\n",
        "\n",
        "car1 = Car(\"Toyota\", \"Corolla\")\n",
        "car1.display_info()\n"
      ],
      "metadata": {
        "id": "7EmO3DTiYqJ6",
        "colab": {
          "base_uri": "https://localhost:8080/"
        },
        "outputId": "a846d0ec-e661-4fc8-cbad-87ca30a60ab5"
      },
      "execution_count": 5,
      "outputs": [
        {
          "output_type": "stream",
          "name": "stdout",
          "text": [
            "Brand: Toyota\n",
            "Model: Corolla\n"
          ]
        }
      ]
    },
    {
      "cell_type": "markdown",
      "source": [
        "6. Create a base class called \"Vehicle\" with attributes like \"make\", \"model\", and \"year\".\n",
        "Then, create a derived class called \"Car\" that inherits from \"Vehicle\" and adds an\n",
        "attribute called \"fuel_type\". Implement appropriate methods in both classes."
      ],
      "metadata": {
        "id": "51QLY3vaYPZO"
      }
    },
    {
      "cell_type": "code",
      "source": [
        "\n",
        "class Vehicle:\n",
        "  def __init__(self,make,model,year):\n",
        "    self.make=make\n",
        "    self.model=model\n",
        "    self.year=year\n",
        "\n",
        "  def display_info(self):\n",
        "    print(f\"Make: {self.make}\")\n",
        "    print(f\"Model: {self.model}\")\n",
        "    print(f\"Year: {self.year}\")\n",
        "\n",
        "class Car(Vehicle):\n",
        "  def __init__(self,make,model,year,fuel_type):\n",
        "    super().__init__(make, model, year) # Call the superclass's __init__ method\n",
        "    self.fuel_type=fuel_type\n",
        "\n",
        "  def display_info(self):\n",
        "    super().display_info()  # Call the superclass's display_info method\n",
        "    print(f\"Fuel Type: {self.fuel_type}\")\n",
        "\n",
        "# Example\n",
        "vehicle1 = Vehicle(\"Toyota\", \"Corolla\", 2021)\n",
        "vehicle1.display_info()\n",
        "print()\n",
        "\n",
        "car1 = Car(\"Honda\", \"Civic\", 2022, \"Petrol\")\n",
        "car1.display_info()\n"
      ],
      "metadata": {
        "id": "erWrN86LYqjS",
        "colab": {
          "base_uri": "https://localhost:8080/"
        },
        "outputId": "f144b950-e388-4a1e-c704-5f1b01c4c9ab"
      },
      "execution_count": 8,
      "outputs": [
        {
          "output_type": "stream",
          "name": "stdout",
          "text": [
            "Make: Toyota\n",
            "Model: Corolla\n",
            "Year: 2021\n",
            "\n",
            "Make: Honda\n",
            "Model: Civic\n",
            "Year: 2022\n",
            "Fuel Type: Petrol\n"
          ]
        }
      ]
    },
    {
      "cell_type": "markdown",
      "source": [
        "7. Create a base class called \"Employee\" with attributes like \"name\" and \"salary.\"\n",
        "Derive two classes, \"Manager\" and \"Developer,\" from \"Employee.\" Add an additional\n",
        "attribute called \"department\" for the \"Manager\" class and \"programming_language\"\n",
        "for the \"Developer\" class."
      ],
      "metadata": {
        "id": "GavxW_IqYPcU"
      }
    },
    {
      "cell_type": "code",
      "source": [
        "class Employee:\n",
        "  def __init__(self, name, salary):\n",
        "    self.name=name\n",
        "    self.salary=salary\n",
        "\n",
        "  def display_info(self):\n",
        "    print(f\"Name: {self.name}\")\n",
        "    print(f\"Salary: {self.salary}\")\n",
        "\n",
        "class Manager(Employee):\n",
        "  def __init__(self,name, salary, department ):\n",
        "    super().__init__(name, salary)\n",
        "    self.department=department\n",
        "\n",
        "  def display_info(self):\n",
        "     super().display_info()\n",
        "     print(f\"Department: {self.department}\")\n",
        "\n",
        "class Developer(Employee):\n",
        "  def __init__(self,name, salary, programming_language ):\n",
        "    super().__init__(name, salary)\n",
        "    self.programming_language=programming_language\n",
        "\n",
        "  def display_info(self):\n",
        "    super().display_info()\n",
        "    print(f\"programming language: {self.programming_language}\")\n",
        "\n",
        "# Example\n",
        "employee1 = Employee(\"John Doe\", 50000)\n",
        "employee1.display_info()\n",
        "\n",
        "manager1 = Manager(\"Jane Smith\", 80000, \"Marketing\")\n",
        "manager1.display_info()\n",
        "\n",
        "developer1 = Developer(\"Mike Johnson\", 60000, \"Python\")\n",
        "developer1.display_info()"
      ],
      "metadata": {
        "id": "iISIF3D8YrDh",
        "colab": {
          "base_uri": "https://localhost:8080/"
        },
        "outputId": "ed63e943-4748-487c-d469-9a1d081786d4"
      },
      "execution_count": 16,
      "outputs": [
        {
          "output_type": "stream",
          "name": "stdout",
          "text": [
            "Name: John Doe\n",
            "Salary: 50000\n",
            "Name: Jane Smith\n",
            "Salary: 80000\n",
            "Department: Marketing\n",
            "Name: Mike Johnson\n",
            "Salary: 60000\n",
            "programming language: Python\n"
          ]
        }
      ]
    },
    {
      "cell_type": "markdown",
      "source": [
        "8. Design a base class called \"Shape\" with attributes like \"colour\" and \"border_width.\"\n",
        "Create derived classes, \"Rectangle\" and \"Circle,\" that inherit from \"Shape\" and add\n",
        "specific attributes like \"length\" and \"width\" for the \"Rectangle\" class and \"radius\" for\n",
        "the \"Circle\" class."
      ],
      "metadata": {
        "id": "O0A1jn4iYPff"
      }
    },
    {
      "cell_type": "code",
      "source": [
        "class Shape:\n",
        "    def __init__(self, colour, border_width):\n",
        "        self.colour = colour\n",
        "        self.border_width = border_width\n",
        "\n",
        "    def display_info(self):\n",
        "        print(f\"Colour: {self.colour}\")\n",
        "        print(f\"Border Width: {self.border_width}\")\n",
        "\n",
        "\n",
        "class Rectangle(Shape):\n",
        "    def __init__(self, colour, border_width, length, width):\n",
        "        super().__init__(colour, border_width)\n",
        "        self.length = length\n",
        "        self.width = width\n",
        "\n",
        "    def display_info(self):\n",
        "        super().display_info()\n",
        "        print(f\"Length: {self.length}\")\n",
        "        print(f\"Width: {self.width}\")\n",
        "\n",
        "\n",
        "class Circle(Shape):\n",
        "    def __init__(self, colour, border_width, radius):\n",
        "        super().__init__(colour, border_width)\n",
        "        self.radius = radius\n",
        "\n",
        "    def display_info(self):\n",
        "        super().display_info()\n",
        "        print(f\"Radius: {self.radius}\")\n",
        "\n",
        "\n",
        "# Example\n",
        "shape1 = Shape(\"Red\", 2)\n",
        "shape1.display_info()\n",
        "\n",
        "rectangle1 = Rectangle(\"Blue\", 1, 4, 6)\n",
        "rectangle1.display_info()\n",
        "\n",
        "circle1 = Circle(\"Green\", 3, 5)\n",
        "circle1.display_info()\n"
      ],
      "metadata": {
        "id": "bnqbgFizYsAA",
        "colab": {
          "base_uri": "https://localhost:8080/"
        },
        "outputId": "b8bbdad3-b228-4892-899e-ba0c854691ce"
      },
      "execution_count": 15,
      "outputs": [
        {
          "output_type": "stream",
          "name": "stdout",
          "text": [
            "Colour: Red\n",
            "Border Width: 2\n",
            "Colour: Blue\n",
            "Border Width: 1\n",
            "Length: 4\n",
            "Width: 6\n",
            "Colour: Green\n",
            "Border Width: 3\n",
            "Radius: 5\n"
          ]
        }
      ]
    },
    {
      "cell_type": "markdown",
      "source": [
        "9. Create a base class called \"Device\" with attributes like \"brand\" and \"model.\" Derive\n",
        "two classes, \"Phone\" and \"Tablet,\" from \"Device.\" Add specific attributes like\n",
        "\"screen_size\" for the \"Phone\" class and \"battery_capacity\" for the \"Tablet\" class."
      ],
      "metadata": {
        "id": "UPKJlt2QYPi-"
      }
    },
    {
      "cell_type": "code",
      "source": [
        "class Device:\n",
        "    def __init__(self, brand, model):\n",
        "        self.brand = brand\n",
        "        self.model = model\n",
        "\n",
        "    def display_info(self):\n",
        "        print(f\"Brand: {self.brand}\")\n",
        "        print(f\"Model: {self.model}\")\n",
        "\n",
        "\n",
        "class Phone(Device):\n",
        "    def __init__(self, brand, model, screen_size):\n",
        "        super().__init__(brand, model)\n",
        "        self.screen_size = screen_size\n",
        "\n",
        "    def display_info(self):\n",
        "        super().display_info()\n",
        "        print(f\"Screen Size: {self.screen_size}\")\n",
        "\n",
        "\n",
        "class Tablet(Device):\n",
        "    def __init__(self, brand, model, battery_capacity):\n",
        "        super().__init__(brand, model)\n",
        "        self.battery_capacity = battery_capacity\n",
        "\n",
        "    def display_info(self):\n",
        "        super().display_info()\n",
        "        print(f\"Battery Capacity: {self.battery_capacity}\")\n",
        "\n",
        "\n",
        "# Example\n",
        "device1 = Device(\"DeviceBrand\", \"DeviceModel\")\n",
        "device1.display_info()\n",
        "\n",
        "phone1 = Phone(\"Samsung\", \"Galaxy S21\", 6.2)\n",
        "phone1.display_info()\n",
        "\n",
        "tablet1 = Tablet(\"Apple\", \"iPad Pro\", 10000)\n",
        "tablet1.display_info()\n"
      ],
      "metadata": {
        "id": "KMqJeB-hYsbU",
        "colab": {
          "base_uri": "https://localhost:8080/"
        },
        "outputId": "a488721d-683f-46fc-e61f-f67bce1514ad"
      },
      "execution_count": 14,
      "outputs": [
        {
          "output_type": "stream",
          "name": "stdout",
          "text": [
            "Brand: DeviceBrand\n",
            "Model: DeviceModel\n",
            "Brand: Samsung\n",
            "Model: Galaxy S21\n",
            "Screen Size: 6.2\n",
            "Brand: Apple\n",
            "Model: iPad Pro\n",
            "Battery Capacity: 10000\n"
          ]
        }
      ]
    },
    {
      "cell_type": "markdown",
      "source": [
        "10. Create a base class called \"BankAccount\" with attributes like \"account_number\" and\n",
        "\"balance.\" Derive two classes, \"SavingsAccount\" and \"CheckingAccount,\" from\n",
        "\"BankAccount.\" Add specific methods like \"calculate_interest\" for the\n",
        "\"SavingsAccount\" class and \"deduct_fees\" for the \"CheckingAccount\" class."
      ],
      "metadata": {
        "id": "LH08rNHgYkUE"
      }
    },
    {
      "cell_type": "code",
      "source": [
        "class BankAccount:\n",
        "    def __init__(self, account_number, balance):\n",
        "        self.account_number = account_number\n",
        "        self.balance = balance\n",
        "\n",
        "    def display_info(self):\n",
        "        print(f\"Account Number: {self.account_number}\")\n",
        "        print(f\"Balance: ${self.balance:.2f}\")\n",
        "\n",
        "\n",
        "class SavingsAccount(BankAccount):\n",
        "    def __init__(self, account_number, balance):\n",
        "        super().__init__(account_number, balance)\n",
        "\n",
        "    def calculate_interest(self, interest_rate):\n",
        "        interest_amount = self.balance * (interest_rate / 100)\n",
        "        self.balance += interest_amount\n",
        "        print(f\"Interest calculated: ${interest_amount:.2f}\")\n",
        "        print(f\"Updated Balance: ${self.balance:.2f}\")\n",
        "\n",
        "\n",
        "class CheckingAccount(BankAccount):\n",
        "    def __init__(self, account_number, balance):\n",
        "        super().__init__(account_number, balance)\n",
        "\n",
        "    def deduct_fees(self, fee_amount):\n",
        "        self.balance -= fee_amount\n",
        "        print(f\"Fees deducted: ${fee_amount:.2f}\")\n",
        "        print(f\"Updated Balance: ${self.balance:.2f}\")\n",
        "\n",
        "\n",
        "# Example\n",
        "account1 = BankAccount(\"1234567890\", 1000)\n",
        "account1.display_info()\n",
        "\n",
        "savings_account1 = SavingsAccount(\"9876543210\", 5000)\n",
        "savings_account1.display_info()\n",
        "savings_account1.calculate_interest(2.5)\n",
        "\n",
        "checking_account1 = CheckingAccount(\"5678901234\", 2000)\n",
        "checking_account1.display_info()\n",
        "checking_account1.deduct_fees(10)\n"
      ],
      "metadata": {
        "id": "oqmCQDQoYs_j",
        "colab": {
          "base_uri": "https://localhost:8080/"
        },
        "outputId": "d4144995-780e-49ce-8b72-d98f7e624f7e"
      },
      "execution_count": 13,
      "outputs": [
        {
          "output_type": "stream",
          "name": "stdout",
          "text": [
            "Account Number: 1234567890\n",
            "Balance: $1000.00\n",
            "Account Number: 9876543210\n",
            "Balance: $5000.00\n",
            "Interest calculated: $125.00\n",
            "Updated Balance: $5125.00\n",
            "Account Number: 5678901234\n",
            "Balance: $2000.00\n",
            "Fees deducted: $10.00\n",
            "Updated Balance: $1990.00\n"
          ]
        }
      ]
    }
  ]
}