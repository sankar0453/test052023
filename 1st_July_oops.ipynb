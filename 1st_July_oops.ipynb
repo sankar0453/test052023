{
  "nbformat": 4,
  "nbformat_minor": 0,
  "metadata": {
    "colab": {
      "provenance": []
    },
    "kernelspec": {
      "name": "python3",
      "display_name": "Python 3"
    },
    "language_info": {
      "name": "python"
    }
  },
  "cells": [
    {
      "cell_type": "markdown",
      "source": [
        "####1. What is the primary goal of Object-Oriented Programming (OOP)?\n"
      ],
      "metadata": {
        "id": "fMEJ1gcT4BO4"
      }
    },
    {
      "cell_type": "markdown",
      "source": [
        "The primary goal of Object oriented programming is to provide a structure and organize the code that the models realworld entities and their interactions. OOP aims to improve code resusability, maintanabiloty and scalability by emphasising the following key principles.  \n",
        "\n",
        "1.   Encapsulation  \n",
        "        Encapuslation is the process of wrapping the data ata and related behavior (methods/functions) into objects. It helps to maintaine modularity of the code.\n",
        "\n",
        "2.   Abstraction  \n",
        "        Abstraction involves simplifying complex systems by breaking them down into smaller, more manageable units. In OOP, classes and objects provide abstraction by representing real-world concepts as abstract data types. Abstraction enables developers to focus on essential features and ignore unnecessary details.\n",
        "2.   Inheritance  \n",
        "        Inheritance allows the creation of new classes based on existing classes. It enables the reuse of code and the establishment of hierarchical relationships between classes. Through inheritance, derived classes inherit properties and behavior from base (parent) classes, promoting code reuse and enhancing modularity.\n",
        "2.   Polymoprphism  \n",
        "        Polymorphism means the ability of objects to take on multiple forms or behaviors. It allows different objects to respond differently to the same message or method call. Polymorphism simplifies code by enabling the use of generic programming constructs and promoting flexibility and extensibility.\n",
        "\n",
        "\n"
      ],
      "metadata": {
        "id": "wpHe5EImth8M"
      }
    },
    {
      "cell_type": "markdown",
      "source": [
        "2. What is an object in Python?\n",
        "\n"
      ],
      "metadata": {
        "id": "pYHFeqyV4BRn"
      }
    },
    {
      "cell_type": "code",
      "source": [
        "# In python An Object is the instance of a class. It is a fundamental concept of OOP and represents real world entity of a class.\n",
        "\n",
        "\n",
        "class Person:\n",
        "  def __init__(self, name ,age):#intialization\n",
        "    self.name=name\n",
        "    self.age=age\n",
        "\n",
        "  def say_hello(self):\n",
        "      print(f\"Hello, my name is {self.name}!\")\n",
        "\n",
        "\n",
        "person=Person(\"Gowrisankar\",25)#person object from Person class\n",
        "person.say_hello()\n"
      ],
      "metadata": {
        "id": "-xwL5Vv4nRz4",
        "colab": {
          "base_uri": "https://localhost:8080/"
        },
        "outputId": "b630f440-342e-4b81-974c-998000288e9d"
      },
      "execution_count": null,
      "outputs": [
        {
          "output_type": "stream",
          "name": "stdout",
          "text": [
            "Hello, my name is Gowrisankar!\n"
          ]
        }
      ]
    },
    {
      "cell_type": "code",
      "source": [],
      "metadata": {
        "id": "ROPt_mLh3FIG"
      },
      "execution_count": null,
      "outputs": []
    },
    {
      "cell_type": "markdown",
      "source": [
        "3. What is a class in Python?\n"
      ],
      "metadata": {
        "id": "VEHIy5UJ4BUN"
      }
    },
    {
      "cell_type": "code",
      "source": [
        "# In python An class is blue print or template that define the structure, behaviour and attributes of an object.\n",
        "# It serves as foundation for creating objects, which are the instance of the class.\n",
        "\n",
        "\n",
        "class Person:\n",
        "  def __init__(self, name ,age):#intialization\n",
        "    self.name=name\n",
        "    self.age=age\n",
        "\n",
        "  def say_hello(self):\n",
        "      print(f\"Hello, my name is {self.name}!\")\n",
        "\n",
        "\n",
        "person=Person(\"Gowrisankar\",25)#person object from Person class\n",
        "person.say_hello()\n"
      ],
      "metadata": {
        "id": "v7GNCOcbnSB9"
      },
      "execution_count": null,
      "outputs": []
    },
    {
      "cell_type": "markdown",
      "source": [
        "4. What are attributes and methods in a class?\n"
      ],
      "metadata": {
        "id": "aArQf_x74BW9"
      }
    },
    {
      "cell_type": "code",
      "source": [
        "# Attributes :\n",
        "# Attributes are variable that holds data and represents the state of an object. They define properties or characterstics of an object.\n",
        "# Each object created from a class has its own set of attribute values.\n",
        "# Attributes can be accessed and modified with in the class methods or external code interacting with Objects.\n",
        "\n",
        "\n",
        "# Methods :\n",
        "# Methods are functions defined in a class that represents behaviour of the Object.\n",
        "# They operate on the attributes of the class and can perform various operations or actions.\n",
        "# Methods are used to interact with the object, modify its state, retrieve or manipulate its data, or perform specific tasks related to the object's behavior."
      ],
      "metadata": {
        "id": "rCgk3V8_nSRb"
      },
      "execution_count": 24,
      "outputs": []
    },
    {
      "cell_type": "markdown",
      "source": [
        "5. What is the difference between class variables and instance variables in Python?\n"
      ],
      "metadata": {
        "id": "mfVPII3h4BZ0"
      }
    },
    {
      "cell_type": "code",
      "source": [
        "# Class variable :\n",
        "#  A class varibale declared at the class level.\n",
        "#  They are shared by all instances of the class\n",
        "#  They can be accessed by class name or any instance of class\n",
        "#  A class varibale can be modified and accessed both with in internal code and by external code\n",
        "\n",
        "# Instance variable :\n",
        "#  An Instance variable diclared with in a constructor or methods of the class\n",
        "#  Each instance of the class has its own instance variables,\n",
        "#  Instance variables represent the unique state or characteristics of each object/instance.\n",
        "#  They are accessed and modified using the instance of the class.\n",
        "#  Instance variables can have different values for each instance of the class.\n",
        "\n",
        "\n",
        "class MyClass:\n",
        "    class_variable = 0  # Class variable\n",
        "\n",
        "    def __init__(self, instance_variable):\n",
        "        self.instance_variable = instance_variable  # Instance variable\n",
        "\n",
        "    def update_variables(self, new_value):\n",
        "        MyClass.class_variable = new_value  # Accessing and modifying class variable\n",
        "        self.instance_variable = new_value  # Accessing and modifying instance variable\n",
        "\n",
        "\n",
        "# Accessing class variable\n",
        "print(MyClass.class_variable)  # Output: 0\n",
        "\n",
        "# Creating instances and accessing instance variables\n",
        "obj1 = MyClass(10)\n",
        "obj2 = MyClass(20)\n",
        "print(obj1.instance_variable)  # Output: 10\n",
        "print(obj2.instance_variable)  # Output: 20\n",
        "\n",
        "# Modifying instance variables\n",
        "obj1.update_variables(30)\n",
        "print(obj1.instance_variable)  # Output: 30\n",
        "print(obj2.instance_variable)  # Output: 20\n",
        "\n",
        "# Modifying class variable\n",
        "print(MyClass.class_variable)  # Output: 30\n",
        "\n"
      ],
      "metadata": {
        "id": "DLQRkyWknS2v",
        "colab": {
          "base_uri": "https://localhost:8080/"
        },
        "outputId": "ac601298-7723-4a2f-95d0-9e87362b8dd6"
      },
      "execution_count": 25,
      "outputs": [
        {
          "output_type": "stream",
          "name": "stdout",
          "text": [
            "0\n",
            "10\n",
            "20\n",
            "30\n",
            "20\n",
            "30\n"
          ]
        }
      ]
    },
    {
      "cell_type": "markdown",
      "source": [
        "6. What is the purpose of the self parameter in Python class methods?\n"
      ],
      "metadata": {
        "id": "JHWyHhh44Bcn"
      }
    },
    {
      "cell_type": "code",
      "source": [
        "# In python , self parameter is convention used in class methods to refer to the instance of the class itself.\n",
        "# he purpose of the self parameter is to access and manipulate the instance variables and other attributes of the object within the class methods.\n",
        "# By convention, self is the name commonly used for the first parameter,\n",
        "# but you can choose any valid parameter name, although using self is recommended to maintain consistency and improve code readability.\n",
        "\n",
        "# Here are a few key points about the self parameter:\n",
        "\n",
        "# Accessing Instance Variables: Inside a class method, you use self to access the instance variables of the object.\n",
        "# For example, self.variable_name allows you to access or modify the value of an instance variable.\n",
        "\n",
        "# Method Invocation: When you call a method on an object, Python automatically passes the object itself as the self argument.\n",
        "# For example, object_name.method_name() is equivalent to Class.method_name(object_name), with object_name being passed as the self argument implicitly.\n",
        "\n",
        "# Multiple Instances: self allows each instance of a class to maintain its own separate state. By referencing self, methods can operate on the specific instance's attributes and modify them independently from other instances.\n",
        "\n",
        "# Creating and Modifying Attributes: self is used to create or modify instance variables within a class method.\n",
        "# By using self.variable_name = value, you can create or modify an instance variable for the specific object.\n",
        "\n",
        "class MyClass:\n",
        "    def __init__(self, name):\n",
        "        self.name = name\n",
        "\n",
        "    def greet(self):\n",
        "        print(\"Hello, my name is\", self.name)\n",
        "\n",
        "\n",
        "# Creating an instance of MyClass\n",
        "obj = MyClass(\"Alice\")\n",
        "\n",
        "# Calling the greet method on the instance\n",
        "obj.greet()  # Output: Hello, my name is Alice\n"
      ],
      "metadata": {
        "id": "xkvm5ilTnTC6"
      },
      "execution_count": null,
      "outputs": []
    },
    {
      "cell_type": "markdown",
      "source": [
        "7. For a library management system, you have to design the \"Book\" class with OOP\n",
        "principles in mind.  \n",
        "The “Book” class will have following attributes:  \n",
        "a. title: Represents the title of the book.  \n",
        "b. author: Represents the author(s) of the book.  \n",
        "c. isbn: Represents the ISBN (International Standard Book Number) of the book.  \n",
        "d. publication_year: Represents the year of publication of the book.  \n",
        "e. available_copies: Represents the number of copies available for checkout.    \n",
        "The class will also include the following methods:  \n",
        "  a. check_out(self): Decrements the available copies by one if there are copies\n",
        "  available for checkout.  \n",
        "  b. return_book(self): Increments the available copies by one when a book is\n",
        "  returned.  \n",
        "  c. display_book_info(self): Displays the information about the book, including its\n",
        "  attributes and the number of available copies.\n"
      ],
      "metadata": {
        "id": "HImWk6tE4Bfm"
      }
    },
    {
      "cell_type": "code",
      "source": [
        "class Book:\n",
        "  def __init__(self, title, author, isbn, publication_year,available_copies):\n",
        "    self.title=title\n",
        "    self.author=author\n",
        "    self.isbn=isbn\n",
        "    self.publication_year=publication_year\n",
        "    self.available_copies=available_copies\n",
        "\n",
        "  def check_out(self):\n",
        "      print('Check out')\n",
        "      if self.available_copies>0:\n",
        "        self.available_copies-=1\n",
        "        print(f\"Book '{self.title}' checked out successfully.\")\n",
        "        return True\n",
        "      else:\n",
        "        print(f\"Sorry, '{self.title}' is currently unavailable for checkout.\")\n",
        "        return False\n",
        "\n",
        "  def return_book(self):\n",
        "      self.available_copies += 1\n",
        "      print(f\"Book '{self.title}' returned successfully.\")\n",
        "\n",
        "  def display_book_info(self):\n",
        "    if self.available_copies>0:\n",
        "      print(f\"Book Title: {self.title}\")\n",
        "      print(f\"Author(s): {self.author}\")\n",
        "      print(f\"ISBN: {self.isbn}\")\n",
        "      print(f\"Publication Year: {self.publication_year}\")\n",
        "      print(f\"Available Copies: {self.available_copies}\")\n",
        "    else:\n",
        "      print(f\"Sorry, '{self.title}' is currently unavailable for checkout.\")\n"
      ],
      "metadata": {
        "id": "vv5cZqysnTRT"
      },
      "execution_count": 2,
      "outputs": []
    },
    {
      "cell_type": "code",
      "source": [
        "class Library:\n",
        "  def __init__(self):\n",
        "    self.books=[]\n",
        "\n",
        "  def add_book(self, book):\n",
        "    self.books.append(book)\n",
        "\n",
        "  def remove_book(self, book):\n",
        "    self.books.remove(book)\n",
        "\n",
        "  def find_book_by_title(self, title):\n",
        "    for book in self.books:\n",
        "      if book.title.lower() == title.lower():\n",
        "        return book\n",
        "    return None\n",
        "\n",
        "  def display_all_books(self):\n",
        "    for book in self.books:\n",
        "      book.display_book_info()\n",
        "      print()\n",
        "\n"
      ],
      "metadata": {
        "id": "VZLaTKUun88C"
      },
      "execution_count": 3,
      "outputs": []
    },
    {
      "cell_type": "code",
      "source": [
        "# Example usage:\n",
        "library = Library()\n",
        "\n",
        "book1 = Book(\"Python Crash Course\", \"Eric Matthes\", \"9781593279288\", 2019, 5)\n",
        "book2 = Book(\"Clean Code\", \"Robert C. Martin\", \"9780132350884\", 2008, 1)\n",
        "print()\n",
        "\n",
        "library.add_book(book1)\n",
        "print()\n",
        "library.add_book(book2)\n",
        "print()\n",
        "\n",
        "print(\"Display all books in the Library\")\n",
        "library.display_all_books()\n",
        "print()\n",
        "\n",
        "\n",
        "book1.check_out()\n",
        "book1.display_book_info()\n",
        "print()\n",
        "\n",
        "book2.check_out()\n",
        "print()\n",
        "\n",
        "library.display_all_books()\n",
        "print()\n",
        "\n",
        "book2.return_book()\n",
        "print()\n",
        "\n",
        "library.display_all_books()\n",
        "print()"
      ],
      "metadata": {
        "colab": {
          "base_uri": "https://localhost:8080/"
        },
        "id": "LO9b0AQwfx6G",
        "outputId": "37e5ecb4-4f3c-4ca7-ef3b-7acff31d9ceb"
      },
      "execution_count": 4,
      "outputs": [
        {
          "output_type": "stream",
          "name": "stdout",
          "text": [
            "\n",
            "\n",
            "\n",
            "Display all books in the Library\n",
            "Book Title: Python Crash Course\n",
            "Author(s): Eric Matthes\n",
            "ISBN: 9781593279288\n",
            "Publication Year: 2019\n",
            "Available Copies: 5\n",
            "\n",
            "Book Title: Clean Code\n",
            "Author(s): Robert C. Martin\n",
            "ISBN: 9780132350884\n",
            "Publication Year: 2008\n",
            "Available Copies: 1\n",
            "\n",
            "\n",
            "Check out\n",
            "Book 'Python Crash Course' checked out successfully.\n",
            "Book Title: Python Crash Course\n",
            "Author(s): Eric Matthes\n",
            "ISBN: 9781593279288\n",
            "Publication Year: 2019\n",
            "Available Copies: 4\n",
            "\n",
            "Check out\n",
            "Book 'Clean Code' checked out successfully.\n",
            "\n",
            "Book Title: Python Crash Course\n",
            "Author(s): Eric Matthes\n",
            "ISBN: 9781593279288\n",
            "Publication Year: 2019\n",
            "Available Copies: 4\n",
            "\n",
            "Sorry, 'Clean Code' is currently unavailable for checkout.\n",
            "\n",
            "\n",
            "Book 'Clean Code' returned successfully.\n",
            "\n",
            "Book Title: Python Crash Course\n",
            "Author(s): Eric Matthes\n",
            "ISBN: 9781593279288\n",
            "Publication Year: 2019\n",
            "Available Copies: 4\n",
            "\n",
            "Book Title: Clean Code\n",
            "Author(s): Robert C. Martin\n",
            "ISBN: 9780132350884\n",
            "Publication Year: 2008\n",
            "Available Copies: 1\n",
            "\n",
            "\n"
          ]
        }
      ]
    },
    {
      "cell_type": "code",
      "source": [],
      "metadata": {
        "id": "GmfFtAe6n5jT"
      },
      "execution_count": null,
      "outputs": []
    },
    {
      "cell_type": "markdown",
      "source": [
        "\n",
        "8. For a ticket booking system, you have to design the \"Ticket\" class with OOP\n",
        "principles in mind. The “Ticket” class should have the following attributes:  \n",
        "a. ticket_id: Represents the unique identifier for the ticket.  \n",
        "b. event_name: Represents the name of the event.  \n",
        "c. event_date: Represents the date of the event.  \n",
        "d. venue: Represents the venue of the event.  \n",
        "e. seat_number: Represents the seat number associated with the ticket.  \n",
        "f. price: Represents the price of the ticket.  \n",
        "g. is_reserved: Represents the reservation status of the ticket.  \n",
        "The class also includes the following methods:   \n",
        "a. reserve_ticket(self): Marks the ticket as reserved if it is not already reserved.  \n",
        "b. cancel_reservation(self): Cancels the reservation of the ticket if it is already\n",
        "reserved.  \n",
        "c. display_ticket_info(self): Displays the information about the ticket, including its\n",
        "attributes and reservation status.\n",
        "\n"
      ],
      "metadata": {
        "id": "Ga76SLOv4Bia"
      }
    },
    {
      "cell_type": "code",
      "source": [
        "class Ticket:\n",
        "  def __init__(self,ticket_id,event_name,event_date,venue,seat_number,price):\n",
        "    self.ticket_id=ticket_id\n",
        "    self.event_name=event_name\n",
        "    self.event_date=event_date\n",
        "    self.venue=venue\n",
        "    self.seat_number=seat_number\n",
        "    self.price=price\n",
        "    self.is_reserved=False\n",
        "\n",
        "  def reserve_ticket(self):\n",
        "    print(\"Resrvation intiated\")\n",
        "    if not self.is_reserved:\n",
        "      self.is_reserved=True\n",
        "      print(\"Ticket reserved successfully.\")\n",
        "    else:\n",
        "      print(\"Ticket is already reserved.\")\n",
        "\n",
        "  def cancel_reservation(self):\n",
        "    print(\"Reservation cancellation intiated\")\n",
        "    if self.is_reserved:\n",
        "      self.is_reserved=False\n",
        "      print(\"Reservation canceled successfully.\")\n",
        "    else:\n",
        "      print(\"Ticket is not reserved.\")\n",
        "\n",
        "  def display_ticket_info(self):\n",
        "    print(\"Ticket information...\")\n",
        "    print(\"Ticket ID:\", self.ticket_id)\n",
        "    print(\"Event Name:\", self.event_name)\n",
        "    print(\"Event Date:\", self.event_date)\n",
        "    print(\"Venue:\", self.venue)\n",
        "    print(\"Seat Number:\", self.seat_number)\n",
        "    print(\"Price:\", self.price)\n",
        "    print(\"Reservation Status:\", \"Reserved\" if self.is_reserved else \"Not Reserved\")\n",
        "\n"
      ],
      "metadata": {
        "id": "p5kbC3sDnTlV"
      },
      "execution_count": 21,
      "outputs": []
    },
    {
      "cell_type": "code",
      "source": [
        "ticket1=Ticket(1001,\"AI machine learning workshop\",\"15-07-2023\",\"Hyderabad\",\"6A\",2000)\n",
        "ticket1.display_ticket_info()  # Display initial ticket information\n",
        "print()\n",
        "\n",
        "ticket1.reserve_ticket()  # Reserve the ticket\n",
        "print()\n",
        "ticket1.display_ticket_info()  # Display updated ticket information\n",
        "print()\n",
        "\n",
        "ticket1.reserve_ticket()  # Try to reserve again (already reserved)\n",
        "print()\n",
        "ticket1.cancel_reservation()  # Cancel the reservation\n",
        "print()\n",
        "ticket1.display_ticket_info()  # Display updated ticket information\n",
        "print()\n",
        "\n",
        "\n",
        "ticket1.cancel_reservation()  # Try to cancel again (not reserved)"
      ],
      "metadata": {
        "colab": {
          "base_uri": "https://localhost:8080/"
        },
        "id": "9ttPM2cdKFTh",
        "outputId": "8df251d2-371a-4ac8-cdf2-337713e40144"
      },
      "execution_count": 22,
      "outputs": [
        {
          "output_type": "stream",
          "name": "stdout",
          "text": [
            "Ticket information...\n",
            "Ticket ID: 1001\n",
            "Event Name: AI machine learning workshop\n",
            "Event Date: 15-07-2023\n",
            "Venue: Hyderabad\n",
            "Seat Number: 6A\n",
            "Price: 2000\n",
            "Reservation Status: Not Reserved\n",
            "\n",
            "Resrvation intiated\n",
            "Ticket reserved successfully.\n",
            "\n",
            "Ticket information...\n",
            "Ticket ID: 1001\n",
            "Event Name: AI machine learning workshop\n",
            "Event Date: 15-07-2023\n",
            "Venue: Hyderabad\n",
            "Seat Number: 6A\n",
            "Price: 2000\n",
            "Reservation Status: Reserved\n",
            "\n",
            "Resrvation intiated\n",
            "Ticket is already reserved.\n",
            "\n",
            "Reservation cancellation intiated\n",
            "Reservation canceled successfully.\n",
            "\n",
            "Ticket information...\n",
            "Ticket ID: 1001\n",
            "Event Name: AI machine learning workshop\n",
            "Event Date: 15-07-2023\n",
            "Venue: Hyderabad\n",
            "Seat Number: 6A\n",
            "Price: 2000\n",
            "Reservation Status: Not Reserved\n",
            "\n",
            "Reservation cancellation intiated\n",
            "Ticket is not reserved.\n"
          ]
        }
      ]
    },
    {
      "cell_type": "code",
      "source": [],
      "metadata": {
        "id": "It1R2jt8NcCX"
      },
      "execution_count": null,
      "outputs": []
    },
    {
      "cell_type": "markdown",
      "source": [
        "9. You are creating a shopping cart for an e-commerce website. Using OOP to model\n",
        "the \"ShoppingCart\" functionality the class should contain following attributes and\n",
        "methods:  \n",
        "a. items: Represents the list of items in the shopping cart.  \n",
        "The class also includes the following methods:  \n",
        "a. add_item(self, item): Adds an item to the shopping cart by appending it to the\n",
        "list of items.  \n",
        "b. remove_item(self, item): Removes an item from the shopping cart if it exists in\n",
        "the list.  \n",
        "c. view_cart(self): Displays the items currently present in the shopping cart.  \n",
        "d. clear_cart(self): Clears all items from the shopping cart by reassigning an\n",
        "empty list to the items attribute.\n",
        "\n"
      ],
      "metadata": {
        "id": "TL-BY9RJ4BlL"
      }
    },
    {
      "cell_type": "code",
      "source": [
        "class ShoppingCart:\n",
        "    def __init__(self):\n",
        "        self.items = []\n",
        "\n",
        "    def add_item(self, item):\n",
        "        self.items.append(item)\n",
        "        print(\"Item added to the shopping cart.\")\n",
        "\n",
        "    def remove_item(self, item):\n",
        "        if item in self.items:\n",
        "            self.items.remove(item)\n",
        "            print(\"Item removed from the shopping cart.\")\n",
        "        else:\n",
        "            print(\"Item not found in the shopping cart.\")\n",
        "\n",
        "    def view_cart(self):\n",
        "        if self.items:\n",
        "            print(\"Shopping Cart:\")\n",
        "            for item in self.items:\n",
        "                print(item)\n",
        "        else:\n",
        "            print(\"Shopping cart is empty.\")\n",
        "\n",
        "    def clear_cart(self):\n",
        "        self.items = []\n",
        "        print(\"Shopping cart cleared.\")\n",
        "\n",
        "\n",
        "# Example usage:\n",
        "cart = ShoppingCart()\n",
        "cart.add_item(\"Item 1\")\n",
        "cart.add_item(\"Item 2\")\n",
        "cart.view_cart()  # Display items in the cart\n",
        "\n",
        "cart.remove_item(\"Item 2\")\n",
        "cart.remove_item(\"Item 3\")  # Try to remove an item not present in the cart\n",
        "cart.view_cart()  # Display updated items in the cart\n",
        "\n",
        "cart.clear_cart()\n",
        "cart.view_cart()  # Display cleared cart\n"
      ],
      "metadata": {
        "id": "wjBtkJnenT1d",
        "colab": {
          "base_uri": "https://localhost:8080/"
        },
        "outputId": "c11c4321-8537-4bfa-bd38-c1721cce7ce2"
      },
      "execution_count": 23,
      "outputs": [
        {
          "output_type": "stream",
          "name": "stdout",
          "text": [
            "Item added to the shopping cart.\n",
            "Item added to the shopping cart.\n",
            "Shopping Cart:\n",
            "Item 1\n",
            "Item 2\n",
            "Item removed from the shopping cart.\n",
            "Item not found in the shopping cart.\n",
            "Shopping Cart:\n",
            "Item 1\n",
            "Shopping cart cleared.\n",
            "Shopping cart is empty.\n"
          ]
        }
      ]
    },
    {
      "cell_type": "code",
      "source": [],
      "metadata": {
        "id": "LvI65XFvQJXL"
      },
      "execution_count": null,
      "outputs": []
    },
    {
      "cell_type": "markdown",
      "source": [
        "10. Imagine a school management system. You have to design the \"Student\" class using  \n",
        "OOP concepts.The “Student” class has the following attributes:  \n",
        "a. name: Represents the name of the student.  \n",
        "b. age: Represents the age of the student.  \n",
        "c. grade: Represents the grade or class of the student.  \n",
        "d. student_id: Represents the unique identifier for the student.  \n",
        "e. attendance: Represents the attendance record of the student.  \n",
        "The class should also include the following methods:  \n",
        "a. update_attendance(self, date, status): Updates the attendance record of the\n",
        "student for a given date with the provided status (e.g., present or absent).  \n",
        "b. get_attendance(self): Returns the attendance record of the student.  \n",
        "c. get_average_attendance(self): Calculates and returns the average\n",
        "attendance percentage of the student based on their attendance record.  "
      ],
      "metadata": {
        "id": "vXoKG9NN4BoA"
      }
    },
    {
      "cell_type": "code",
      "source": [
        "class Student:\n",
        "    def __init__(self, name, age, grade, student_id):\n",
        "        self.name = name\n",
        "        self.age = age\n",
        "        self.grade = grade\n",
        "        self.student_id = student_id\n",
        "        self.attendance = {}\n",
        "\n",
        "    def update_attendance(self, date, status):\n",
        "        self.attendance[date] = status\n",
        "\n",
        "    def get_attendance(self):\n",
        "        return self.attendance\n",
        "\n",
        "    def get_average_attendance(self):\n",
        "        total_days = len(self.attendance)\n",
        "        if total_days == 0:\n",
        "            return 0.0\n",
        "        present_days = sum(value == 'present' for value in self.attendance.values())\n",
        "        return (present_days / total_days) * 100\n",
        "\n",
        "\n",
        "# Example usage:\n",
        "student = Student(\"John Smith\", 15, \"10th Grade\", \"12345\")\n",
        "\n",
        "student.update_attendance(\"2023-07-01\", \"present\")\n",
        "student.update_attendance(\"2023-07-02\", \"absent\")\n",
        "student.update_attendance(\"2023-07-03\", \"present\")\n",
        "\n",
        "print(student.get_attendance())  # Output: {'2023-07-01': 'present', '2023-07-02': 'absent', '2023-07-03': 'present'}\n",
        "\n",
        "average_attendance = student.get_average_attendance()\n",
        "print(f\"Average Attendance: {average_attendance:.2f}%\")  # Output: Average Attendance: 66.67%\n"
      ],
      "metadata": {
        "id": "WvXvg73_nUMD",
        "colab": {
          "base_uri": "https://localhost:8080/"
        },
        "outputId": "bcb77689-0538-41f0-8f37-af876fa79425"
      },
      "execution_count": 26,
      "outputs": [
        {
          "output_type": "stream",
          "name": "stdout",
          "text": [
            "{'2023-07-01': 'present', '2023-07-02': 'absent', '2023-07-03': 'present'}\n",
            "Average Attendance: 66.67%\n"
          ]
        }
      ]
    }
  ]
}