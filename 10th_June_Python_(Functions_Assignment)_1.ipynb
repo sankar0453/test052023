{
  "nbformat": 4,
  "nbformat_minor": 0,
  "metadata": {
    "colab": {
      "provenance": []
    },
    "kernelspec": {
      "name": "python3",
      "display_name": "Python 3"
    },
    "language_info": {
      "name": "python"
    }
  },
  "cells": [
    {
      "cell_type": "markdown",
      "source": [
        "1. In Python, what is the difference between a built-in function and a user-defined function? Provide an\n",
        "example of each.\n"
      ],
      "metadata": {
        "id": "uqxQEgoHRLrC"
      }
    },
    {
      "cell_type": "code",
      "source": [
        "#Calculate sum of the given digits\n",
        "def addNum(a,b):#User defined function\n",
        "  return a+b\n",
        "\n",
        "print(addNum(5,20))#Calling User defined function\n",
        "print(sum([5,20]))# built-in function"
      ],
      "metadata": {
        "colab": {
          "base_uri": "https://localhost:8080/"
        },
        "id": "FawmgyWrR8JS",
        "outputId": "02a510a1-568c-4e7f-a95b-6ba253a2d344"
      },
      "execution_count": 9,
      "outputs": [
        {
          "output_type": "stream",
          "name": "stdout",
          "text": [
            "25\n",
            "25\n"
          ]
        }
      ]
    },
    {
      "cell_type": "markdown",
      "source": [
        "2. How can you pass arguments to a function in Python? Explain the difference between positional\n",
        "arguments and keyword arguments.\n"
      ],
      "metadata": {
        "id": "A5ZY9_QLRLt9"
      }
    },
    {
      "cell_type": "code",
      "source": [
        "def addNum(a,b):\n",
        "  print( a+b)\n",
        "\n",
        "def greet(name, message):\n",
        "    print(f\"Hello, {name}! {message}\")\n",
        "\n",
        "addNum(10,20) #positional arguments\n",
        "greet(name=\"Shankar\", message=\"How are you?\")#keyword arguments."
      ],
      "metadata": {
        "colab": {
          "base_uri": "https://localhost:8080/"
        },
        "id": "56VoR3MDR9a5",
        "outputId": "91a84b5f-a429-444e-dfc0-ae93296b2aaa"
      },
      "execution_count": 11,
      "outputs": [
        {
          "output_type": "stream",
          "name": "stdout",
          "text": [
            "30\n",
            "Hello, Shankar! How are you?\n"
          ]
        }
      ]
    },
    {
      "cell_type": "markdown",
      "source": [
        "3. What is the purpose of the return statement in a function? Can a function have multiple return\n",
        "statements? Explain with an example.\n"
      ],
      "metadata": {
        "id": "u212dosQRLw-"
      }
    },
    {
      "cell_type": "code",
      "source": [
        "''' return statement helps to return a value in functions.\n",
        "Yes, A function have multiple return statements. It can be achieved using if else statements\n",
        "'''\n",
        "def get_grade(score):\n",
        "    if score >= 90:\n",
        "        return \"A\"\n",
        "    elif score >= 80:\n",
        "        return \"B\"\n",
        "    elif score >= 70:\n",
        "        return \"C\"\n",
        "    elif score >= 60:\n",
        "        return \"D\"\n",
        "    else:\n",
        "        return \"F\"\n",
        "print(\"Grade\",get_grade(87))"
      ],
      "metadata": {
        "colab": {
          "base_uri": "https://localhost:8080/"
        },
        "id": "yCPjzZ30R-SC",
        "outputId": "e0a85b39-5295-401d-8052-4cf1f65ef557"
      },
      "execution_count": 14,
      "outputs": [
        {
          "output_type": "stream",
          "name": "stdout",
          "text": [
            "Grade B\n"
          ]
        }
      ]
    },
    {
      "cell_type": "markdown",
      "source": [
        "4. What are lambda functions in Python? How are they different from regular functions? Provide an\n",
        "example where a lambda function can be useful.\n"
      ],
      "metadata": {
        "id": "OGqVCDOXRL0L"
      }
    },
    {
      "cell_type": "code",
      "source": [
        "# lambda function is a anynamous function.It is used for Short terms operations.\n",
        "# It does not have any method name but it can have multiple arguments and only one expression.\n",
        "# We can achecive functonality using lambda keyword.\n",
        "# The expression evaluted when it called and return values.\n",
        "# return values implicitly no need to diclare\n",
        "# The difference from regular functions that we dont diclare method name.\n",
        "add=lambda a,b:a+b\n",
        "print(add(3,9))"
      ],
      "metadata": {
        "colab": {
          "base_uri": "https://localhost:8080/"
        },
        "id": "VpmANXKsR-07",
        "outputId": "f63c460a-c2ed-47a7-fbca-9c0ce620f288"
      },
      "execution_count": 15,
      "outputs": [
        {
          "output_type": "stream",
          "name": "stdout",
          "text": [
            "12\n"
          ]
        }
      ]
    },
    {
      "cell_type": "markdown",
      "source": [
        "5. How does the concept of \"scope\" apply to functions in Python? Explain the difference between local\n",
        "scope and global scope.\n"
      ],
      "metadata": {
        "id": "TRu3IVcpRL3P"
      }
    },
    {
      "cell_type": "code",
      "source": [
        "# A scope is the region of a variable. If a variable diclared in a function , scope is local and it can't available outside of function\n",
        "# If we diclare a varible with Global keyword it acts as Global scope. Variable can access inside and outside of the function.\n",
        "\n",
        "\n",
        "\n",
        "\n",
        "def printValue1():\n",
        "  global x\n",
        "  x=200\n",
        "printValue1()\n",
        "print(x) # 200 ,, x is in Global scope\n",
        "\n",
        "def printValue():\n",
        "  y=200\n",
        "printValue()\n",
        "print(y) #NameError: name 'y' is not defined since y is in the local scope"
      ],
      "metadata": {
        "colab": {
          "base_uri": "https://localhost:8080/",
          "height": 217
        },
        "id": "0JDfkO00R_fb",
        "outputId": "6e2a3383-fc82-46f9-ae9b-973240281e4e"
      },
      "execution_count": 28,
      "outputs": [
        {
          "output_type": "stream",
          "name": "stdout",
          "text": [
            "200\n"
          ]
        },
        {
          "output_type": "error",
          "ename": "NameError",
          "evalue": "ignored",
          "traceback": [
            "\u001b[0;31m---------------------------------------------------------------------------\u001b[0m",
            "\u001b[0;31mNameError\u001b[0m                                 Traceback (most recent call last)",
            "\u001b[0;32m<ipython-input-28-18157b356489>\u001b[0m in \u001b[0;36m<cell line: 16>\u001b[0;34m()\u001b[0m\n\u001b[1;32m     14\u001b[0m   \u001b[0my\u001b[0m\u001b[0;34m=\u001b[0m\u001b[0;36m200\u001b[0m\u001b[0;34m\u001b[0m\u001b[0;34m\u001b[0m\u001b[0m\n\u001b[1;32m     15\u001b[0m \u001b[0mprintValue\u001b[0m\u001b[0;34m(\u001b[0m\u001b[0;34m)\u001b[0m\u001b[0;34m\u001b[0m\u001b[0;34m\u001b[0m\u001b[0m\n\u001b[0;32m---> 16\u001b[0;31m \u001b[0mprint\u001b[0m\u001b[0;34m(\u001b[0m\u001b[0my\u001b[0m\u001b[0;34m)\u001b[0m\u001b[0;34m\u001b[0m\u001b[0;34m\u001b[0m\u001b[0m\n\u001b[0m",
            "\u001b[0;31mNameError\u001b[0m: name 'y' is not defined"
          ]
        }
      ]
    },
    {
      "cell_type": "markdown",
      "source": [
        "6. How can you use the \"return\" statement in a Python function to return multiple values?\n"
      ],
      "metadata": {
        "id": "PCErlTeuRL6u"
      }
    },
    {
      "cell_type": "code",
      "source": [
        "def calculate(a,b):\n",
        "  add=a+b # Addition\n",
        "  sub=a-b # Substraction\n",
        "  mul=a*b # Multiplication\n",
        "  return add,sub, mul\n",
        "\n",
        "print(calculate(5,3))\n"
      ],
      "metadata": {
        "colab": {
          "base_uri": "https://localhost:8080/"
        },
        "id": "9k3bOPOtSAAp",
        "outputId": "7494cef4-5e52-473c-a89d-a62f8a14a0fd"
      },
      "execution_count": 29,
      "outputs": [
        {
          "output_type": "stream",
          "name": "stdout",
          "text": [
            "(8, 2, 15)\n"
          ]
        }
      ]
    },
    {
      "cell_type": "markdown",
      "source": [
        "7. What is the difference between the \"pass by value\" and \"pass by reference\" concepts when it\n",
        "comes to function arguments in Python?\n"
      ],
      "metadata": {
        "id": "lsw11WhlRxTk"
      }
    },
    {
      "cell_type": "code",
      "source": [
        "\n",
        "\n",
        "# In python immuatables are passby value and mutables are passby reference\n",
        "#pass by value\n",
        "def increment_number(n):\n",
        "  n=n+1\n",
        "  return n\n",
        "\n",
        "value=10\n",
        "increment_number(value)\n",
        "print(value) #10\n",
        "\n",
        "#pass by reference\n",
        "def append_value(lst):\n",
        "  lst.append(4)\n",
        "\n",
        "lst=[1,2,3]\n",
        "append_value(lst)\n",
        "print(lst)#[1, 2, 3, 4]"
      ],
      "metadata": {
        "colab": {
          "base_uri": "https://localhost:8080/"
        },
        "id": "IPZNiAZTSAXa",
        "outputId": "91c38e9d-51b8-46e8-a675-54574ee38654"
      },
      "execution_count": 33,
      "outputs": [
        {
          "output_type": "stream",
          "name": "stdout",
          "text": [
            "10\n",
            "[1, 2, 3, 4]\n"
          ]
        }
      ]
    },
    {
      "cell_type": "markdown",
      "source": [
        "8. Create a function that can intake integer or decimal value and do following operations:\n",
        "a. Logarithmic function (log x)\n",
        "b. Exponential function (exp(x))\n",
        "c. Power function with base 2 (2x)\n",
        "d. Square root\n"
      ],
      "metadata": {
        "id": "ZsCK_t1vRxqu"
      }
    },
    {
      "cell_type": "code",
      "source": [
        "import math\n",
        "\n",
        "def perform_operations(value):\n",
        "    logarithm = math.log(value)  # Logarithmic function (log x)\n",
        "    exponential = math.exp(value)  # Exponential function (exp(x))\n",
        "    power = math.pow(2, value)  # Power function with base 2 (2^x)\n",
        "    square_root = math.sqrt(value)  # Square root\n",
        "\n",
        "    return logarithm, exponential, power, square_root\n",
        "\n",
        "# Example usage\n",
        "number = 4.0\n",
        "log, exp, pow, sqrt = perform_operations(number)\n",
        "print(\"Logarithm:\", log)\n",
        "print(\"Exponential:\", exp)\n",
        "print(\"Power with base 2:\", pow)\n",
        "print(\"Square Root:\", sqrt)\n"
      ],
      "metadata": {
        "colab": {
          "base_uri": "https://localhost:8080/"
        },
        "id": "AhzsUIDCSA8w",
        "outputId": "0802467f-7489-4c7f-d9bd-628c88656955"
      },
      "execution_count": 38,
      "outputs": [
        {
          "output_type": "stream",
          "name": "stdout",
          "text": [
            "Logarithm: 1.3862943611198906\n",
            "Exponential: 54.598150033144236\n",
            "Power with base 2: 16.0\n",
            "Square Root: 2.0\n"
          ]
        }
      ]
    },
    {
      "cell_type": "markdown",
      "source": [
        "9. Create a function that takes a full name as an argument and returns first name and last name."
      ],
      "metadata": {
        "id": "OD4GfgvERx7F"
      }
    },
    {
      "cell_type": "code",
      "source": [
        "def extract_first_last_name(fullname):\n",
        "    names= fullname.split()\n",
        "    return names[0],names[1]\n",
        "\n",
        "full_name = \"John Doe\"\n",
        "first, last = extract_first_last_name(full_name)\n",
        "print(\"First Name:\", first)\n",
        "print(\"Last Name:\", last)"
      ],
      "metadata": {
        "colab": {
          "base_uri": "https://localhost:8080/"
        },
        "id": "XVEpHvjiSBTz",
        "outputId": "74be80bf-d3d5-41c5-fc61-5e4d10991bfd"
      },
      "execution_count": 37,
      "outputs": [
        {
          "output_type": "stream",
          "name": "stdout",
          "text": [
            "First Name: John\n",
            "Last Name: Doe\n"
          ]
        }
      ]
    }
  ]
}