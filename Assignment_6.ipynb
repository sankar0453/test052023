{
 "cells": [
  {
   "cell_type": "markdown",
   "id": "be2ed084",
   "metadata": {},
   "source": [
    "### 20 May Python Basic - 1 Assignment_6"
   ]
  },
  {
   "cell_type": "markdown",
   "id": "af1b06e7",
   "metadata": {},
   "source": [
    "#### Q.1. What are keywords in python? Using the keyword library, print all the python keywords."
   ]
  },
  {
   "cell_type": "code",
   "execution_count": 2,
   "id": "00e9f9fc",
   "metadata": {},
   "outputs": [
    {
     "name": "stdout",
     "output_type": "stream",
     "text": [
      "['False', 'None', 'True', 'and', 'as', 'assert', 'async', 'await', 'break', 'class', 'continue', 'def', 'del', 'elif', 'else', 'except', 'finally', 'for', 'from', 'global', 'if', 'import', 'in', 'is', 'lambda', 'nonlocal', 'not', 'or', 'pass', 'raise', 'return', 'try', 'while', 'with', 'yield']\n"
     ]
    }
   ],
   "source": [
    "import keyword as kw\n",
    "print (kw.kwlist)"
   ]
  },
  {
   "cell_type": "markdown",
   "id": "2dbcfc48",
   "metadata": {},
   "source": [
    "#### Q.2. What are the rules to create variables in python?"
   ]
  },
  {
   "cell_type": "code",
   "execution_count": null,
   "id": "c3d33d1f",
   "metadata": {},
   "outputs": [],
   "source": [
    "Definition: An identifier is a name given to entities like class, functions, variables, etc. It helps to differentiate one entity from another.\n",
    "\n",
    "Syntax: Identifiers can be a combination of letters in lowercase (a to z) or uppercase (A to Z) or digits (0 to 9) or an underscore (_).\n",
    "\n",
    "No digits: They must start with a letter or the underscore character, but not with a digit.\n",
    "\n",
    "Case-Sensitive: Identifiers in Python are case-sensitive. For example, myVariable and myvariable are two different identifiers in Python.\n",
    "\n",
    "No Special Characters: Identifiers cannot have special characters such as !, @, #, $, %, etc.\n",
    "\n",
    "Reserved Words: Python keywords cannot be used as identifiers. Words like for, while, break, continue, in, elif, else, import, from, pass, return, etc. are reserved words. You can view all keywords in your current version by typing help(\"keywords\") in the Python interpreter.\n",
    "\n",
    "Unlimited Length: Python does not put any restriction on the length of the identifier. However, it's recommended to keep it within a reasonable size, to maintain readability and simplicity in the code.\n",
    "\n",
    "Private Identifiers: In Python, if the identifier starts with a single underscore, it indicates that it is a non-public part of the class, module, or function. This is just a convention and Python doesn't enforce it. If it starts with two underscores, it's a strongly private identifier. If the identifier also ends with two trailing underscores, the identifier is a language-defined special name.\n",
    "\n",
    "Non-ASCII Identifiers: Python 3 allows the use of non-ASCII letters in the identifiers. This means you can use letters like é, ñ, ö, я, etc. in your identifiers if you wish."
   ]
  },
  {
   "cell_type": "markdown",
   "id": "1c824c4f",
   "metadata": {},
   "source": [
    "#### Q.3. What are the standards and conventions followed for the nomenclature of variables in python to improve code readability and maintainability?"
   ]
  },
  {
   "cell_type": "code",
   "execution_count": null,
   "id": "df14ac76",
   "metadata": {},
   "outputs": [],
   "source": [
    "'''\n",
    "Constants: Use uppercase letters with underscores (UPPER_CASE) for naming constants, \n",
    "such as configuration settings that are not meant to be modified.\n",
    "Class names: Use CamelCase for class names, where each word's first letter is capitalized (also known as PascalCase).\n",
    "This convention distinguishes classes from variables and functions.\n",
    "Private variables: Prefix variable names with a single underscore _ to indicate that \n",
    "they are intended for internal use within a class or module. However, note that this is just a convention and doesn't enforce true privacy.'''"
   ]
  },
  {
   "cell_type": "markdown",
   "id": "232d3b16",
   "metadata": {},
   "source": [
    "#### Q.4. What will happen if a keyword is used as a variable name?"
   ]
  },
  {
   "cell_type": "code",
   "execution_count": null,
   "id": "d2d6900e",
   "metadata": {},
   "outputs": [],
   "source": [
    "if = \"hell\" #invalid syntax"
   ]
  },
  {
   "cell_type": "markdown",
   "id": "ea205a31",
   "metadata": {},
   "source": [
    "#### Q.5. For what purpose def keyword is used?"
   ]
  },
  {
   "cell_type": "code",
   "execution_count": null,
   "id": "ba290df6",
   "metadata": {},
   "outputs": [],
   "source": [
    "# def: The def keyword is used to declare a function."
   ]
  },
  {
   "cell_type": "markdown",
   "id": "9be46600",
   "metadata": {},
   "source": [
    "#### Q.6. What is the operation of this special character ‘\\’?"
   ]
  },
  {
   "cell_type": "code",
   "execution_count": null,
   "id": "17e8b4ef",
   "metadata": {},
   "outputs": [],
   "source": [
    "# Escape sequences: The backslash is used to represent escape sequences in strings.\n",
    "# For example:\n",
    "# '\\n': Newline character\n",
    "# '\\t': Tab character\n",
    "# '\\\\\"': Double quote character\n",
    "# '\\\\': Backslash character itself\n",
    "# Line continuation: The backslash can be used to continue a long line of code onto the next line, improving readability. For example:\n",
    "long_string = \"This is a very long string that can be \\\n",
    "               split into multiple lines for better readability.\""
   ]
  },
  {
   "cell_type": "markdown",
   "id": "59b72a6a",
   "metadata": {},
   "source": [
    "#### Q.7. Give an example of the following conditions:\n",
    "<!-- (i) Homogeneous list\n",
    "(ii) Heterogeneous set\n",
    "(iii) Homogeneous tuple -->"
   ]
  },
  {
   "cell_type": "code",
   "execution_count": null,
   "id": "b628d75c",
   "metadata": {},
   "outputs": [],
   "source": [
    "homogen_list=[1,2,3,4,5]\n",
    "hetero_list=[1,\"Shankar\",True,[2,3,4]]\n",
    "homogen_tuple=(1,2,3,4,5)\n",
    "homogen_tuple"
   ]
  },
  {
   "cell_type": "markdown",
   "id": "6f8b9030",
   "metadata": {},
   "source": [
    "#### Q.8. Explain the mutable and immutable data types with proper explanation & examples."
   ]
  },
  {
   "cell_type": "code",
   "execution_count": 23,
   "id": "e690bea2",
   "metadata": {},
   "outputs": [
    {
     "name": "stdout",
     "output_type": "stream",
     "text": [
      "[10, 2, 3, 4]\n",
      "\n",
      "\n",
      "Hello word reference 2616808055088\n",
      "Hello World word reference 2616776166896\n"
     ]
    }
   ],
   "source": [
    "# In Python, data types can be classified as mutable or immutable based on whether their values can be changed after they are created.\n",
    "# Mutable Data Types: List and dict\n",
    "my_list = [1, 2, 3]\n",
    "my_list.append(4)  # Modifying the element\n",
    "my_list[0] = 10 \n",
    "print(my_list)\n",
    "print()\n",
    "print()\n",
    "# Immutable Data Types: Tuple and String\n",
    "my_string = 'Hello'\n",
    "new_string = my_string + ' World'\n",
    "print(f\"{my_string } word reference { id(my_string)}\") \n",
    "print(f\"{new_string } word reference { id(new_string)}\") "
   ]
  },
  {
   "cell_type": "markdown",
   "id": "5de47bd5",
   "metadata": {},
   "source": [
    "#### Q.9. Write a code to create the given structure using only for loop.\n",
    "#     *\n",
    "#    ***\n",
    "#   *****\n",
    "#  *******\n",
    "# *********"
   ]
  },
  {
   "cell_type": "code",
   "execution_count": 8,
   "id": "ea118f80",
   "metadata": {
    "scrolled": true
   },
   "outputs": [
    {
     "name": "stdout",
     "output_type": "stream",
     "text": [
      "     *\n",
      "    ***\n",
      "   *****\n",
      "  *******\n",
      " *********\n",
      "***********\n"
     ]
    }
   ],
   "source": [
    "rows = 6  # Number of rows in the pyramid\n",
    "for i in range(rows):\n",
    "    pyramid_row = \"\"\n",
    "    spaces = \" \" * (rows - i - 1)\n",
    "    stars = \"*\" * (2 * i + 1)\n",
    "    pyramid_row = spaces + stars\n",
    "    print(pyramid_row)"
   ]
  },
  {
   "cell_type": "markdown",
   "id": "dcb269c0",
   "metadata": {},
   "source": [
    "#### Q.10. Write a code to create the given structure using while loop.\n",
    "# |||||||||\n",
    "#  |||||||\n",
    "#   |||||\n",
    "#    |||\n",
    "#     |"
   ]
  },
  {
   "cell_type": "code",
   "execution_count": 38,
   "id": "244e17f3",
   "metadata": {},
   "outputs": [],
   "source": [
    "rows = 5  # Number of rows in the inverted pyramid\n",
    "i = 0\n",
    "while i < rows:\n",
    "    spaces = \" \" * i  # Number of spaces before the stars\n",
    "    stars = \"|\" * (2 * (rows - i) - 1)  # Stars for the current row\n",
    "    print(spaces + stars)\n",
    "    i += 1\n"
   ]
  }
 ],
 "metadata": {
  "kernelspec": {
   "display_name": "Python 3 (ipykernel)",
   "language": "python",
   "name": "python3"
  },
  "language_info": {
   "codemirror_mode": {
    "name": "ipython",
    "version": 3
   },
   "file_extension": ".py",
   "mimetype": "text/x-python",
   "name": "python",
   "nbconvert_exporter": "python",
   "pygments_lexer": "ipython3",
   "version": "3.10.9"
  }
 },
 "nbformat": 4,
 "nbformat_minor": 5
}
