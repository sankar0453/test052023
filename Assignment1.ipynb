{
 "cells": [
  {
   "cell_type": "markdown",
   "id": "90c25260",
   "metadata": {},
   "source": [
    "# Assignment_1 "
   ]
  },
  {
   "cell_type": "markdown",
   "id": "5f4520a1",
   "metadata": {},
   "source": [
    "#### 1. In the below elements which of them are values or an expression? eg:- values can be integer or string and expressions will be mathematical operators.\n",
    "*\n",
    "'hello'\n",
    "-87.8\n",
    "-\n",
    "/\n",
    "+\n",
    "6"
   ]
  },
  {
   "cell_type": "code",
   "execution_count": null,
   "id": "77f0812d",
   "metadata": {},
   "outputs": [],
   "source": [
    "# 'hello': This is a string value.\n",
    "# -87.8: This is a floating-point number value.\n",
    "# 6: This is an integer value.\n",
    "\n",
    "# Remaining *, -,/,+ all are operators to be used in expressions"
   ]
  },
  {
   "cell_type": "markdown",
   "id": "590dc76b",
   "metadata": {},
   "source": [
    "#### 2. What is the difference between string and variable?"
   ]
  },
  {
   "cell_type": "code",
   "execution_count": null,
   "id": "39970d22",
   "metadata": {},
   "outputs": [],
   "source": [
    "# A string variable is created by assigning a sequence of characters enclosed in single quotes (''),\n",
    "# double quotes (\"\") or triple quotes (''' ''') to a variable name.\n",
    "a='shankar'\n",
    "\n",
    "# Variable holds int, float, boolean etc but not string\n",
    "a=10 "
   ]
  },
  {
   "cell_type": "markdown",
   "id": "d07f94e3",
   "metadata": {},
   "source": [
    "#### 3. Describe three different data types."
   ]
  },
  {
   "cell_type": "code",
   "execution_count": null,
   "id": "9d25c808",
   "metadata": {},
   "outputs": [],
   "source": [
    "1.int\n",
    "2.float\n",
    "3.str"
   ]
  },
  {
   "cell_type": "markdown",
   "id": "da7c83ee",
   "metadata": {},
   "source": [
    "#### 4. What is an expression made up of? What do all expressions do?"
   ]
  },
  {
   "cell_type": "code",
   "execution_count": 25,
   "id": "0363ef47",
   "metadata": {},
   "outputs": [],
   "source": [
    "#An expression is a combination of values, variables, operators\n",
    "# Expression helps in mathematical operations, data assigning."
   ]
  },
  {
   "cell_type": "markdown",
   "id": "04e6d534",
   "metadata": {},
   "source": [
    "#### 5. This assignment statements, like spam = 10. What is the difference between an expression and a statement?\n"
   ]
  },
  {
   "cell_type": "code",
   "execution_count": 24,
   "id": "d2d33c99",
   "metadata": {},
   "outputs": [],
   "source": [
    "#An expression is a combination of values, variables, operators\n",
    "x = 15 + 1.3\n",
    "\n",
    "#A Python statement is an instruction that the Python interpreter can execute. \n",
    "#There are different types of statements in Python language as Assignment statements,\n",
    "#Conditional statements, Looping statements, etc.\n",
    "a={1+2+3+5+\n",
    "  +9}\n"
   ]
  },
  {
   "cell_type": "markdown",
   "id": "3068ee94",
   "metadata": {},
   "source": [
    "#### 6. After running the following code, what does the variable bacon contain?\n",
    "bacon = 22\n",
    "bacon + 1"
   ]
  },
  {
   "cell_type": "code",
   "execution_count": null,
   "id": "24e22e9a",
   "metadata": {},
   "outputs": [],
   "source": [
    "22"
   ]
  },
  {
   "cell_type": "markdown",
   "id": "632e0995",
   "metadata": {},
   "source": [
    "#### 7. What should the values of the following two terms be?\n",
    "\n",
    "'spam'+'spamspam'\n",
    "'spam'*3"
   ]
  },
  {
   "cell_type": "code",
   "execution_count": null,
   "id": "45749c6d",
   "metadata": {},
   "outputs": [],
   "source": [
    "spamspamspam\n",
    "spamspamspam"
   ]
  },
  {
   "cell_type": "markdown",
   "id": "41154017",
   "metadata": {},
   "source": [
    "#### 8. Why is eggs a valid variable name while 100 is invalid?"
   ]
  },
  {
   "cell_type": "code",
   "execution_count": null,
   "id": "1adb757e",
   "metadata": {},
   "outputs": [],
   "source": [
    "Identifier should start with letter or underscore (_) but not with a digit. so eggs are valid and 100 is invalid."
   ]
  },
  {
   "cell_type": "markdown",
   "id": "30d5a755",
   "metadata": {},
   "source": [
    "#### 9. What three functions can be used to get the integer, floating-point number, or string version of a value?"
   ]
  },
  {
   "cell_type": "code",
   "execution_count": null,
   "id": "7910bdcb",
   "metadata": {},
   "outputs": [],
   "source": [
    "#1\n",
    "def convertInt(num):\n",
    "    return int(num)# <class 'int'>\n",
    "#2\n",
    "def convertFloat(num):\n",
    "    return float(num)# <class 'float'>\n",
    "#3\n",
    "def convertString(num):\n",
    "    return str(num)# <class 'str'>\n",
    "\n"
   ]
  },
  {
   "cell_type": "markdown",
   "id": "de69cc9a",
   "metadata": {},
   "source": [
    "#### 10. Why does this expression cause an error? How can you fix it?\n",
    "'I have eaten' +99+'burritos'"
   ]
  },
  {
   "cell_type": "code",
   "execution_count": 12,
   "id": "96cfd9f1",
   "metadata": {},
   "outputs": [
    {
     "name": "stdout",
     "output_type": "stream",
     "text": [
      "I have eaten 99 burritos\n"
     ]
    }
   ],
   "source": [
    "Numbers should not concat with letters\n",
    "a=99\n",
    "print(f\"I have eaten {a} burritos\")"
   ]
  },
  {
   "cell_type": "code",
   "execution_count": null,
   "id": "bb49505f",
   "metadata": {},
   "outputs": [],
   "source": []
  }
 ],
 "metadata": {
  "kernelspec": {
   "display_name": "Python 3 (ipykernel)",
   "language": "python",
   "name": "python3"
  },
  "language_info": {
   "codemirror_mode": {
    "name": "ipython",
    "version": 3
   },
   "file_extension": ".py",
   "mimetype": "text/x-python",
   "name": "python",
   "nbconvert_exporter": "python",
   "pygments_lexer": "ipython3",
   "version": "3.10.9"
  }
 },
 "nbformat": 4,
 "nbformat_minor": 5
}
