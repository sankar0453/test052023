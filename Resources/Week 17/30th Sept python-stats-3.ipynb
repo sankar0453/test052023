{
 "cells": [
  {
   "cell_type": "markdown",
   "id": "cddf6d57",
   "metadata": {},
   "source": [
    "Z-test\n",
    "\n",
    "t-test\n",
    "\n",
    "chi-squre test\n",
    "\n",
    "# take it as a assignment\n",
    "anova"
   ]
  },
  {
   "cell_type": "code",
   "execution_count": 1,
   "id": "2b0198b7",
   "metadata": {},
   "outputs": [],
   "source": [
    "import numpy as np\n",
    "import scipy.stats as stats"
   ]
  },
  {
   "cell_type": "code",
   "execution_count": 2,
   "id": "b716081c",
   "metadata": {},
   "outputs": [],
   "source": [
    "sample_mean=110\n",
    "population_mean=100\n",
    "population_std=15\n",
    "sample_size=50\n",
    "alpha=0.05"
   ]
  },
  {
   "cell_type": "code",
   "execution_count": 5,
   "id": "8033f7bb",
   "metadata": {},
   "outputs": [],
   "source": [
    "confidence_interval=1-0.05"
   ]
  },
  {
   "cell_type": "code",
   "execution_count": 6,
   "id": "c01343e4",
   "metadata": {},
   "outputs": [
    {
     "data": {
      "text/plain": [
       "0.95"
      ]
     },
     "execution_count": 6,
     "metadata": {},
     "output_type": "execute_result"
    }
   ],
   "source": [
    "confidence_interval"
   ]
  },
  {
   "cell_type": "code",
   "execution_count": 3,
   "id": "3411d581",
   "metadata": {},
   "outputs": [],
   "source": [
    "z_score=(sample_mean-population_mean)/(population_std/np.sqrt(50))"
   ]
  },
  {
   "cell_type": "code",
   "execution_count": 4,
   "id": "d1b43373",
   "metadata": {},
   "outputs": [
    {
     "data": {
      "text/plain": [
       "4.714045207910317"
      ]
     },
     "execution_count": 4,
     "metadata": {},
     "output_type": "execute_result"
    }
   ],
   "source": [
    "z_score"
   ]
  },
  {
   "cell_type": "code",
   "execution_count": 8,
   "id": "c91d2fb4",
   "metadata": {},
   "outputs": [],
   "source": [
    "z_crictical=stats.norm.ppf(confidence_interval)"
   ]
  },
  {
   "cell_type": "code",
   "execution_count": 9,
   "id": "2ee8e38d",
   "metadata": {},
   "outputs": [
    {
     "name": "stdout",
     "output_type": "stream",
     "text": [
      "reject the null hyphothesis\n"
     ]
    }
   ],
   "source": [
    "if z_score>z_crictical:\n",
    "    print(\"reject the null hyphothesis\")\n",
    "else:\n",
    "    print(\"fail to reject the null hyphothesis\")"
   ]
  },
  {
   "cell_type": "code",
   "execution_count": 11,
   "id": "f604ee9b",
   "metadata": {},
   "outputs": [],
   "source": [
    "p_value=1-0.9999966"
   ]
  },
  {
   "cell_type": "code",
   "execution_count": 12,
   "id": "90a8f64f",
   "metadata": {},
   "outputs": [
    {
     "name": "stdout",
     "output_type": "stream",
     "text": [
      "reject the null hyphothesis\n"
     ]
    }
   ],
   "source": [
    "if p_value<alpha:\n",
    "    print(\"reject the null hyphothesis\")\n",
    "    \n",
    "else:\n",
    "    print(\"fail to reject the null hyphothesis\")"
   ]
  },
  {
   "cell_type": "code",
   "execution_count": 13,
   "id": "8c7015b5",
   "metadata": {},
   "outputs": [],
   "source": [
    "from numpy.random import randn\n",
    "mydata=randn(500)"
   ]
  },
  {
   "cell_type": "code",
   "execution_count": 14,
   "id": "92f0c475",
   "metadata": {},
   "outputs": [
    {
     "name": "stdout",
     "output_type": "stream",
     "text": [
      "[ 3.17533536e-01  1.52605480e+00  1.22241513e+00 -4.90112144e-01\n",
      " -1.43002753e+00 -3.63767722e-01 -5.63314389e-01 -4.62674076e-01\n",
      "  1.92367762e+00  3.27014651e-01  3.85930946e-01 -4.47241347e-01\n",
      " -2.69333737e-01  1.54450405e-01  2.39983384e-01 -1.76370341e+00\n",
      " -9.72007588e-01  1.58691302e+00 -8.39031441e-01  7.99133725e-01\n",
      " -2.61998836e-02  1.47088357e+00 -7.54424531e-01  9.19752305e-02\n",
      " -1.30027154e+00 -8.93844411e-01  5.36478469e-01 -1.93541554e-01\n",
      " -1.10148268e-01  2.99169735e-02 -9.40221684e-01 -1.39108401e+00\n",
      "  2.09335985e-02 -2.76480075e-01 -6.26888028e-01  6.68612613e-01\n",
      " -7.60533758e-01  6.92128932e-01  2.15661777e-01 -2.14311887e-03\n",
      "  1.01210834e+00 -3.72750742e-01  7.07003410e-01  1.68509778e-01\n",
      " -1.24654095e-01  1.95955143e-01 -1.93448340e+00 -2.18496483e-01\n",
      " -1.07836209e+00 -1.91188037e+00 -5.11744513e-01  5.63184450e-02\n",
      "  1.45682394e-01  1.43998580e+00  9.45021934e-01  8.60029108e-01\n",
      " -1.95908717e-01 -3.08542027e-01  1.80244340e-01  6.48208008e-01\n",
      "  1.03332308e+00  1.48131413e-01  4.70308534e-01 -1.31126055e+00\n",
      "  6.38569232e-02  8.80270518e-01  5.99706667e-01 -8.17529659e-02\n",
      " -1.61273113e+00 -1.08553196e+00 -2.05615825e-01  1.21904638e+00\n",
      "  5.40848819e-01  5.45539252e-02  4.80561529e-01  4.05711802e-01\n",
      "  1.41876675e-01  2.49237718e-01  2.05494350e+00 -4.74861588e-01\n",
      " -1.37148919e+00  1.20796463e+00 -1.42703714e+00 -5.49713810e-01\n",
      " -1.18976511e+00 -3.71411482e-01  9.75246519e-01 -2.69172087e+00\n",
      "  1.36621931e+00  1.61164311e+00  1.52373007e+00  9.32839378e-01\n",
      "  5.48503215e-02 -1.12580277e+00  1.71001251e+00  6.90959356e-01\n",
      " -1.69061696e+00 -9.25735428e-01  3.86423767e-02 -1.78141499e+00\n",
      "  5.85713916e-01  3.06558371e-01 -5.95221248e-01 -2.93134857e-01\n",
      " -8.87786190e-01  1.21812428e+00  1.57434672e+00 -2.16962682e+00\n",
      " -7.09656956e-01  8.82069590e-01  1.26547978e+00 -2.70611234e-01\n",
      " -5.43715060e-01 -7.79700880e-01  7.08877649e-01  2.04157519e+00\n",
      " -2.36394665e-01 -1.14627333e+00  1.15618065e-01 -5.70905897e-01\n",
      " -7.85601791e-01 -2.61886176e-01 -2.14566027e+00  3.61000781e-01\n",
      "  3.11019562e-01  5.20417135e-01  1.58363394e+00  5.42636386e-01\n",
      " -9.29573210e-01  8.41970679e-01 -1.50549266e+00  7.89847922e-01\n",
      " -6.78501491e-01 -1.23469404e+00  8.78948962e-02  3.02706057e-01\n",
      "  6.88442391e-01 -6.48956743e-01  4.08934101e-01 -2.75357536e-01\n",
      "  5.05494268e-01  5.83027232e-03 -1.46522806e+00 -1.14670415e+00\n",
      "  6.33288150e-01  6.98944918e-01  2.41648493e-01  1.12401926e+00\n",
      " -4.84909866e-02  4.56978292e-01 -3.27354622e-01 -3.25496863e-01\n",
      " -1.98329279e-01  1.62595748e+00  1.09755982e+00 -2.17264350e+00\n",
      " -1.27895707e+00  3.21269749e-01 -2.68551731e-01  7.29700499e-01\n",
      " -4.55867071e-01 -2.10004631e-01  1.36159148e+00 -2.83256059e-01\n",
      " -2.65552011e-01 -2.46744361e-01 -5.45954910e-01  6.18489520e-01\n",
      " -1.14917484e+00  1.72794757e+00 -8.69863727e-01  1.25061795e+00\n",
      " -5.18716371e-01 -1.43958861e-01  1.09386109e+00 -6.36177714e-01\n",
      "  1.06739562e+00 -2.36289713e+00 -1.46562870e+00  6.70895065e-01\n",
      "  9.88220893e-01 -3.67309168e-01  2.02843374e-01  5.50963962e-01\n",
      "  7.65954275e-01  2.02512893e+00  2.65770729e+00 -1.08053283e+00\n",
      " -1.17597158e+00  1.55269746e+00 -4.08083193e-01  1.10046857e+00\n",
      "  2.21020160e-01 -1.22144845e+00  2.00809703e+00  1.30168030e+00\n",
      "  4.06562797e-01  3.35776916e-01 -1.65805473e-01  6.31864632e-01\n",
      "  2.38174360e+00  8.95787156e-01 -2.39617860e-02  2.83598898e-01\n",
      " -6.15182121e-01 -1.84705970e-02 -6.97671892e-02  4.59762628e-01\n",
      "  5.24397240e-01  4.19726530e-01 -5.30285091e-01 -1.29269721e-01\n",
      " -1.26126255e-01 -3.79305366e-01 -5.79952177e-01  2.56676489e+00\n",
      "  1.35620165e+00  8.72400903e-01  1.57183298e+00  9.09154597e-01\n",
      "  1.23895911e+00 -8.46857239e-02  3.59289391e-01 -9.86911394e-01\n",
      "  1.56977838e+00  4.55183204e-01 -5.01378497e-02 -1.26020848e+00\n",
      "  3.37589932e-01 -4.95369973e-01  1.33066793e+00 -6.94580594e-01\n",
      " -5.39622502e-01 -5.52258250e-02 -2.35478868e+00 -2.37833999e-01\n",
      "  1.08508302e+00  1.40469784e+00 -7.76908467e-01  3.73813655e-01\n",
      "  1.34985103e-01  1.06198898e+00 -3.94813271e-01 -1.37925995e+00\n",
      " -1.74939200e-01  7.56646818e-01 -8.83734963e-01  6.43765457e-01\n",
      " -4.20760242e-01 -6.67513821e-01  2.52400260e-01 -2.36661067e+00\n",
      "  2.49550334e+00 -9.15064699e-01 -6.48724391e-01  1.78902833e+00\n",
      "  2.08092757e-01 -1.05703367e+00 -3.16134525e-01 -1.28584863e-01\n",
      "  3.78706823e-01 -3.25153162e-01  2.42297525e-02 -6.40073883e-01\n",
      " -4.38026431e-01  3.51646922e-01 -1.90088943e-01 -1.30477794e+00\n",
      "  2.00269511e-01  6.43754937e-02 -2.63475595e-02  2.68744751e+00\n",
      " -7.52762414e-01  1.38478671e+00  2.61637181e-01 -8.38621508e-01\n",
      "  9.73893127e-02  5.63261982e-01 -2.20987853e+00 -1.70774079e+00\n",
      "  7.52124678e-01  7.54434068e-01  1.95587493e+00 -1.93507347e-01\n",
      " -5.95334861e-01  6.49750607e-01  3.37347242e-01 -4.53181924e-01\n",
      "  8.85855337e-01 -1.73730817e+00 -1.35720943e+00  5.30238449e-01\n",
      " -1.74970282e-01  1.06226574e+00 -2.05152098e-01 -1.40467628e-01\n",
      "  4.66277440e-01  2.05452054e+00 -3.79346973e-01 -7.72057178e-01\n",
      " -6.51671623e-01 -3.27944856e-01  5.61791548e-01 -7.55694469e-01\n",
      "  9.74352432e-01  2.69326005e-01  2.90080886e+00 -7.24651641e-01\n",
      " -5.34989319e-01 -3.72191676e-01  1.36208713e+00  4.73598557e-01\n",
      " -6.53100272e-01  4.53177820e-01 -4.35059247e-01  1.24774490e+00\n",
      " -3.24865785e-01  4.14369415e-01 -4.07947209e-01 -5.16172006e-01\n",
      "  9.58461314e-02 -8.48334607e-01 -9.18079447e-01  1.13281570e-03\n",
      "  5.45345369e-01  2.36738120e-01  6.64130669e-01 -6.51577231e-02\n",
      "  3.18626819e-01 -3.26679389e-01 -7.20510788e-01 -8.05500459e-01\n",
      " -7.60541875e-01  7.96087361e-01  1.23881107e+00 -6.65299705e-01\n",
      " -5.01381030e-01  1.37435605e+00 -8.46312321e-01 -9.76026019e-01\n",
      "  4.54116650e-01  1.32748552e-02  1.07212746e+00  8.22750118e-01\n",
      " -7.99914746e-01 -1.09006983e+00 -2.37618478e-01 -4.27089798e-01\n",
      " -2.14078090e-01 -7.24675116e-01 -4.40094000e-02  1.25069208e+00\n",
      "  2.06220287e+00 -9.97938469e-01 -2.50417227e-01 -6.92640051e-01\n",
      " -4.24911712e-01  3.67255984e-02  1.12583629e+00 -4.93104560e-01\n",
      " -7.83278203e-01  1.04145303e+00  1.54031732e+00 -5.63750511e-01\n",
      " -1.90594222e-01 -6.57958100e-01 -2.10126986e+00 -2.24202852e-01\n",
      " -3.06955919e-01 -3.05515766e-01  2.26965199e-01 -1.32680245e+00\n",
      "  1.52483806e-01  4.22728378e-01 -1.73548053e+00 -1.05797685e-01\n",
      " -1.13429422e+00 -1.14561998e+00  8.90926751e-01 -4.37657646e-02\n",
      "  1.37092708e+00 -1.92645652e-01  6.88819950e-01 -5.25779391e-02\n",
      " -7.40023627e-01  6.88146263e-01 -2.29420458e-01 -9.21419494e-01\n",
      "  3.60001647e-01 -8.56558159e-01 -6.86100565e-01 -2.54385184e+00\n",
      " -5.99479653e-01 -1.12260578e-01  4.36520847e-01 -5.65503652e-01\n",
      " -1.00077094e-01 -1.12373819e-02 -7.50846215e-01 -1.26910989e+00\n",
      "  7.36263112e-01 -9.51444994e-01 -5.35733936e-01  2.64815994e-01\n",
      " -1.46783092e+00 -3.30346247e-01  5.11794046e-01 -2.66417079e-01\n",
      "  2.75515207e-01 -6.03153818e-01  7.51970288e-01  2.82421776e-01\n",
      "  6.58996387e-02  2.08797145e+00 -1.46489530e-01  2.26958789e+00\n",
      "  7.70004158e-03  9.17771444e-01 -2.56300184e-01  1.38392245e+00\n",
      "  1.13368788e+00 -7.54172662e-01 -7.76919135e-01 -1.16476822e+00\n",
      "  9.34760734e-01  1.10956726e+00  4.25915377e-01 -6.13740238e-01\n",
      "  5.55800539e-01  3.78236686e-02  1.55649203e-01 -9.31870427e-01\n",
      " -4.90691231e-01  2.22658527e+00 -6.14502600e-02  1.59010465e-01\n",
      " -8.03852262e-01 -1.40597715e+00 -4.81516806e-01 -5.19747539e-02\n",
      "  1.77803070e+00  7.47120096e-02 -1.15621566e+00  8.67898931e-01\n",
      "  6.37021286e-01  8.32468211e-01  2.97324791e+00 -8.92350677e-01\n",
      " -4.82954962e-01 -2.59230824e-01  6.47439793e-02  4.28359645e-01\n",
      "  2.98672071e-01 -1.77376492e-02  7.04126848e-01  3.17974980e-01\n",
      "  1.31318419e+00 -1.09873589e+00  1.15653758e+00 -4.78926256e-02\n",
      "  6.86711442e-02 -1.37360729e+00 -7.61488715e-01 -8.97074112e-01\n",
      " -7.02266545e-01  6.77928161e-01 -1.03064835e+00  6.60732253e-01\n",
      " -6.26920567e-01  1.74474405e+00 -4.03368538e-01 -7.92971806e-01\n",
      " -6.89053068e-01  9.28695316e-01 -1.07508177e+00 -1.10076257e+00\n",
      "  4.24744745e-01 -5.66655152e-01 -7.28637497e-01  2.31242597e-02\n",
      " -1.53812828e-01  1.33075919e+00 -7.60705674e-01 -2.32463940e-01\n",
      " -1.39613822e+00  1.73292977e+00  2.73090319e-01 -1.28499099e+00\n",
      "  1.19084862e+00 -2.53450039e-01  6.02524042e-01  6.66400390e-01\n",
      "  4.87000179e-01 -2.00168074e+00  7.75998772e-01  6.85773262e-01\n",
      " -4.21920628e-01  1.64699721e-01 -8.25254176e-01  3.67625280e-01]\n"
     ]
    }
   ],
   "source": [
    "print(mydata)"
   ]
  },
  {
   "cell_type": "code",
   "execution_count": 15,
   "id": "d57b2cc2",
   "metadata": {},
   "outputs": [],
   "source": [
    "import seaborn as sns"
   ]
  },
  {
   "cell_type": "code",
   "execution_count": 17,
   "id": "aeb0bef1",
   "metadata": {},
   "outputs": [
    {
     "name": "stderr",
     "output_type": "stream",
     "text": [
      "C:\\ProgramData\\Anaconda3\\lib\\site-packages\\seaborn\\distributions.py:2619: FutureWarning: `distplot` is a deprecated function and will be removed in a future version. Please adapt your code to use either `displot` (a figure-level function with similar flexibility) or `histplot` (an axes-level function for histograms).\n",
      "  warnings.warn(msg, FutureWarning)\n"
     ]
    },
    {
     "data": {
      "text/plain": [
       "<AxesSubplot:ylabel='Density'>"
      ]
     },
     "execution_count": 17,
     "metadata": {},
     "output_type": "execute_result"
    },
    {
     "data": {
      "image/png": "[encoded data removed]",
      "text/plain": [
       "<Figure size 432x288 with 1 Axes>"
      ]
     },
     "metadata": {
      "needs_background": "light"
     },
     "output_type": "display_data"
    }
   ],
   "source": [
    "sns.distplot(mydata)"
   ]
  },
  {
   "cell_type": "code",
   "execution_count": 18,
   "id": "e273d0e4",
   "metadata": {},
   "outputs": [
    {
     "data": {
      "text/plain": [
       "NormaltestResult(statistic=3.7139639140056318, pvalue=0.15614316675229248)"
      ]
     },
     "execution_count": 18,
     "metadata": {},
     "output_type": "execute_result"
    }
   ],
   "source": [
    "from scipy import stats\n",
    "stats.normaltest(mydata)"
   ]
  },
  {
   "cell_type": "code",
   "execution_count": 30,
   "id": "94d15076",
   "metadata": {},
   "outputs": [],
   "source": [
    "alpha=0.05\n",
    "CI=0.95"
   ]
  },
  {
   "cell_type": "code",
   "execution_count": 21,
   "id": "17c6c96f",
   "metadata": {},
   "outputs": [],
   "source": [
    "sample_mean_iq=110\n",
    "mean_population=100\n",
    "population_std=15"
   ]
  },
  {
   "cell_type": "code",
   "execution_count": 23,
   "id": "21f3a07e",
   "metadata": {},
   "outputs": [
    {
     "data": {
      "text/plain": [
       "array([ 91.13888764, 127.65520967,  98.16248242, 117.23855149,\n",
       "        93.43855952, 117.00275499, 100.40779701, 104.42601001,\n",
       "       137.95383414,  99.07567614, 146.32119768, 100.64045605,\n",
       "       123.3141895 , 103.60699119, 116.93118872,  92.00436949,\n",
       "       120.99927632, 105.48193146, 109.94889558,  80.5990328 ,\n",
       "       107.97238366,  97.0281911 ,  84.44034943,  96.83057952,\n",
       "       106.87937684, 133.62641896, 126.71345355, 123.03562124,\n",
       "        88.0303054 ,  91.06144955, 115.42879625, 113.87916692,\n",
       "       102.78532012, 111.05477699, 131.1954213 , 125.81250905,\n",
       "       103.81795053, 134.31664953,  83.00694199, 120.80431917,\n",
       "       126.89525577,  99.31067944, 119.90019292, 114.11757041,\n",
       "        97.72324538,  92.50886461,  98.98970252, 102.61944965,\n",
       "       136.19113891, 113.06099261])"
      ]
     },
     "execution_count": 23,
     "metadata": {},
     "output_type": "execute_result"
    }
   ],
   "source": [
    "population_std*randn(50)+sample_mean_iq"
   ]
  },
  {
   "cell_type": "code",
   "execution_count": 24,
   "id": "f8c630c0",
   "metadata": {},
   "outputs": [],
   "source": [
    "data=population_std*randn(50)+sample_mean_iq"
   ]
  },
  {
   "cell_type": "code",
   "execution_count": 25,
   "id": "7c891b05",
   "metadata": {},
   "outputs": [
    {
     "data": {
      "text/plain": [
       "array([147.90294977, 118.602552  , 123.37224298, 118.39678607,\n",
       "       103.43007234, 101.5712604 , 128.53486537, 101.43165337,\n",
       "       110.55223896, 116.22617665,  98.98816027, 108.18843134,\n",
       "       104.53590548, 107.76649003, 105.93644116, 128.05578745,\n",
       "       132.38540371, 134.55479277, 112.28707115, 129.76569003,\n",
       "       115.099862  , 109.30962903, 148.76267668, 104.87627128,\n",
       "       109.45010746, 114.37261721, 138.17926078,  83.14531337,\n",
       "        95.19935605, 134.8849766 , 135.1592095 , 140.30101677,\n",
       "       109.38971489,  99.81835993,  79.53076077,  82.51640038,\n",
       "       113.72039544, 118.39065481, 104.25982551, 118.45980721,\n",
       "       105.98000022,  99.77683616, 148.69853817, 124.83978494,\n",
       "       102.64569641, 116.12973949, 117.14772119, 104.05112399,\n",
       "       106.03507433,  87.8764398 ])"
      ]
     },
     "execution_count": 25,
     "metadata": {},
     "output_type": "execute_result"
    }
   ],
   "source": [
    "data"
   ]
  },
  {
   "cell_type": "code",
   "execution_count": 26,
   "id": "6d967b28",
   "metadata": {},
   "outputs": [
    {
     "data": {
      "text/plain": [
       "114.00984283307668"
      ]
     },
     "execution_count": 26,
     "metadata": {},
     "output_type": "execute_result"
    }
   ],
   "source": [
    "np.mean(data)"
   ]
  },
  {
   "cell_type": "code",
   "execution_count": 27,
   "id": "b3e6dec5",
   "metadata": {},
   "outputs": [
    {
     "data": {
      "text/plain": [
       "16.435227573007356"
      ]
     },
     "execution_count": 27,
     "metadata": {},
     "output_type": "execute_result"
    }
   ],
   "source": [
    "np.std(data)"
   ]
  },
  {
   "cell_type": "code",
   "execution_count": 28,
   "id": "65d2aaae",
   "metadata": {},
   "outputs": [],
   "source": [
    "null_hyphothesis=mean_population"
   ]
  },
  {
   "cell_type": "code",
   "execution_count": 29,
   "id": "99e4c3ea",
   "metadata": {},
   "outputs": [
    {
     "data": {
      "text/plain": [
       "(5.966993727096403, 1.2083234804730179e-09)"
      ]
     },
     "execution_count": 29,
     "metadata": {},
     "output_type": "execute_result"
    }
   ],
   "source": [
    "from statsmodels.stats.weightstats import ztest\n",
    "ztest(data,value=null_hyphothesis,alternative=\"larger\")"
   ]
  },
  {
   "cell_type": "code",
   "execution_count": null,
   "id": "44f9c507",
   "metadata": {},
   "outputs": [],
   "source": [
    "if p_value<alpha:\n",
    "    print(\"reject the null hyphothesis\")\n",
    "    \n",
    "else:\n",
    "    print(\"fail to reject the null hyphothesis\")"
   ]
  },
  {
   "cell_type": "code",
   "execution_count": null,
   "id": "fa71ed22",
   "metadata": {},
   "outputs": [],
   "source": [
    "one-sample t test(with respect to one independent sample)\n",
    "two- sample t test(with respect to two independent sample)\n",
    "paried t-test(two sample from the same populatoin on a different time interval)"
   ]
  },
  {
   "cell_type": "code",
   "execution_count": 31,
   "id": "027207ed",
   "metadata": {},
   "outputs": [],
   "source": [
    "my_cricket_score=[22,38,19,15,48,11,10,49,47,38,10,25,46,10,21,24,29,36,25,25]"
   ]
  },
  {
   "cell_type": "code",
   "execution_count": 44,
   "id": "605a557f",
   "metadata": {},
   "outputs": [
    {
     "data": {
      "text/plain": [
       "20"
      ]
     },
     "execution_count": 44,
     "metadata": {},
     "output_type": "execute_result"
    }
   ],
   "source": [
    "len(my_cricket_score)"
   ]
  },
  {
   "cell_type": "code",
   "execution_count": 32,
   "id": "c243c3e2",
   "metadata": {},
   "outputs": [
    {
     "data": {
      "text/plain": [
       "27.4"
      ]
     },
     "execution_count": 32,
     "metadata": {},
     "output_type": "execute_result"
    }
   ],
   "source": [
    "np.mean(my_cricket_score)"
   ]
  },
  {
   "cell_type": "code",
   "execution_count": null,
   "id": "9ca8b255",
   "metadata": {},
   "outputs": [],
   "source": [
    "sample_mean=27.4"
   ]
  },
  {
   "cell_type": "code",
   "execution_count": null,
   "id": "cd9511cc",
   "metadata": {},
   "outputs": [],
   "source": [
    "null_hyphothesis=>>population mean/true=sample mean "
   ]
  },
  {
   "cell_type": "code",
   "execution_count": 34,
   "id": "c23e3692",
   "metadata": {},
   "outputs": [],
   "source": [
    "import scipy\n",
    "result=scipy.stats.ttest_1samp(my_cricket_score,15)"
   ]
  },
  {
   "cell_type": "code",
   "execution_count": 35,
   "id": "b84308aa",
   "metadata": {},
   "outputs": [
    {
     "data": {
      "text/plain": [
       "Ttest_1sampResult(statistic=4.131642363779888, pvalue=0.0005672503150661017)"
      ]
     },
     "execution_count": 35,
     "metadata": {},
     "output_type": "execute_result"
    }
   ],
   "source": [
    "result"
   ]
  },
  {
   "cell_type": "code",
   "execution_count": 39,
   "id": "2f80f0c7",
   "metadata": {},
   "outputs": [],
   "source": [
    "p_value=result[1]"
   ]
  },
  {
   "cell_type": "code",
   "execution_count": 40,
   "id": "f0809c80",
   "metadata": {},
   "outputs": [
    {
     "name": "stdout",
     "output_type": "stream",
     "text": [
      "reject the null hyphothesis\n"
     ]
    }
   ],
   "source": [
    "if p_value<=0.05:\n",
    "    print(\"reject the null hyphothesis\")\n",
    "\n",
    "else:\n",
    "    print(\"accept the null hyphthesis\")"
   ]
  },
  {
   "cell_type": "code",
   "execution_count": 45,
   "id": "87539c73",
   "metadata": {},
   "outputs": [
    {
     "data": {
      "text/plain": [
       "Ttest_1sampResult(statistic=0.0, pvalue=1.0)"
      ]
     },
     "execution_count": 45,
     "metadata": {},
     "output_type": "execute_result"
    }
   ],
   "source": [
    "scipy.stats.ttest_1samp(my_cricket_score,27.4)"
   ]
  },
  {
   "cell_type": "code",
   "execution_count": 41,
   "id": "8e35299d",
   "metadata": {},
   "outputs": [],
   "source": [
    "p_value=scipy.stats.ttest_1samp(my_cricket_score,26)[1]"
   ]
  },
  {
   "cell_type": "code",
   "execution_count": 43,
   "id": "4dbac4f8",
   "metadata": {},
   "outputs": [
    {
     "data": {
      "text/plain": [
       "0.6461790490703262"
      ]
     },
     "execution_count": 43,
     "metadata": {},
     "output_type": "execute_result"
    }
   ],
   "source": [
    "p_value"
   ]
  },
  {
   "cell_type": "code",
   "execution_count": 42,
   "id": "95943c27",
   "metadata": {},
   "outputs": [
    {
     "name": "stdout",
     "output_type": "stream",
     "text": [
      "accept the null hyphthesis\n"
     ]
    }
   ],
   "source": [
    "if p_value<=0.05:\n",
    "    print(\"reject the null hyphothesis\")\n",
    "\n",
    "else:\n",
    "    print(\"accept the null hyphthesis\")"
   ]
  },
  {
   "cell_type": "code",
   "execution_count": 73,
   "id": "32482f63",
   "metadata": {},
   "outputs": [],
   "source": [
    "#two-sample t test(with respect to two independent sample)\n",
    "my_cricket_score=[22, 38, 29, 45, 48, 41, 40, 49, 47, 38, 20, 45, 46, 50, 21, 44, 29,36, 25, 24]\n",
    "\n",
    "virat_cricket_score=[33, 45, 23, 25, 46, 46, 46, 49, 49, 44, 44, 49, 25, 31, 25, 40, 30,20, 42, 37]"
   ]
  },
  {
   "cell_type": "code",
   "execution_count": 86,
   "id": "129b2b34",
   "metadata": {},
   "outputs": [],
   "source": [
    "first_sample_mean=np.mean(my_cricket_score)"
   ]
  },
  {
   "cell_type": "code",
   "execution_count": 87,
   "id": "c9e43bf3",
   "metadata": {},
   "outputs": [
    {
     "data": {
      "text/plain": [
       "36.85"
      ]
     },
     "execution_count": 87,
     "metadata": {},
     "output_type": "execute_result"
    }
   ],
   "source": [
    "first_sample_mean"
   ]
  },
  {
   "cell_type": "code",
   "execution_count": 80,
   "id": "485a6016",
   "metadata": {},
   "outputs": [],
   "source": [
    "second_sample_mean=np.mean(virat_cricket_score)"
   ]
  },
  {
   "cell_type": "code",
   "execution_count": 81,
   "id": "29bdb21c",
   "metadata": {},
   "outputs": [
    {
     "data": {
      "text/plain": [
       "37.45"
      ]
     },
     "execution_count": 81,
     "metadata": {},
     "output_type": "execute_result"
    }
   ],
   "source": [
    "second_sample_mean"
   ]
  },
  {
   "cell_type": "code",
   "execution_count": null,
   "id": "25b6e3d5",
   "metadata": {},
   "outputs": [],
   "source": [
    "my_null_hyphthesis=both sample mean will be equal"
   ]
  },
  {
   "cell_type": "code",
   "execution_count": 82,
   "id": "7137d21a",
   "metadata": {},
   "outputs": [],
   "source": [
    "t_stats,pvalue=scipy.stats.ttest_ind(my_cricket_score,virat_cricket_score)"
   ]
  },
  {
   "cell_type": "code",
   "execution_count": 83,
   "id": "4430d7dd",
   "metadata": {},
   "outputs": [
    {
     "data": {
      "text/plain": [
       "0.852719896255562"
      ]
     },
     "execution_count": 83,
     "metadata": {},
     "output_type": "execute_result"
    }
   ],
   "source": [
    "pvalue"
   ]
  },
  {
   "cell_type": "code",
   "execution_count": 78,
   "id": "fc86128e",
   "metadata": {},
   "outputs": [
    {
     "name": "stdout",
     "output_type": "stream",
     "text": [
      "Accept the null hyphothesis\n"
     ]
    }
   ],
   "source": [
    "if pvalue<=0.05:\n",
    "    print(\"reject the null hyphothesis\")\n",
    "else:\n",
    "    print(\"Accept the null hyphothesis\")"
   ]
  },
  {
   "cell_type": "code",
   "execution_count": 93,
   "id": "e72677b5",
   "metadata": {},
   "outputs": [],
   "source": [
    "import random\n",
    "population=[]\n",
    "for i in range(1,51):\n",
    "    population.append(random.randint(10,80))"
   ]
  },
  {
   "cell_type": "code",
   "execution_count": 94,
   "id": "f0fa7b24",
   "metadata": {},
   "outputs": [
    {
     "data": {
      "text/plain": [
       "50"
      ]
     },
     "execution_count": 94,
     "metadata": {},
     "output_type": "execute_result"
    }
   ],
   "source": [
    "len(population)"
   ]
  },
  {
   "cell_type": "code",
   "execution_count": 97,
   "id": "73090245",
   "metadata": {},
   "outputs": [],
   "source": [
    "my_cricket_score_from_first_inning=np.random.choice(population,size=20)"
   ]
  },
  {
   "cell_type": "code",
   "execution_count": 98,
   "id": "03e668ec",
   "metadata": {},
   "outputs": [],
   "source": [
    "my_cricket_score_from_second_inning=np.random.choice(population,size=20)"
   ]
  },
  {
   "cell_type": "code",
   "execution_count": 99,
   "id": "935d926c",
   "metadata": {},
   "outputs": [
    {
     "name": "stdout",
     "output_type": "stream",
     "text": [
      "[38 75 24 29 77 12 46 29 78 46 19 31 46 24 74 10 13 42 75 78]\n",
      "[59 30 13 46 51 77 10 79 19 50 12 60 19 30 75 30 71 57 12 13]\n"
     ]
    }
   ],
   "source": [
    "# paired sample t test\n",
    "# take a sample from sample population on different time interval\n",
    "\n",
    "print(my_cricket_score_from_first_inning)\n",
    "print(my_cricket_score_from_second_inning)"
   ]
  },
  {
   "cell_type": "code",
   "execution_count": 132,
   "id": "21cf3d01",
   "metadata": {},
   "outputs": [],
   "source": [
    "my_cricket_score_from_first_inning=[8,7,14,9,17,12,46,29,8,26,19,31,46,24,44,10,13,42,25,28]"
   ]
  },
  {
   "cell_type": "code",
   "execution_count": 133,
   "id": "de77c4eb",
   "metadata": {},
   "outputs": [
    {
     "data": {
      "text/plain": [
       "22.9"
      ]
     },
     "execution_count": 133,
     "metadata": {},
     "output_type": "execute_result"
    }
   ],
   "source": [
    "np.mean(my_cricket_score_from_first_inning)"
   ]
  },
  {
   "cell_type": "code",
   "execution_count": 134,
   "id": "f1ca0a16",
   "metadata": {},
   "outputs": [
    {
     "data": {
      "text/plain": [
       "40.65"
      ]
     },
     "execution_count": 134,
     "metadata": {},
     "output_type": "execute_result"
    }
   ],
   "source": [
    "np.mean(my_cricket_score_from_second_inning)"
   ]
  },
  {
   "cell_type": "code",
   "execution_count": 135,
   "id": "4b50bc72",
   "metadata": {},
   "outputs": [],
   "source": [
    "#my_null_hyphthesis=both sample mean will be equal"
   ]
  },
  {
   "cell_type": "code",
   "execution_count": 136,
   "id": "26e30aa4",
   "metadata": {},
   "outputs": [],
   "source": [
    "t_stats,p_value=scipy.stats.ttest_rel(my_cricket_score_from_first_inning,my_cricket_score_from_second_inning)"
   ]
  },
  {
   "cell_type": "code",
   "execution_count": 137,
   "id": "af9fb1c5",
   "metadata": {},
   "outputs": [
    {
     "data": {
      "text/plain": [
       "0.010973584928873221"
      ]
     },
     "execution_count": 137,
     "metadata": {},
     "output_type": "execute_result"
    }
   ],
   "source": [
    "p_value"
   ]
  },
  {
   "cell_type": "code",
   "execution_count": 138,
   "id": "1bc810b1",
   "metadata": {},
   "outputs": [
    {
     "name": "stdout",
     "output_type": "stream",
     "text": [
      "reject the null hyphothesis\n"
     ]
    }
   ],
   "source": [
    "if p_value<=0.05:\n",
    "    print(\"reject the null hyphothesis\")\n",
    "else:\n",
    "    print(\"Accept the null hyphothesis\")"
   ]
  },
  {
   "cell_type": "markdown",
   "id": "c5529897",
   "metadata": {},
   "source": [
    "# The weights of 25 obese people were taken before enrolling them into the nutrition camp. The population mean weight is found to be 45 kg before starting the camp. After finishing the camp, for the same 25 people, the sample mean was found to be 75 with a standard deviation of 25. Did the fitness camp work?"
   ]
  },
  {
   "cell_type": "code",
   "execution_count": null,
   "id": "69ec8125",
   "metadata": {},
   "outputs": [],
   "source": [
    "h0===> mu=45(sample mean is a true/population mean)"
   ]
  },
  {
   "cell_type": "code",
   "execution_count": null,
   "id": "64122c43",
   "metadata": {},
   "outputs": [],
   "source": [
    "h1===> mu != 45 (two tail test)(sample mean is not a true/populatin mean)"
   ]
  },
  {
   "cell_type": "code",
   "execution_count": 140,
   "id": "085dc167",
   "metadata": {},
   "outputs": [],
   "source": [
    "n=25\n",
    "populaiton_mean=45\n",
    "sample_mean=75\n",
    "sample_std=25"
   ]
  },
  {
   "cell_type": "code",
   "execution_count": 141,
   "id": "36961ffd",
   "metadata": {},
   "outputs": [],
   "source": [
    "t_stats=(sample_mean-populaiton_mean)/(sample_std/np.sqrt(n))"
   ]
  },
  {
   "cell_type": "code",
   "execution_count": 142,
   "id": "34e946a9",
   "metadata": {},
   "outputs": [
    {
     "data": {
      "text/plain": [
       "6.0"
      ]
     },
     "execution_count": 142,
     "metadata": {},
     "output_type": "execute_result"
    }
   ],
   "source": [
    "t_stats"
   ]
  },
  {
   "cell_type": "code",
   "execution_count": null,
   "id": "25df4fdf",
   "metadata": {},
   "outputs": [],
   "source": [
    "sample_mean-populaiton_mean"
   ]
  },
  {
   "cell_type": "code",
   "execution_count": 143,
   "id": "7f02cd93",
   "metadata": {},
   "outputs": [],
   "source": [
    "df=n-1"
   ]
  },
  {
   "cell_type": "code",
   "execution_count": 144,
   "id": "307b00bd",
   "metadata": {},
   "outputs": [
    {
     "data": {
      "text/plain": [
       "24"
      ]
     },
     "execution_count": 144,
     "metadata": {},
     "output_type": "execute_result"
    }
   ],
   "source": [
    "df"
   ]
  },
  {
   "cell_type": "code",
   "execution_count": 145,
   "id": "d3ebe782",
   "metadata": {},
   "outputs": [],
   "source": [
    "alpha=0.05"
   ]
  },
  {
   "cell_type": "code",
   "execution_count": 146,
   "id": "a5a5b350",
   "metadata": {},
   "outputs": [],
   "source": [
    "CI=0.95"
   ]
  },
  {
   "cell_type": "code",
   "execution_count": 148,
   "id": "00f23351",
   "metadata": {},
   "outputs": [],
   "source": [
    "critical_value=stats.t.ppf(CI,df)"
   ]
  },
  {
   "cell_type": "code",
   "execution_count": 149,
   "id": "e3b8893f",
   "metadata": {},
   "outputs": [
    {
     "data": {
      "text/plain": [
       "1.7108820799094275"
      ]
     },
     "execution_count": 149,
     "metadata": {},
     "output_type": "execute_result"
    }
   ],
   "source": [
    "critical_value"
   ]
  },
  {
   "cell_type": "code",
   "execution_count": 150,
   "id": "bbe79e82",
   "metadata": {},
   "outputs": [
    {
     "name": "stdout",
     "output_type": "stream",
     "text": [
      "t-stats 6.0\n",
      "crtical value 1.7108820799094275\n"
     ]
    }
   ],
   "source": [
    "print(\"t-stats\",t_stats)\n",
    "print(\"crtical value\",critical_value)"
   ]
  },
  {
   "cell_type": "code",
   "execution_count": 153,
   "id": "d03d0207",
   "metadata": {},
   "outputs": [],
   "source": [
    "p_value=1-stats.t.cdf(t_stats,df)"
   ]
  },
  {
   "cell_type": "code",
   "execution_count": 155,
   "id": "34426672",
   "metadata": {},
   "outputs": [],
   "source": [
    "dataset=sns.load_dataset('tips')"
   ]
  },
  {
   "cell_type": "code",
   "execution_count": 156,
   "id": "88c52d1d",
   "metadata": {},
   "outputs": [
    {
     "data": {
      "text/html": [
       "<div>\n",
       "<style scoped>\n",
       "    .dataframe tbody tr th:only-of-type {\n",
       "        vertical-align: middle;\n",
       "    }\n",
       "\n",
       "    .dataframe tbody tr th {\n",
       "        vertical-align: top;\n",
       "    }\n",
       "\n",
       "    .dataframe thead th {\n",
       "        text-align: right;\n",
       "    }\n",
       "</style>\n",
       "<table border=\"1\" class=\"dataframe\">\n",
       "  <thead>\n",
       "    <tr style=\"text-align: right;\">\n",
       "      <th></th>\n",
       "      <th>total_bill</th>\n",
       "      <th>tip</th>\n",
       "      <th>sex</th>\n",
       "      <th>smoker</th>\n",
       "      <th>day</th>\n",
       "      <th>time</th>\n",
       "      <th>size</th>\n",
       "    </tr>\n",
       "  </thead>\n",
       "  <tbody>\n",
       "    <tr>\n",
       "      <th>0</th>\n",
       "      <td>16.99</td>\n",
       "      <td>1.01</td>\n",
       "      <td>Female</td>\n",
       "      <td>No</td>\n",
       "      <td>Sun</td>\n",
       "      <td>Dinner</td>\n",
       "      <td>2</td>\n",
       "    </tr>\n",
       "    <tr>\n",
       "      <th>1</th>\n",
       "      <td>10.34</td>\n",
       "      <td>1.66</td>\n",
       "      <td>Male</td>\n",
       "      <td>No</td>\n",
       "      <td>Sun</td>\n",
       "      <td>Dinner</td>\n",
       "      <td>3</td>\n",
       "    </tr>\n",
       "    <tr>\n",
       "      <th>2</th>\n",
       "      <td>21.01</td>\n",
       "      <td>3.50</td>\n",
       "      <td>Male</td>\n",
       "      <td>No</td>\n",
       "      <td>Sun</td>\n",
       "      <td>Dinner</td>\n",
       "      <td>3</td>\n",
       "    </tr>\n",
       "    <tr>\n",
       "      <th>3</th>\n",
       "      <td>23.68</td>\n",
       "      <td>3.31</td>\n",
       "      <td>Male</td>\n",
       "      <td>No</td>\n",
       "      <td>Sun</td>\n",
       "      <td>Dinner</td>\n",
       "      <td>2</td>\n",
       "    </tr>\n",
       "    <tr>\n",
       "      <th>4</th>\n",
       "      <td>24.59</td>\n",
       "      <td>3.61</td>\n",
       "      <td>Female</td>\n",
       "      <td>No</td>\n",
       "      <td>Sun</td>\n",
       "      <td>Dinner</td>\n",
       "      <td>4</td>\n",
       "    </tr>\n",
       "    <tr>\n",
       "      <th>...</th>\n",
       "      <td>...</td>\n",
       "      <td>...</td>\n",
       "      <td>...</td>\n",
       "      <td>...</td>\n",
       "      <td>...</td>\n",
       "      <td>...</td>\n",
       "      <td>...</td>\n",
       "    </tr>\n",
       "    <tr>\n",
       "      <th>239</th>\n",
       "      <td>29.03</td>\n",
       "      <td>5.92</td>\n",
       "      <td>Male</td>\n",
       "      <td>No</td>\n",
       "      <td>Sat</td>\n",
       "      <td>Dinner</td>\n",
       "      <td>3</td>\n",
       "    </tr>\n",
       "    <tr>\n",
       "      <th>240</th>\n",
       "      <td>27.18</td>\n",
       "      <td>2.00</td>\n",
       "      <td>Female</td>\n",
       "      <td>Yes</td>\n",
       "      <td>Sat</td>\n",
       "      <td>Dinner</td>\n",
       "      <td>2</td>\n",
       "    </tr>\n",
       "    <tr>\n",
       "      <th>241</th>\n",
       "      <td>22.67</td>\n",
       "      <td>2.00</td>\n",
       "      <td>Male</td>\n",
       "      <td>Yes</td>\n",
       "      <td>Sat</td>\n",
       "      <td>Dinner</td>\n",
       "      <td>2</td>\n",
       "    </tr>\n",
       "    <tr>\n",
       "      <th>242</th>\n",
       "      <td>17.82</td>\n",
       "      <td>1.75</td>\n",
       "      <td>Male</td>\n",
       "      <td>No</td>\n",
       "      <td>Sat</td>\n",
       "      <td>Dinner</td>\n",
       "      <td>2</td>\n",
       "    </tr>\n",
       "    <tr>\n",
       "      <th>243</th>\n",
       "      <td>18.78</td>\n",
       "      <td>3.00</td>\n",
       "      <td>Female</td>\n",
       "      <td>No</td>\n",
       "      <td>Thur</td>\n",
       "      <td>Dinner</td>\n",
       "      <td>2</td>\n",
       "    </tr>\n",
       "  </tbody>\n",
       "</table>\n",
       "<p>244 rows × 7 columns</p>\n",
       "</div>"
      ],
      "text/plain": [
       "     total_bill   tip     sex smoker   day    time  size\n",
       "0         16.99  1.01  Female     No   Sun  Dinner     2\n",
       "1         10.34  1.66    Male     No   Sun  Dinner     3\n",
       "2         21.01  3.50    Male     No   Sun  Dinner     3\n",
       "3         23.68  3.31    Male     No   Sun  Dinner     2\n",
       "4         24.59  3.61  Female     No   Sun  Dinner     4\n",
       "..          ...   ...     ...    ...   ...     ...   ...\n",
       "239       29.03  5.92    Male     No   Sat  Dinner     3\n",
       "240       27.18  2.00  Female    Yes   Sat  Dinner     2\n",
       "241       22.67  2.00    Male    Yes   Sat  Dinner     2\n",
       "242       17.82  1.75    Male     No   Sat  Dinner     2\n",
       "243       18.78  3.00  Female     No  Thur  Dinner     2\n",
       "\n",
       "[244 rows x 7 columns]"
      ]
     },
     "execution_count": 156,
     "metadata": {},
     "output_type": "execute_result"
    }
   ],
   "source": [
    "dataset"
   ]
  },
  {
   "cell_type": "code",
   "execution_count": 158,
   "id": "d5133cbe",
   "metadata": {},
   "outputs": [
    {
     "name": "stdout",
     "output_type": "stream",
     "text": [
      "<class 'pandas.core.frame.DataFrame'>\n",
      "RangeIndex: 244 entries, 0 to 243\n",
      "Data columns (total 7 columns):\n",
      " #   Column      Non-Null Count  Dtype   \n",
      "---  ------      --------------  -----   \n",
      " 0   total_bill  244 non-null    float64 \n",
      " 1   tip         244 non-null    float64 \n",
      " 2   sex         244 non-null    category\n",
      " 3   smoker      244 non-null    category\n",
      " 4   day         244 non-null    category\n",
      " 5   time        244 non-null    category\n",
      " 6   size        244 non-null    int64   \n",
      "dtypes: category(4), float64(2), int64(1)\n",
      "memory usage: 7.4 KB\n"
     ]
    }
   ],
   "source": [
    "dataset.info()"
   ]
  },
  {
   "cell_type": "code",
   "execution_count": 161,
   "id": "b7b7f675",
   "metadata": {},
   "outputs": [
    {
     "data": {
      "text/plain": [
       "Index(['total_bill', 'tip', 'sex', 'smoker', 'day', 'time', 'size'], dtype='object')"
      ]
     },
     "execution_count": 161,
     "metadata": {},
     "output_type": "execute_result"
    }
   ],
   "source": [
    "dataset.columns"
   ]
  },
  {
   "cell_type": "code",
   "execution_count": null,
   "id": "c1ffc7b0",
   "metadata": {},
   "outputs": [],
   "source": [
    "# this chi squre test we peform on top of thge categorical data"
   ]
  },
  {
   "cell_type": "code",
   "execution_count": 163,
   "id": "51c5dbbe",
   "metadata": {},
   "outputs": [
    {
     "data": {
      "text/html": [
       "<div>\n",
       "<style scoped>\n",
       "    .dataframe tbody tr th:only-of-type {\n",
       "        vertical-align: middle;\n",
       "    }\n",
       "\n",
       "    .dataframe tbody tr th {\n",
       "        vertical-align: top;\n",
       "    }\n",
       "\n",
       "    .dataframe thead th {\n",
       "        text-align: right;\n",
       "    }\n",
       "</style>\n",
       "<table border=\"1\" class=\"dataframe\">\n",
       "  <thead>\n",
       "    <tr style=\"text-align: right;\">\n",
       "      <th></th>\n",
       "      <th>total_bill</th>\n",
       "      <th>tip</th>\n",
       "      <th>sex</th>\n",
       "      <th>smoker</th>\n",
       "      <th>day</th>\n",
       "      <th>time</th>\n",
       "      <th>size</th>\n",
       "    </tr>\n",
       "  </thead>\n",
       "  <tbody>\n",
       "    <tr>\n",
       "      <th>0</th>\n",
       "      <td>16.99</td>\n",
       "      <td>1.01</td>\n",
       "      <td>Female</td>\n",
       "      <td>No</td>\n",
       "      <td>Sun</td>\n",
       "      <td>Dinner</td>\n",
       "      <td>2</td>\n",
       "    </tr>\n",
       "    <tr>\n",
       "      <th>1</th>\n",
       "      <td>10.34</td>\n",
       "      <td>1.66</td>\n",
       "      <td>Male</td>\n",
       "      <td>No</td>\n",
       "      <td>Sun</td>\n",
       "      <td>Dinner</td>\n",
       "      <td>3</td>\n",
       "    </tr>\n",
       "    <tr>\n",
       "      <th>2</th>\n",
       "      <td>21.01</td>\n",
       "      <td>3.50</td>\n",
       "      <td>Male</td>\n",
       "      <td>No</td>\n",
       "      <td>Sun</td>\n",
       "      <td>Dinner</td>\n",
       "      <td>3</td>\n",
       "    </tr>\n",
       "    <tr>\n",
       "      <th>3</th>\n",
       "      <td>23.68</td>\n",
       "      <td>3.31</td>\n",
       "      <td>Male</td>\n",
       "      <td>No</td>\n",
       "      <td>Sun</td>\n",
       "      <td>Dinner</td>\n",
       "      <td>2</td>\n",
       "    </tr>\n",
       "    <tr>\n",
       "      <th>4</th>\n",
       "      <td>24.59</td>\n",
       "      <td>3.61</td>\n",
       "      <td>Female</td>\n",
       "      <td>No</td>\n",
       "      <td>Sun</td>\n",
       "      <td>Dinner</td>\n",
       "      <td>4</td>\n",
       "    </tr>\n",
       "  </tbody>\n",
       "</table>\n",
       "</div>"
      ],
      "text/plain": [
       "   total_bill   tip     sex smoker  day    time  size\n",
       "0       16.99  1.01  Female     No  Sun  Dinner     2\n",
       "1       10.34  1.66    Male     No  Sun  Dinner     3\n",
       "2       21.01  3.50    Male     No  Sun  Dinner     3\n",
       "3       23.68  3.31    Male     No  Sun  Dinner     2\n",
       "4       24.59  3.61  Female     No  Sun  Dinner     4"
      ]
     },
     "execution_count": 163,
     "metadata": {},
     "output_type": "execute_result"
    }
   ],
   "source": [
    "dataset.head()"
   ]
  },
  {
   "cell_type": "code",
   "execution_count": 164,
   "id": "3b3728c7",
   "metadata": {},
   "outputs": [
    {
     "data": {
      "text/html": [
       "<div>\n",
       "<style scoped>\n",
       "    .dataframe tbody tr th:only-of-type {\n",
       "        vertical-align: middle;\n",
       "    }\n",
       "\n",
       "    .dataframe tbody tr th {\n",
       "        vertical-align: top;\n",
       "    }\n",
       "\n",
       "    .dataframe thead th {\n",
       "        text-align: right;\n",
       "    }\n",
       "</style>\n",
       "<table border=\"1\" class=\"dataframe\">\n",
       "  <thead>\n",
       "    <tr style=\"text-align: right;\">\n",
       "      <th></th>\n",
       "      <th>sex</th>\n",
       "      <th>smoker</th>\n",
       "    </tr>\n",
       "  </thead>\n",
       "  <tbody>\n",
       "    <tr>\n",
       "      <th>0</th>\n",
       "      <td>Female</td>\n",
       "      <td>No</td>\n",
       "    </tr>\n",
       "    <tr>\n",
       "      <th>1</th>\n",
       "      <td>Male</td>\n",
       "      <td>No</td>\n",
       "    </tr>\n",
       "    <tr>\n",
       "      <th>2</th>\n",
       "      <td>Male</td>\n",
       "      <td>No</td>\n",
       "    </tr>\n",
       "    <tr>\n",
       "      <th>3</th>\n",
       "      <td>Male</td>\n",
       "      <td>No</td>\n",
       "    </tr>\n",
       "    <tr>\n",
       "      <th>4</th>\n",
       "      <td>Female</td>\n",
       "      <td>No</td>\n",
       "    </tr>\n",
       "    <tr>\n",
       "      <th>...</th>\n",
       "      <td>...</td>\n",
       "      <td>...</td>\n",
       "    </tr>\n",
       "    <tr>\n",
       "      <th>239</th>\n",
       "      <td>Male</td>\n",
       "      <td>No</td>\n",
       "    </tr>\n",
       "    <tr>\n",
       "      <th>240</th>\n",
       "      <td>Female</td>\n",
       "      <td>Yes</td>\n",
       "    </tr>\n",
       "    <tr>\n",
       "      <th>241</th>\n",
       "      <td>Male</td>\n",
       "      <td>Yes</td>\n",
       "    </tr>\n",
       "    <tr>\n",
       "      <th>242</th>\n",
       "      <td>Male</td>\n",
       "      <td>No</td>\n",
       "    </tr>\n",
       "    <tr>\n",
       "      <th>243</th>\n",
       "      <td>Female</td>\n",
       "      <td>No</td>\n",
       "    </tr>\n",
       "  </tbody>\n",
       "</table>\n",
       "<p>244 rows × 2 columns</p>\n",
       "</div>"
      ],
      "text/plain": [
       "        sex smoker\n",
       "0    Female     No\n",
       "1      Male     No\n",
       "2      Male     No\n",
       "3      Male     No\n",
       "4    Female     No\n",
       "..      ...    ...\n",
       "239    Male     No\n",
       "240  Female    Yes\n",
       "241    Male    Yes\n",
       "242    Male     No\n",
       "243  Female     No\n",
       "\n",
       "[244 rows x 2 columns]"
      ]
     },
     "execution_count": 164,
     "metadata": {},
     "output_type": "execute_result"
    }
   ],
   "source": [
    "dataset[[\"sex\",\"smoker\"]]"
   ]
  },
  {
   "cell_type": "code",
   "execution_count": 167,
   "id": "f59f8b3d",
   "metadata": {},
   "outputs": [],
   "source": [
    "import pandas as pd\n",
    "dataset_table=pd.crosstab(dataset[\"sex\"],dataset[\"smoker\"])"
   ]
  },
  {
   "cell_type": "code",
   "execution_count": 168,
   "id": "2bea22ef",
   "metadata": {},
   "outputs": [
    {
     "data": {
      "text/html": [
       "<div>\n",
       "<style scoped>\n",
       "    .dataframe tbody tr th:only-of-type {\n",
       "        vertical-align: middle;\n",
       "    }\n",
       "\n",
       "    .dataframe tbody tr th {\n",
       "        vertical-align: top;\n",
       "    }\n",
       "\n",
       "    .dataframe thead th {\n",
       "        text-align: right;\n",
       "    }\n",
       "</style>\n",
       "<table border=\"1\" class=\"dataframe\">\n",
       "  <thead>\n",
       "    <tr style=\"text-align: right;\">\n",
       "      <th>smoker</th>\n",
       "      <th>Yes</th>\n",
       "      <th>No</th>\n",
       "    </tr>\n",
       "    <tr>\n",
       "      <th>sex</th>\n",
       "      <th></th>\n",
       "      <th></th>\n",
       "    </tr>\n",
       "  </thead>\n",
       "  <tbody>\n",
       "    <tr>\n",
       "      <th>Male</th>\n",
       "      <td>60</td>\n",
       "      <td>97</td>\n",
       "    </tr>\n",
       "    <tr>\n",
       "      <th>Female</th>\n",
       "      <td>33</td>\n",
       "      <td>54</td>\n",
       "    </tr>\n",
       "  </tbody>\n",
       "</table>\n",
       "</div>"
      ],
      "text/plain": [
       "smoker  Yes  No\n",
       "sex            \n",
       "Male     60  97\n",
       "Female   33  54"
      ]
     },
     "execution_count": 168,
     "metadata": {},
     "output_type": "execute_result"
    }
   ],
   "source": [
    "dataset_table"
   ]
  },
  {
   "cell_type": "code",
   "execution_count": 170,
   "id": "9e979224",
   "metadata": {},
   "outputs": [],
   "source": [
    "dataset_array=dataset_table.values"
   ]
  },
  {
   "cell_type": "code",
   "execution_count": 186,
   "id": "d92e57f8",
   "metadata": {},
   "outputs": [],
   "source": [
    "observed_value=dataset_array"
   ]
  },
  {
   "cell_type": "code",
   "execution_count": 172,
   "id": "1484d644",
   "metadata": {},
   "outputs": [],
   "source": [
    "import scipy.stats as stats"
   ]
  },
  {
   "cell_type": "code",
   "execution_count": 174,
   "id": "93685d34",
   "metadata": {},
   "outputs": [],
   "source": [
    "stats_test,p,dof,Expected_Value=stats.chi2_contingency(dataset_array)"
   ]
  },
  {
   "cell_type": "code",
   "execution_count": 175,
   "id": "2f494076",
   "metadata": {},
   "outputs": [
    {
     "data": {
      "text/plain": [
       "array([[59.84016393, 97.15983607],\n",
       "       [33.15983607, 53.84016393]])"
      ]
     },
     "execution_count": 175,
     "metadata": {},
     "output_type": "execute_result"
    }
   ],
   "source": [
    "Expected_Value"
   ]
  },
  {
   "cell_type": "code",
   "execution_count": 180,
   "id": "7cca9efe",
   "metadata": {},
   "outputs": [],
   "source": [
    "no_of_col=dataset_table.iloc[0:2,0]"
   ]
  },
  {
   "cell_type": "code",
   "execution_count": 182,
   "id": "cde9117b",
   "metadata": {},
   "outputs": [
    {
     "data": {
      "text/plain": [
       "2"
      ]
     },
     "execution_count": 182,
     "metadata": {},
     "output_type": "execute_result"
    }
   ],
   "source": [
    "len(no_of_col)"
   ]
  },
  {
   "cell_type": "code",
   "execution_count": 181,
   "id": "485ac9eb",
   "metadata": {},
   "outputs": [],
   "source": [
    "no_of_row=dataset_table.iloc[0,0:2]"
   ]
  },
  {
   "cell_type": "code",
   "execution_count": 183,
   "id": "a91d97a7",
   "metadata": {},
   "outputs": [
    {
     "data": {
      "text/plain": [
       "2"
      ]
     },
     "execution_count": 183,
     "metadata": {},
     "output_type": "execute_result"
    }
   ],
   "source": [
    "len(no_of_row)"
   ]
  },
  {
   "cell_type": "code",
   "execution_count": 184,
   "id": "adadf3b4",
   "metadata": {},
   "outputs": [],
   "source": [
    "dof=(len(no_of_col)-1)*(len(no_of_row)-1)"
   ]
  },
  {
   "cell_type": "code",
   "execution_count": 185,
   "id": "a55b42a9",
   "metadata": {},
   "outputs": [
    {
     "data": {
      "text/plain": [
       "1"
      ]
     },
     "execution_count": 185,
     "metadata": {},
     "output_type": "execute_result"
    }
   ],
   "source": [
    "dof"
   ]
  },
  {
   "attachments": {
    "image.png": {
     "image/png": "[encoded data removed]"
    }
   },
   "cell_type": "markdown",
   "id": "49d9f675",
   "metadata": {},
   "source": [
    "![image.png](attachment:image.png)"
   ]
  },
  {
   "cell_type": "code",
   "execution_count": 189,
   "id": "869d4dbd",
   "metadata": {},
   "outputs": [
    {
     "name": "stdout",
     "output_type": "stream",
     "text": [
      "[60 97] [59.84016393 97.15983607]\n",
      "[33 54] [33.15983607 53.84016393]\n"
     ]
    }
   ],
   "source": [
    " for o,e in zip(observed_value,Expected_Value):\n",
    "        print(o,e)"
   ]
  },
  {
   "cell_type": "code",
   "execution_count": 190,
   "id": "48cff499",
   "metadata": {},
   "outputs": [],
   "source": [
    "from scipy.stats import chi2\n",
    "chisqure=sum([(o-e)**2/e for o,e in zip(observed_value,Expected_Value)])"
   ]
  },
  {
   "cell_type": "code",
   "execution_count": 191,
   "id": "327c4aef",
   "metadata": {},
   "outputs": [
    {
     "data": {
      "text/plain": [
       "array([0.00119737, 0.00073745])"
      ]
     },
     "execution_count": 191,
     "metadata": {},
     "output_type": "execute_result"
    }
   ],
   "source": [
    "chisqure"
   ]
  },
  {
   "cell_type": "code",
   "execution_count": 195,
   "id": "4b2ebc32",
   "metadata": {},
   "outputs": [],
   "source": [
    "chisqurestats=chisqure[0]+chisqure[1]"
   ]
  },
  {
   "cell_type": "code",
   "execution_count": 196,
   "id": "09c47231",
   "metadata": {},
   "outputs": [
    {
     "data": {
      "text/plain": [
       "0.001934818536627623"
      ]
     },
     "execution_count": 196,
     "metadata": {},
     "output_type": "execute_result"
    }
   ],
   "source": [
    "chisqurestats"
   ]
  },
  {
   "cell_type": "code",
   "execution_count": 192,
   "id": "77ca8f0c",
   "metadata": {},
   "outputs": [],
   "source": [
    "alpha=0.5\n",
    "Ci=0.95"
   ]
  },
  {
   "cell_type": "code",
   "execution_count": 197,
   "id": "e7755b55",
   "metadata": {},
   "outputs": [],
   "source": [
    "critical_chi_value=chi2.ppf(Ci,df=dof)"
   ]
  },
  {
   "cell_type": "code",
   "execution_count": 199,
   "id": "2b3f5903",
   "metadata": {},
   "outputs": [
    {
     "data": {
      "text/plain": [
       "3.841458820694124"
      ]
     },
     "execution_count": 199,
     "metadata": {},
     "output_type": "execute_result"
    }
   ],
   "source": [
    "critical_chi_value"
   ]
  },
  {
   "cell_type": "code",
   "execution_count": 198,
   "id": "09d9a491",
   "metadata": {},
   "outputs": [
    {
     "name": "stdout",
     "output_type": "stream",
     "text": [
      "accept the null hyphothesis there is no relation between two categorical variable\n"
     ]
    }
   ],
   "source": [
    "if chisqurestats>=critical_chi_value:\n",
    "    print(\" reject the null hyphothesis, there is a relatiuonship between two categorical variable\")\n",
    "else:\n",
    "    print(\"accept the null hyphothesis there is no relation between two categorical variable\")"
   ]
  },
  {
   "cell_type": "code",
   "execution_count": null,
   "id": "e9ec0612",
   "metadata": {},
   "outputs": [],
   "source": []
  }
 ],
 "metadata": {
  "kernelspec": {
   "display_name": "Python 3 (ipykernel)",
   "language": "python",
   "name": "python3"
  },
  "language_info": {
   "codemirror_mode": {
    "name": "ipython",
    "version": 3
   },
   "file_extension": ".py",
   "mimetype": "text/x-python",
   "name": "python",
   "nbconvert_exporter": "python",
   "pygments_lexer": "ipython3",
   "version": "3.9.7"
  }
 },
 "nbformat": 4,
 "nbformat_minor": 5
}
