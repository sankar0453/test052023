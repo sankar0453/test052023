{
 "cells": [
  {
   "cell_type": "code",
   "execution_count": 1,
   "id": "ee943a6b",
   "metadata": {},
   "outputs": [],
   "source": [
    "data=[23,24,32,45,12,43,67,45,32,56,32]"
   ]
  },
  {
   "cell_type": "code",
   "execution_count": 2,
   "id": "99b01a45",
   "metadata": {},
   "outputs": [
    {
     "data": {
      "text/plain": [
       "[23, 24, 32, 45, 12, 43, 67, 45, 32, 56, 32]"
      ]
     },
     "execution_count": 2,
     "metadata": {},
     "output_type": "execute_result"
    }
   ],
   "source": [
    "data"
   ]
  },
  {
   "cell_type": "code",
   "execution_count": 3,
   "id": "0842f5df",
   "metadata": {},
   "outputs": [],
   "source": [
    "data_copy=data.copy()"
   ]
  },
  {
   "cell_type": "code",
   "execution_count": 4,
   "id": "e0cb2630",
   "metadata": {},
   "outputs": [
    {
     "data": {
      "text/plain": [
       "[23, 24, 32, 45, 12, 43, 67, 45, 32, 56, 32]"
      ]
     },
     "execution_count": 4,
     "metadata": {},
     "output_type": "execute_result"
    }
   ],
   "source": [
    "data_copy"
   ]
  },
  {
   "cell_type": "code",
   "execution_count": 6,
   "id": "4ec7a8be",
   "metadata": {},
   "outputs": [
    {
     "data": {
      "text/plain": [
       "<AxesSubplot:ylabel='Count'>"
      ]
     },
     "execution_count": 6,
     "metadata": {},
     "output_type": "execute_result"
    },
    {
     "data": {
      "image/png": "[encoded data removed]",
      "text/plain": [
       "<Figure size 432x288 with 1 Axes>"
      ]
     },
     "metadata": {
      "needs_background": "light"
     },
     "output_type": "display_data"
    }
   ],
   "source": [
    "import seaborn as sns\n",
    "sns.histplot(data_copy,kde=True)"
   ]
  },
  {
   "cell_type": "code",
   "execution_count": 7,
   "id": "c68d4456",
   "metadata": {},
   "outputs": [],
   "source": [
    "data_copy.sort()"
   ]
  },
  {
   "cell_type": "code",
   "execution_count": 8,
   "id": "3ba0f6bb",
   "metadata": {},
   "outputs": [
    {
     "data": {
      "text/plain": [
       "[12, 23, 24, 32, 32, 32, 43, 45, 45, 56, 67]"
      ]
     },
     "execution_count": 8,
     "metadata": {},
     "output_type": "execute_result"
    }
   ],
   "source": [
    "data_copy"
   ]
  },
  {
   "cell_type": "code",
   "execution_count": 9,
   "id": "4bb398c7",
   "metadata": {},
   "outputs": [],
   "source": [
    "data_copy.append(179)"
   ]
  },
  {
   "cell_type": "code",
   "execution_count": 10,
   "id": "22980e5a",
   "metadata": {},
   "outputs": [],
   "source": [
    "data_copy.append(210)"
   ]
  },
  {
   "cell_type": "code",
   "execution_count": 11,
   "id": "8ee2bbd9",
   "metadata": {},
   "outputs": [],
   "source": [
    "data_copy.append(290)"
   ]
  },
  {
   "cell_type": "code",
   "execution_count": 12,
   "id": "21264116",
   "metadata": {},
   "outputs": [
    {
     "data": {
      "text/plain": [
       "[12, 23, 24, 32, 32, 32, 43, 45, 45, 56, 67, 179, 210, 290]"
      ]
     },
     "execution_count": 12,
     "metadata": {},
     "output_type": "execute_result"
    }
   ],
   "source": [
    "data_copy"
   ]
  },
  {
   "cell_type": "code",
   "execution_count": 13,
   "id": "4ecde78b",
   "metadata": {},
   "outputs": [
    {
     "data": {
      "text/plain": [
       "<AxesSubplot:ylabel='Count'>"
      ]
     },
     "execution_count": 13,
     "metadata": {},
     "output_type": "execute_result"
    },
    {
     "data": {
      "image/png": "[encoded data removed]",
      "text/plain": [
       "<Figure size 432x288 with 1 Axes>"
      ]
     },
     "metadata": {
      "needs_background": "light"
     },
     "output_type": "display_data"
    }
   ],
   "source": [
    "import seaborn as sns\n",
    "sns.histplot(data_copy,kde=True)"
   ]
  },
  {
   "cell_type": "code",
   "execution_count": 14,
   "id": "61bb09fd",
   "metadata": {},
   "outputs": [
    {
     "data": {
      "text/plain": [
       "[23, 24, 32, 45, 12, 43, 67, 45, 32, 56, 32]"
      ]
     },
     "execution_count": 14,
     "metadata": {},
     "output_type": "execute_result"
    }
   ],
   "source": [
    "#this is a raw \n",
    "data"
   ]
  },
  {
   "cell_type": "code",
   "execution_count": 15,
   "id": "195437ab",
   "metadata": {},
   "outputs": [
    {
     "data": {
      "text/plain": [
       "[12, 23, 24, 32, 32, 32, 43, 45, 45, 56, 67, 179, 210, 290]"
      ]
     },
     "execution_count": 15,
     "metadata": {},
     "output_type": "execute_result"
    }
   ],
   "source": [
    "# this is a rgiht skwed data\n",
    "data_copy\n"
   ]
  },
  {
   "cell_type": "code",
   "execution_count": 17,
   "id": "d0f6eec6",
   "metadata": {},
   "outputs": [],
   "source": [
    "# this is my left skewd data\n",
    "data_copy2=data.copy()"
   ]
  },
  {
   "cell_type": "code",
   "execution_count": 19,
   "id": "3b31fb19",
   "metadata": {},
   "outputs": [
    {
     "data": {
      "text/plain": [
       "[23, 24, 32, 45, 12, 43, 67, 45, 32, 56, 32]"
      ]
     },
     "execution_count": 19,
     "metadata": {},
     "output_type": "execute_result"
    }
   ],
   "source": [
    "data_copy2"
   ]
  },
  {
   "cell_type": "code",
   "execution_count": 20,
   "id": "156095e0",
   "metadata": {},
   "outputs": [],
   "source": [
    "data_copy2.insert(0,-10)"
   ]
  },
  {
   "cell_type": "code",
   "execution_count": 21,
   "id": "575679e1",
   "metadata": {},
   "outputs": [
    {
     "data": {
      "text/plain": [
       "[-10, 23, 24, 32, 45, 12, 43, 67, 45, 32, 56, 32]"
      ]
     },
     "execution_count": 21,
     "metadata": {},
     "output_type": "execute_result"
    }
   ],
   "source": [
    "data_copy2"
   ]
  },
  {
   "cell_type": "code",
   "execution_count": 22,
   "id": "4a53af79",
   "metadata": {},
   "outputs": [],
   "source": [
    "data_copy2.insert(0,-75)"
   ]
  },
  {
   "cell_type": "code",
   "execution_count": 23,
   "id": "31ff72ba",
   "metadata": {},
   "outputs": [
    {
     "data": {
      "text/plain": [
       "[-75, -10, 23, 24, 32, 45, 12, 43, 67, 45, 32, 56, 32]"
      ]
     },
     "execution_count": 23,
     "metadata": {},
     "output_type": "execute_result"
    }
   ],
   "source": [
    "data_copy2"
   ]
  },
  {
   "cell_type": "code",
   "execution_count": 25,
   "id": "2d724d0f",
   "metadata": {},
   "outputs": [
    {
     "data": {
      "text/plain": [
       "<AxesSubplot:ylabel='Count'>"
      ]
     },
     "execution_count": 25,
     "metadata": {},
     "output_type": "execute_result"
    },
    {
     "data": {
      "image/png": "[encoded data removed]",
      "text/plain": [
       "<Figure size 432x288 with 1 Axes>"
      ]
     },
     "metadata": {
      "needs_background": "light"
     },
     "output_type": "display_data"
    }
   ],
   "source": [
    "sns.histplot(data_copy2,kde=True)"
   ]
  },
  {
   "cell_type": "code",
   "execution_count": 27,
   "id": "d2984f5e",
   "metadata": {},
   "outputs": [],
   "source": [
    "import pandas as pd\n",
    "data2=pd.read_csv(\"iris.csv\")"
   ]
  },
  {
   "cell_type": "code",
   "execution_count": 39,
   "id": "5586dee2",
   "metadata": {},
   "outputs": [
    {
     "data": {
      "text/plain": [
       "(150, 5)"
      ]
     },
     "execution_count": 39,
     "metadata": {},
     "output_type": "execute_result"
    }
   ],
   "source": [
    "data2.shape"
   ]
  },
  {
   "cell_type": "code",
   "execution_count": 28,
   "id": "9edf78b5",
   "metadata": {},
   "outputs": [
    {
     "data": {
      "text/html": [
       "<div>\n",
       "<style scoped>\n",
       "    .dataframe tbody tr th:only-of-type {\n",
       "        vertical-align: middle;\n",
       "    }\n",
       "\n",
       "    .dataframe tbody tr th {\n",
       "        vertical-align: top;\n",
       "    }\n",
       "\n",
       "    .dataframe thead th {\n",
       "        text-align: right;\n",
       "    }\n",
       "</style>\n",
       "<table border=\"1\" class=\"dataframe\">\n",
       "  <thead>\n",
       "    <tr style=\"text-align: right;\">\n",
       "      <th></th>\n",
       "      <th>sepal_length</th>\n",
       "      <th>sepal_width</th>\n",
       "      <th>petal_length</th>\n",
       "      <th>petal_width</th>\n",
       "      <th>species</th>\n",
       "    </tr>\n",
       "  </thead>\n",
       "  <tbody>\n",
       "    <tr>\n",
       "      <th>0</th>\n",
       "      <td>5.1</td>\n",
       "      <td>3.5</td>\n",
       "      <td>1.4</td>\n",
       "      <td>0.2</td>\n",
       "      <td>setosa</td>\n",
       "    </tr>\n",
       "    <tr>\n",
       "      <th>1</th>\n",
       "      <td>4.9</td>\n",
       "      <td>3.0</td>\n",
       "      <td>1.4</td>\n",
       "      <td>0.2</td>\n",
       "      <td>setosa</td>\n",
       "    </tr>\n",
       "    <tr>\n",
       "      <th>2</th>\n",
       "      <td>4.7</td>\n",
       "      <td>3.2</td>\n",
       "      <td>1.3</td>\n",
       "      <td>0.2</td>\n",
       "      <td>setosa</td>\n",
       "    </tr>\n",
       "    <tr>\n",
       "      <th>3</th>\n",
       "      <td>4.6</td>\n",
       "      <td>3.1</td>\n",
       "      <td>1.5</td>\n",
       "      <td>0.2</td>\n",
       "      <td>setosa</td>\n",
       "    </tr>\n",
       "    <tr>\n",
       "      <th>4</th>\n",
       "      <td>5.0</td>\n",
       "      <td>3.6</td>\n",
       "      <td>1.4</td>\n",
       "      <td>0.2</td>\n",
       "      <td>setosa</td>\n",
       "    </tr>\n",
       "  </tbody>\n",
       "</table>\n",
       "</div>"
      ],
      "text/plain": [
       "   sepal_length  sepal_width  petal_length  petal_width species\n",
       "0           5.1          3.5           1.4          0.2  setosa\n",
       "1           4.9          3.0           1.4          0.2  setosa\n",
       "2           4.7          3.2           1.3          0.2  setosa\n",
       "3           4.6          3.1           1.5          0.2  setosa\n",
       "4           5.0          3.6           1.4          0.2  setosa"
      ]
     },
     "execution_count": 28,
     "metadata": {},
     "output_type": "execute_result"
    }
   ],
   "source": [
    "data2.head()"
   ]
  },
  {
   "cell_type": "code",
   "execution_count": 32,
   "id": "773c5067",
   "metadata": {
    "scrolled": true
   },
   "outputs": [
    {
     "data": {
      "text/plain": [
       "<AxesSubplot:xlabel='sepal_length', ylabel='Count'>"
      ]
     },
     "execution_count": 32,
     "metadata": {},
     "output_type": "execute_result"
    },
    {
     "data": {
      "image/png": "[encoded data removed]",
      "text/plain": [
       "<Figure size 432x288 with 1 Axes>"
      ]
     },
     "metadata": {
      "needs_background": "light"
     },
     "output_type": "display_data"
    }
   ],
   "source": [
    "sns.histplot(data2[\"sepal_length\"],kde=True)"
   ]
  },
  {
   "cell_type": "code",
   "execution_count": 33,
   "id": "27914d94",
   "metadata": {},
   "outputs": [
    {
     "data": {
      "text/plain": [
       "<AxesSubplot:xlabel='sepal_width', ylabel='Count'>"
      ]
     },
     "execution_count": 33,
     "metadata": {},
     "output_type": "execute_result"
    },
    {
     "data": {
      "image/png": "[encoded data removed]",
      "text/plain": [
       "<Figure size 432x288 with 1 Axes>"
      ]
     },
     "metadata": {
      "needs_background": "light"
     },
     "output_type": "display_data"
    }
   ],
   "source": [
    "sns.histplot(data2[\"sepal_width\"],kde=True)"
   ]
  },
  {
   "cell_type": "code",
   "execution_count": 34,
   "id": "00eeebac",
   "metadata": {},
   "outputs": [
    {
     "data": {
      "text/plain": [
       "<AxesSubplot:xlabel='petal_length', ylabel='Count'>"
      ]
     },
     "execution_count": 34,
     "metadata": {},
     "output_type": "execute_result"
    },
    {
     "data": {
      "image/png": "[encoded data removed]",
      "text/plain": [
       "<Figure size 432x288 with 1 Axes>"
      ]
     },
     "metadata": {
      "needs_background": "light"
     },
     "output_type": "display_data"
    }
   ],
   "source": [
    "sns.histplot(data2[\"petal_length\"],kde=True)"
   ]
  },
  {
   "cell_type": "code",
   "execution_count": 35,
   "id": "6e79a2e1",
   "metadata": {},
   "outputs": [
    {
     "data": {
      "text/plain": [
       "<AxesSubplot:xlabel='petal_width', ylabel='Count'>"
      ]
     },
     "execution_count": 35,
     "metadata": {},
     "output_type": "execute_result"
    },
    {
     "data": {
      "image/png": "[encoded data removed]",
      "text/plain": [
       "<Figure size 432x288 with 1 Axes>"
      ]
     },
     "metadata": {
      "needs_background": "light"
     },
     "output_type": "display_data"
    }
   ],
   "source": [
    "sns.histplot(data2[\"petal_width\"],kde=True)"
   ]
  },
  {
   "cell_type": "code",
   "execution_count": null,
   "id": "8e8e64b4",
   "metadata": {},
   "outputs": [],
   "source": [
    "probability disrtribution function\n",
    "----------------------------------\n",
    "\n",
    "probabilty mass function (Discrete Probability Distribution)\n",
    "- uniform\n",
    "- bernouli \n",
    "- binomial dist\n",
    "- possion\n",
    "\n",
    "prprobabilty density function(Continues Probability Distribution)\n",
    "- uniform\n",
    "- normal(SND)\n",
    "- lognormal\n",
    "- power law\n",
    "- pareto"
   ]
  },
  {
   "cell_type": "code",
   "execution_count": 40,
   "id": "79175a97",
   "metadata": {},
   "outputs": [],
   "source": [
    "import numpy as np\n",
    "mu=0.5\n",
    "sigma=0.2\n",
    "normal_distributed_data=np.random.normal(mu,sigma,1000)"
   ]
  },
  {
   "cell_type": "code",
   "execution_count": 41,
   "id": "ea5153b4",
   "metadata": {},
   "outputs": [
    {
     "data": {
      "text/plain": [
       "array([ 0.36343364,  0.69933736,  0.39838735,  0.52549021,  0.54253345,\n",
       "        0.28821455,  1.0003367 ,  0.29161499,  0.56908161,  0.16540131,\n",
       "        0.74966947,  0.47112345,  0.57225653,  0.62379486,  0.38842473,\n",
       "        0.39264498,  0.36775723,  0.34256077,  0.28581266, -0.04341022,\n",
       "        0.52329099,  0.7829392 ,  0.28488822,  0.3031612 ,  0.31552441,\n",
       "        0.16390631,  0.25773108,  0.32165424,  0.88932342,  0.04259919,\n",
       "        0.34849597,  0.72041809,  0.52146156,  0.73012739,  0.67476278,\n",
       "        0.43833416,  0.45741334,  0.2874191 ,  0.72572501,  0.53384247,\n",
       "        0.44251284,  0.34065733,  0.37335814,  0.53532869,  0.68796901,\n",
       "        0.60628016,  0.39027871,  0.31871745,  0.6910609 ,  0.55008126,\n",
       "        0.43104498,  0.22944028,  0.42577205,  0.51123385,  0.72760126,\n",
       "        1.01859932,  0.66132025,  0.56894388,  0.39907886,  0.35499555,\n",
       "        0.18598418,  0.66739325,  0.18058718,  0.76093248,  0.52222071,\n",
       "        0.93586006,  0.30617733,  0.26243327,  0.59074378,  0.58140005,\n",
       "        0.12461622,  0.38826609,  0.28949921,  0.55001756,  0.74150537,\n",
       "        0.67532499,  0.50587939,  0.43629906,  0.68525572,  0.73526457,\n",
       "        0.12032275,  0.4756296 ,  0.47873029,  0.52770364,  0.53298494,\n",
       "        0.11767932,  0.40738171,  0.2905564 ,  0.46568849,  0.37640898,\n",
       "        0.67146279,  0.36058767,  0.41144487,  0.73866822,  0.41689392,\n",
       "        0.46080103,  0.55502447,  0.5649924 ,  0.86706874,  0.24355891,\n",
       "        0.39027249,  0.88450963,  0.58527983,  0.68861787,  0.65498339,\n",
       "        0.56626818,  0.40628089,  0.10281791,  0.57731674,  0.43110911,\n",
       "        0.49272241,  0.90922439,  0.84028957,  0.41432584,  0.63300526,\n",
       "        0.67217443,  0.47708586,  0.48386649,  0.60159942,  0.41972168,\n",
       "        0.70124803,  0.46106214,  0.45355409,  0.33428292,  0.47880262,\n",
       "        0.58901306,  0.39111032,  0.00806192,  0.29750123,  0.65655747,\n",
       "        0.51386714,  0.2648879 ,  0.65190768,  0.28919281,  0.44071337,\n",
       "        0.47625604,  0.33787745,  0.31750207,  0.37398178,  0.79719068,\n",
       "        0.29053677,  0.3962756 ,  0.4529873 ,  0.55579829,  0.47301093,\n",
       "        0.60085004,  0.61152184,  0.65442591,  0.44800306,  0.35607789,\n",
       "        0.62566546,  0.53449919,  0.45503571,  0.73476727,  0.47281715,\n",
       "        0.5536247 ,  0.337495  ,  0.81393215,  0.69365272,  0.79791931,\n",
       "        0.5005376 ,  0.23349766,  0.63560943,  0.4836323 ,  0.90466238,\n",
       "        0.84587813,  0.11914664,  0.47360129,  0.56662506,  0.79865252,\n",
       "        0.37286383,  0.54271345,  0.40644397,  0.55273545,  0.8919059 ,\n",
       "        0.70986081,  0.55670853,  0.32401646,  0.73393   ,  0.63375572,\n",
       "        0.30589209,  0.77808733,  0.4731749 ,  0.71563886,  0.59397423,\n",
       "        0.34177457,  0.63652939,  0.22752656,  0.68986535,  0.35607293,\n",
       "        0.18723608,  0.44839996,  0.60687361,  0.26495313,  0.57296022,\n",
       "        0.60642053,  0.55439429,  0.62262575,  0.31370887,  0.71448745,\n",
       "        0.61426639,  0.44786368,  0.5909971 ,  0.44253421,  0.24935372,\n",
       "        0.49872163,  0.56873073,  0.84178836,  0.73630505,  0.55564817,\n",
       "        0.63530973,  0.46750959,  0.45978326,  0.29553776,  0.45796539,\n",
       "        0.5095214 ,  0.31084669,  0.66842602,  0.43971405,  0.60060623,\n",
       "        0.61701711,  0.90923497,  0.51118473,  0.93581244,  0.8018811 ,\n",
       "        0.32190706,  0.46510254,  0.80346418,  0.83821321,  0.50342874,\n",
       "        0.45906529,  0.85857044,  0.3850346 ,  0.08443435,  0.68867135,\n",
       "        0.45998248,  0.31605093,  0.57865111,  0.34558012,  0.75924041,\n",
       "        0.79171125,  0.58611373,  0.6986247 ,  0.57738229,  0.54704993,\n",
       "        0.39143872,  0.51796843,  0.39912186,  0.50419522,  0.37337634,\n",
       "        0.7562083 ,  0.2290789 ,  0.80969108,  0.60616176,  0.42168324,\n",
       "        0.61022285,  0.19900108,  0.58674029,  0.57490554,  0.91298789,\n",
       "        0.61287337,  0.28523153,  0.85126147,  0.18972686,  0.3081737 ,\n",
       "        0.25454438,  0.5357209 ,  0.6155399 ,  0.43775691,  0.62028068,\n",
       "        0.51892191,  0.50431819,  0.63187083,  0.6974831 ,  0.60286876,\n",
       "        0.73307397,  0.64741541,  0.30005778,  0.3188233 ,  0.25331835,\n",
       "        0.86227663,  0.4207175 ,  0.77573739,  0.7777756 ,  0.67391492,\n",
       "        0.29764532,  0.03706987,  0.94711518,  0.79931137,  0.71058246,\n",
       "        0.82066017,  0.23020785,  0.78412736,  0.72166559,  0.73912759,\n",
       "        0.50768991,  0.68621602,  0.22648536,  0.79501724,  0.40441515,\n",
       "        0.46000627,  0.35803304,  0.1294558 ,  0.28302729,  0.33038866,\n",
       "        0.29923203,  0.57490681,  0.49512729,  0.2003427 ,  0.2171953 ,\n",
       "        0.75048661,  0.03151035,  0.45879246,  0.55293301,  0.20739997,\n",
       "        0.54330867,  0.75697882,  0.67666682,  0.76335704,  0.61985429,\n",
       "        0.79346032,  0.37673171,  0.38639144,  0.42201887,  0.60654895,\n",
       "        0.57240645,  0.58442121,  0.48059177,  0.10218711,  0.88921849,\n",
       "        0.53754476,  0.51558212,  0.49801823,  0.87687264,  0.7209544 ,\n",
       "        0.40306878,  0.09438634,  0.74564896,  0.76856422,  0.68413681,\n",
       "        0.22246369,  0.41490827,  0.29734391,  0.54954274,  0.72822167,\n",
       "        0.51703747,  0.74356307,  0.70672938,  0.55212584,  0.19610066,\n",
       "        0.34435792,  0.38033999,  0.38950947,  0.56326217,  0.33935526,\n",
       "        0.58543577,  0.43076549,  0.77753961,  0.18338822,  0.51493473,\n",
       "        0.3361063 ,  0.56186612,  0.54406116,  0.53046075,  0.27737305,\n",
       "        0.52868937,  0.29583853,  0.52983595,  0.23527601,  0.56480245,\n",
       "        0.67565166,  0.34416366,  0.17938928,  0.79066168,  0.42303892,\n",
       "        0.47890903,  0.43387061,  0.06674037,  0.18942326,  0.59246462,\n",
       "        0.70495228,  0.24637611,  0.28274539,  0.69968767,  0.34089244,\n",
       "        0.86717167,  0.730773  ,  0.57460682,  0.39007412,  0.26369787,\n",
       "        0.79096364,  0.59692909,  0.36062638,  0.29707904,  0.39327962,\n",
       "        0.75016171,  0.41076721,  0.5241698 ,  0.44690516,  0.25678521,\n",
       "        0.2495029 ,  0.21060336,  0.20730376,  0.81530894,  0.54408543,\n",
       "        0.73727099,  1.05063123,  0.52810477,  0.39139838,  0.82108943,\n",
       "        0.46318128,  0.8232431 ,  0.54538558,  0.66332687,  0.36420095,\n",
       "        0.42794802,  0.49603668,  0.64801927,  0.71743129,  0.50559751,\n",
       "        0.23433945,  0.40962647,  0.70311358,  0.58484976,  0.59027227,\n",
       "        0.69859896,  0.49992459,  0.49205643,  0.56814131,  0.73263678,\n",
       "        0.70319908,  0.5889758 ,  0.24437692,  0.38518141,  0.77965231,\n",
       "        0.78572183, -0.15949742,  0.61842937,  0.16408617,  0.56203547,\n",
       "        0.59565234,  0.76972671,  0.67134918,  0.62234656,  0.13905671,\n",
       "        0.32285131,  0.41291329,  0.96996825,  0.9523268 ,  1.01543992,\n",
       "        0.95626401,  0.94746379,  0.60271045,  0.63863764,  0.27242874,\n",
       "        0.47615386,  0.45741362,  0.43427043,  0.75221134,  0.39187205,\n",
       "        0.38664107,  0.83299119,  0.11645521,  0.47095837,  0.23779773,\n",
       "        0.36281591,  0.42368582,  0.62195105,  0.43255194,  0.40039166,\n",
       "        0.61584243,  0.65525205,  0.67041374,  0.29757533,  0.44080132,\n",
       "        0.75406684,  0.6271199 ,  0.7837302 ,  0.69064409,  0.71899871,\n",
       "        0.2844259 ,  0.82262497,  0.29560839,  0.393469  ,  0.2734684 ,\n",
       "        0.31235349,  0.24797748,  0.41867326,  0.58193546,  0.57104894,\n",
       "        0.68235216,  0.52974544,  0.39964378,  0.55281897,  0.66605697,\n",
       "        0.5692911 ,  0.38186079,  0.60490067,  0.64473559,  0.29914269,\n",
       "        0.32578775,  0.5636723 ,  0.34128813,  0.27801283,  0.58605108,\n",
       "        0.19832882,  0.43291977,  0.36842757,  0.58010725,  0.50378669,\n",
       "        0.38124413,  0.19400466,  0.44792444,  0.23433956,  0.2913421 ,\n",
       "        0.37836954,  0.57450402,  0.24664254,  0.63238691,  0.63085747,\n",
       "        0.85463241,  0.4182785 ,  0.31625037,  0.36976846,  0.38652374,\n",
       "        0.21619633,  0.59616859,  0.37332738,  0.74228883,  0.38775126,\n",
       "        0.3936748 ,  0.29458224,  0.59691777,  0.58434372,  0.55434759,\n",
       "        0.35076798,  0.68389073,  0.27715462,  0.28248191,  0.48801065,\n",
       "        0.42005315,  0.80775248,  0.45238206,  0.43568254,  0.45033662,\n",
       "        0.61804807,  0.5721793 ,  0.57859402,  0.65190198,  0.59422232,\n",
       "        0.4317952 ,  0.33031071,  0.39388385,  0.6318722 ,  0.53826625,\n",
       "        0.63074688,  0.60840128,  0.50346216,  0.536067  ,  0.39580802,\n",
       "        0.23478253,  0.80046991,  0.50485417,  0.54029753,  0.55183528,\n",
       "        0.47452739,  0.11800665,  0.39006036,  0.3457825 ,  0.4928729 ,\n",
       "        0.64159383,  0.16214541,  0.0188206 ,  0.59161231,  0.25547802,\n",
       "        0.60913119,  0.26079348,  0.24328987,  0.59618093,  0.41010734,\n",
       "        0.32531857,  0.57365427,  0.67255622,  0.37880415,  0.61648679,\n",
       "        0.48038448,  0.37441919,  0.68853319,  0.7741445 ,  0.47751838,\n",
       "        0.33350228,  0.14968384,  0.64094635,  0.53631599,  0.48090601,\n",
       "        0.66711709,  0.68213664,  0.4721062 ,  0.6352311 ,  0.20421402,\n",
       "        0.47864466,  0.70604901,  0.43692114,  0.42992687,  0.45729547,\n",
       "        0.30772723,  0.45684851,  0.35185506,  0.4554804 ,  0.44188543,\n",
       "        0.56441587,  0.61073974,  0.53589366,  0.38795291,  0.55717617,\n",
       "        0.6232803 ,  0.68349063,  0.50170838,  0.35203236,  0.62815128,\n",
       "        0.48311675,  0.44726436,  0.65346488,  0.8321444 ,  0.36252715,\n",
       "        0.47824543,  0.33535539,  0.39191277,  0.76532882,  0.68537941,\n",
       "        0.33944338,  0.42141745,  0.42592745,  0.65273223,  0.5387671 ,\n",
       "        0.91061766,  0.50936294,  0.35030022,  0.66078844,  0.64623589,\n",
       "        0.46697315,  0.22932947,  0.13837224,  0.13935755,  0.50541627,\n",
       "        0.46763142,  0.5111505 ,  0.35307325,  0.41546365,  0.7079433 ,\n",
       "        0.66919549,  0.60290738,  0.26336836,  0.52038235,  0.51914316,\n",
       "        0.41484445,  0.60280806,  0.36198318,  0.38181447,  0.25057347,\n",
       "        0.42199928,  0.81619771,  0.83047437,  0.56120678,  0.39887672,\n",
       "        0.26071587,  0.21653581,  1.18115526,  0.70339695,  1.18050842,\n",
       "        0.58961668,  0.43011362,  0.97823164,  0.59752462,  0.55136881,\n",
       "        0.60711878,  0.60223239,  0.48311591,  0.37168924,  0.4466784 ,\n",
       "        0.76350502,  0.63931666,  0.73790193,  0.14393945,  0.71251904,\n",
       "        0.59237399,  0.52248909,  0.37514196,  0.33340026,  0.43674518,\n",
       "        0.69312037,  0.46659351,  0.31998691,  0.4575409 ,  0.64802041,\n",
       "        0.23165312,  0.76410909,  0.32008408,  0.36328573,  0.32602056,\n",
       "        0.20613232,  0.7562534 ,  0.53087684,  0.44826055,  0.74139106,\n",
       "        0.39127613,  0.42161927,  0.71472226,  0.51069364,  0.43464542,\n",
       "        0.52338908,  0.66427568,  0.39730911,  0.25572715,  0.64547555,\n",
       "        0.20917144,  0.4525505 ,  0.54775521,  0.29582059,  0.75500583,\n",
       "        0.13678523,  0.52965561,  0.56526746,  0.35751116,  0.66691544,\n",
       "        0.78123246,  0.49639019,  0.32837481,  0.68956333,  0.09166787,\n",
       "        0.7997594 ,  0.2060344 ,  0.62282656,  0.2188353 ,  0.50761077,\n",
       "        0.38844559,  0.73307664,  0.17506438,  0.35872892,  0.33210423,\n",
       "        0.51164483,  0.36411253,  0.40262951,  0.74136756,  0.40033624,\n",
       "        0.31867333,  0.51518823,  0.61936123,  0.37168914,  0.31953663,\n",
       "        0.45466428,  0.32249377,  0.57284235,  0.37103476,  0.56725826,\n",
       "        0.43504441,  0.52286281,  0.82507795,  0.80698121,  0.18501121,\n",
       "        0.9365393 ,  0.46858477,  0.79163161,  0.45141375,  0.27390525,\n",
       "        0.49137553,  0.50380819,  0.57111812,  0.87117891,  0.79656398,\n",
       "        0.70991384,  0.56043036, -0.07438549,  0.88866236,  0.15483942,\n",
       "        0.37423982,  0.41420327,  0.66513527,  0.77112311,  0.30978547,\n",
       "        0.3669331 ,  0.62354429,  0.80612843,  0.67394829,  0.53026825,\n",
       "        1.02063625,  0.41079695,  0.26334344,  0.68053403,  0.24337524,\n",
       "        0.1077309 ,  0.31848955,  0.49092597,  0.80350679,  0.41251063,\n",
       "        0.79476922,  0.4054914 ,  0.1146875 ,  0.51014496,  0.5040083 ,\n",
       "        0.36184664,  0.53900463,  0.77397334,  0.50277775,  0.50921233,\n",
       "        0.61874854,  0.42513933,  0.44835437,  0.42852865,  0.4310624 ,\n",
       "        0.64498044,  0.82635086,  0.43374168,  0.56514787,  0.82007666,\n",
       "        0.60073798,  0.80355445,  0.44751704,  0.29233681,  0.46382809,\n",
       "        0.64115741,  0.14736138,  0.61616262,  0.53123155,  0.55742856,\n",
       "        0.57770631,  0.58001191,  0.36894305,  0.58291408,  0.83312209,\n",
       "        0.50018785,  0.10872301,  0.51915588,  0.59150392,  0.46745546,\n",
       "        0.61890672,  0.61964617,  0.68035948,  0.4193516 ,  0.35599239,\n",
       "        0.8375694 ,  0.51943116,  0.29357378,  0.51008317,  0.51367649,\n",
       "        0.75885306,  0.54723644,  0.47063051,  0.668681  ,  0.37263771,\n",
       "        0.20709058,  0.5659737 ,  0.75285451,  0.75883772,  0.26199997,\n",
       "        0.54728354,  0.40015282,  0.76431674,  0.61074003,  0.86498409,\n",
       "        0.75199217,  0.58976141,  0.58398421,  0.58691835,  0.47029983,\n",
       "        0.59339397,  0.54817841,  0.41803889,  0.51306643, -0.00281459,\n",
       "        0.67706659,  0.69010585,  0.60357735,  0.78270294,  0.72396202,\n",
       "        0.77588365,  0.48197703,  0.46192462,  0.36349311,  0.28677184,\n",
       "        0.66228364,  0.83029527,  0.54634926,  0.57746329,  0.52046673,\n",
       "        0.60743071,  0.31997077,  0.2164356 ,  0.26745058,  0.51608535,\n",
       "        0.3170117 ,  0.81957114,  0.53165815,  0.52144997,  0.32656357,\n",
       "        0.5808958 ,  0.56130282,  0.50671496,  0.42803389,  0.33595197,\n",
       "        0.42635849,  0.47317327,  0.37897955,  0.29968969,  0.08321955,\n",
       "        0.25376091,  0.32872656,  0.37085794,  0.53543956,  0.77101753,\n",
       "        0.37893537,  0.71848631,  0.38592701,  0.59291812,  0.51762985,\n",
       "        0.72371526,  0.41895079,  0.25457744,  0.30005785,  0.35874657,\n",
       "       -0.04589795,  0.57953639,  0.59868694,  0.20604963,  0.39843928,\n",
       "        0.62274873,  0.42044481,  0.32040248,  0.49870475,  0.76855523,\n",
       "        0.68683219,  0.23059302,  0.3126999 ,  0.63560194,  0.42584243,\n",
       "        0.36227589,  0.30924957,  0.40160653,  0.24811163,  0.42330714,\n",
       "        0.81282131,  0.44285508,  0.47712566,  0.72077603,  0.33624999,\n",
       "        0.81792294,  0.68859767,  0.26427763,  0.63328762,  0.44847707,\n",
       "        0.58658224,  0.61316187,  0.40620772,  0.42447541,  0.39724006,\n",
       "        0.33784931,  0.48309715,  0.56283363,  0.55876307,  0.3127529 ,\n",
       "        0.51179144,  0.43616707,  0.5319774 ,  0.07236021,  0.79423812,\n",
       "        0.47467909,  0.54231615,  0.47417332,  0.21865619,  0.60973052,\n",
       "        0.41329849,  0.38515012,  0.32268599,  0.70440008,  0.37470375,\n",
       "        0.36929985,  0.59988406,  0.47545447,  0.53042043,  0.41116635,\n",
       "        0.41523772,  0.68331666,  0.64809783,  0.34399513,  0.59998792,\n",
       "        0.58515556,  0.5901038 ,  0.26806688,  0.62297474,  0.62739789,\n",
       "        0.69619569,  0.71544913,  0.04246087,  0.47719469,  0.51003827,\n",
       "        0.73673268,  0.41022323,  0.679949  ,  0.52066385,  0.46071457])"
      ]
     },
     "execution_count": 41,
     "metadata": {},
     "output_type": "execute_result"
    }
   ],
   "source": [
    "normal_distributed_data"
   ]
  },
  {
   "cell_type": "code",
   "execution_count": 42,
   "id": "349fc252",
   "metadata": {},
   "outputs": [
    {
     "data": {
      "text/plain": [
       "<AxesSubplot:ylabel='Count'>"
      ]
     },
     "execution_count": 42,
     "metadata": {},
     "output_type": "execute_result"
    },
    {
     "data": {
      "image/png": "[encoded data removed]",
      "text/plain": [
       "<Figure size 432x288 with 1 Axes>"
      ]
     },
     "metadata": {
      "needs_background": "light"
     },
     "output_type": "display_data"
    }
   ],
   "source": [
    "sns.histplot(normal_distributed_data,kde=True)"
   ]
  },
  {
   "cell_type": "markdown",
   "id": "a036f85d",
   "metadata": {},
   "source": [
    "### In probability theory, a log-normal (or lognormal) distribution is a continuous probability distribution of a random variable whose logarithm is normally distributed. Thus, if the random variable X is log-normally distributed, then Y = ln(X) has a normal distribution.Equivalently, if Y has a normal distribution, then the exponential function of Y, X = exp(Y), has a log-normal distribution. "
   ]
  },
  {
   "cell_type": "code",
   "execution_count": 62,
   "id": "7fdcedf1",
   "metadata": {},
   "outputs": [],
   "source": [
    "mu=3.0\n",
    "sigma=1.0\n",
    "lognormal_distributed_data=np.random.lognormal(mu,sigma,1000)"
   ]
  },
  {
   "cell_type": "code",
   "execution_count": 63,
   "id": "e51d51ff",
   "metadata": {},
   "outputs": [
    {
     "data": {
      "text/plain": [
       "<AxesSubplot:ylabel='Count'>"
      ]
     },
     "execution_count": 63,
     "metadata": {},
     "output_type": "execute_result"
    },
    {
     "data": {
      "image/png": "[encoded data removed]",
      "text/plain": [
       "<Figure size 432x288 with 1 Axes>"
      ]
     },
     "metadata": {
      "needs_background": "light"
     },
     "output_type": "display_data"
    }
   ],
   "source": [
    "sns.histplot(lognormal_distributed_data,kde=True)"
   ]
  },
  {
   "cell_type": "code",
   "execution_count": 52,
   "id": "94d44793",
   "metadata": {},
   "outputs": [
    {
     "data": {
      "text/plain": [
       "<AxesSubplot:ylabel='Count'>"
      ]
     },
     "execution_count": 52,
     "metadata": {},
     "output_type": "execute_result"
    },
    {
     "data": {
      "image/png": "[encoded data removed]",
      "text/plain": [
       "<Figure size 432x288 with 1 Axes>"
      ]
     },
     "metadata": {
      "needs_background": "light"
     },
     "output_type": "display_data"
    }
   ],
   "source": [
    "sns.histplot(np.log(lognormal_distributed_data),kde=True)"
   ]
  },
  {
   "cell_type": "code",
   "execution_count": 66,
   "id": "2804c1a7",
   "metadata": {},
   "outputs": [],
   "source": [
    "import matplotlib.pyplot as plt\n",
    "import scipy.stats as stat\n",
    "import pylab\n",
    "\n",
    "def plot_data(data):\n",
    "    plt.figure(figsize=(10,6))\n",
    "    plt.subplot(1,2,1)\n",
    "    sns.histplot(data,kde=True)\n",
    "    plt.subplot(1,2,2)\n",
    "    stat.probplot(data,dist='norm',plot=pylab)\n",
    "    plt.show()"
   ]
  },
  {
   "cell_type": "code",
   "execution_count": 67,
   "id": "4c1a8e52",
   "metadata": {},
   "outputs": [
    {
     "data": {
      "image/png": "[encoded data removed]",
      "text/plain": [
       "<Figure size 720x432 with 2 Axes>"
      ]
     },
     "metadata": {
      "needs_background": "light"
     },
     "output_type": "display_data"
    }
   ],
   "source": [
    "plot_data(lognormal_distributed_data)"
   ]
  },
  {
   "cell_type": "code",
   "execution_count": 68,
   "id": "315f9755",
   "metadata": {},
   "outputs": [
    {
     "data": {
      "image/png": "[encoded data removed]",
      "text/plain": [
       "<Figure size 720x432 with 2 Axes>"
      ]
     },
     "metadata": {
      "needs_background": "light"
     },
     "output_type": "display_data"
    }
   ],
   "source": [
    "plot_data(np.log(lognormal_distributed_data))"
   ]
  },
  {
   "cell_type": "code",
   "execution_count": null,
   "id": "74115e42",
   "metadata": {},
   "outputs": [],
   "source": []
  },
  {
   "cell_type": "code",
   "execution_count": 73,
   "id": "e6d0e5fa",
   "metadata": {},
   "outputs": [
    {
     "data": {
      "text/plain": [
       "array([2.93860138e-01, 4.95472079e-01, 2.84931662e-01, 2.81089044e-01,\n",
       "       7.38253094e-01, 1.52225806e-01, 7.83671780e-01, 5.14152509e-01,\n",
       "       2.23089455e-01, 7.13287067e-01, 6.71295422e-01, 7.70437134e-01,\n",
       "       3.52417648e-01, 9.60412077e-01, 9.37825778e-03, 6.52598263e-01,\n",
       "       4.43684186e-01, 5.89843023e-01, 1.28390098e-02, 4.22135616e-02,\n",
       "       8.35051320e-01, 2.61368582e-01, 2.58671198e-01, 6.67598397e-01,\n",
       "       8.15655231e-01, 9.27270512e-01, 2.45788843e-01, 1.04265689e-01,\n",
       "       9.30836196e-01, 9.81333922e-01, 1.81717234e-01, 6.68203245e-01,\n",
       "       5.95501666e-02, 6.05147435e-01, 3.30576460e-02, 6.58303474e-01,\n",
       "       4.33338834e-01, 2.23834302e-01, 9.74741489e-01, 7.28104730e-01,\n",
       "       2.63594891e-01, 3.44696150e-01, 4.82721190e-01, 4.88284786e-01,\n",
       "       1.58524719e-01, 6.93129535e-01, 7.58057041e-02, 9.26881123e-01,\n",
       "       5.58848968e-01, 8.13160675e-01, 4.56422706e-01, 6.63841378e-01,\n",
       "       1.03975598e-01, 1.55264518e-01, 4.62513066e-01, 9.04148246e-02,\n",
       "       2.65290732e-01, 5.36229256e-01, 3.38843873e-01, 1.57154310e-01,\n",
       "       3.69910748e-01, 2.51861216e-01, 9.81275985e-01, 5.07343407e-01,\n",
       "       4.97696097e-01, 7.71461442e-01, 9.96927756e-01, 4.82256437e-01,\n",
       "       9.92102720e-01, 5.96673264e-01, 4.47572057e-01, 7.65353633e-01,\n",
       "       7.33103100e-01, 2.14801691e-01, 7.40096200e-01, 7.92179549e-01,\n",
       "       4.10858366e-01, 9.91457048e-01, 1.19622127e-01, 7.41597735e-01,\n",
       "       6.80928189e-01, 7.58938075e-01, 4.45489854e-01, 9.14633744e-01,\n",
       "       3.04840444e-01, 9.58716660e-01, 8.11519301e-01, 7.01608544e-02,\n",
       "       1.34434582e-02, 8.65714717e-01, 3.49528222e-02, 9.73883188e-01,\n",
       "       8.31747617e-01, 8.32444093e-01, 5.33124915e-02, 1.80919191e-01,\n",
       "       2.80495224e-01, 7.90326314e-01, 5.70979780e-01, 7.52945438e-01,\n",
       "       2.67524821e-01, 7.15851070e-01, 5.02229798e-01, 3.57430104e-01,\n",
       "       4.60765234e-01, 6.34545205e-01, 3.52515133e-01, 3.29309102e-01,\n",
       "       5.90309606e-01, 1.12043793e-02, 9.09732573e-02, 9.85433127e-01,\n",
       "       9.88448466e-01, 1.62284424e-01, 3.21561498e-01, 4.70702851e-01,\n",
       "       2.63707953e-01, 6.76827176e-01, 2.03267865e-01, 7.12336304e-01,\n",
       "       6.52807981e-01, 2.31859513e-01, 6.54876551e-01, 6.29503362e-01,\n",
       "       3.70851048e-01, 7.68371306e-01, 1.54684958e-01, 8.58004035e-01,\n",
       "       5.11463857e-04, 7.01687379e-01, 1.87715508e-01, 7.47124189e-01,\n",
       "       9.09160911e-01, 2.85374628e-01, 2.41820297e-01, 9.05012954e-01,\n",
       "       8.37170797e-01, 9.09032026e-01, 7.45892460e-01, 6.61357276e-01,\n",
       "       8.82434007e-02, 5.97293520e-02, 9.92372552e-01, 1.64521999e-01,\n",
       "       6.34558760e-01, 8.11830925e-01, 4.22134674e-01, 8.71717384e-01,\n",
       "       3.84615491e-01, 1.06941952e-01, 9.61478824e-01, 7.69454733e-01,\n",
       "       8.09618200e-01, 4.07491782e-01, 9.31198041e-01, 2.30867181e-01,\n",
       "       7.71820613e-01, 5.06940437e-01, 4.29272638e-01, 3.28037042e-01,\n",
       "       5.03156777e-01, 5.49883382e-01, 4.00460726e-01, 6.29376116e-02,\n",
       "       1.38779457e-01, 6.66245167e-01, 4.91236576e-01, 7.95276100e-01,\n",
       "       6.42368024e-01, 9.45445182e-01, 8.04327897e-01, 8.54359474e-01,\n",
       "       2.59063127e-01, 3.51004908e-02, 5.71714355e-01, 1.62399949e-01,\n",
       "       6.31114868e-01, 5.60604464e-02, 5.28333580e-01, 4.74044565e-01,\n",
       "       6.37607610e-03, 2.72376113e-01, 9.47351468e-01, 9.74892253e-01,\n",
       "       6.30421061e-02, 6.97080665e-01, 2.58871710e-01, 3.84736464e-01,\n",
       "       8.70728876e-01, 1.54787135e-01, 5.18050385e-01, 1.61178149e-01,\n",
       "       5.01978841e-02, 4.65779772e-01, 6.24722319e-01, 2.16955917e-01,\n",
       "       7.29901952e-01, 6.32166551e-01, 9.34086779e-02, 8.97449282e-01,\n",
       "       2.29984179e-01, 1.42197629e-01, 6.43073646e-01, 4.84652414e-01,\n",
       "       4.73277105e-01, 7.07370593e-02, 4.35863825e-01, 5.37565195e-02,\n",
       "       1.26970582e-01, 6.75887995e-01, 8.87437070e-01, 3.87487164e-01,\n",
       "       3.60490402e-01, 3.74788524e-01, 6.09792333e-01, 2.39499882e-01,\n",
       "       6.81975424e-01, 1.51977068e-02, 8.40700987e-01, 5.66901712e-01,\n",
       "       5.49734143e-01, 6.58834351e-01, 6.21285987e-02, 5.24923644e-02,\n",
       "       8.21976360e-01, 5.54138552e-01, 9.06984005e-01, 4.33377929e-03,\n",
       "       1.70377611e-02, 2.75243963e-01, 5.47555138e-01, 1.85912230e-01,\n",
       "       7.30768244e-01, 5.31939065e-01, 2.86224053e-01, 3.61939617e-01,\n",
       "       2.23906900e-01, 6.67315180e-01, 6.60394698e-01, 7.17101025e-02,\n",
       "       6.91138309e-02, 7.07644177e-01, 8.36083058e-03, 3.45344536e-01,\n",
       "       5.97827452e-01, 5.40551994e-01, 2.02826257e-01, 8.85230372e-01,\n",
       "       5.58720097e-01, 9.18697090e-01, 2.63953064e-01, 9.32633368e-01,\n",
       "       3.35776328e-01, 9.84567381e-02, 2.77816874e-01, 5.06281311e-01,\n",
       "       5.60454349e-01, 1.09450710e-01, 4.26350860e-01, 5.13092038e-01,\n",
       "       5.59189279e-01, 6.02126831e-01, 4.10421035e-01, 6.75829229e-01,\n",
       "       9.11118127e-01, 8.46309458e-01, 2.81785809e-01, 6.91022478e-01,\n",
       "       8.51568388e-01, 6.14284548e-01, 6.13935764e-01, 9.76521416e-01,\n",
       "       6.12670743e-01, 6.04104155e-01, 4.24479898e-01, 4.37937693e-01,\n",
       "       4.69504584e-01, 4.58789755e-02, 4.41695333e-02, 1.76933000e-01,\n",
       "       3.17170926e-01, 3.67126341e-01, 1.18531079e-01, 5.89890688e-01,\n",
       "       7.44138671e-01, 3.27450683e-01, 3.11375706e-01, 7.84050982e-01,\n",
       "       9.82551133e-01, 9.44796705e-01, 2.99426129e-01, 7.75177728e-01,\n",
       "       2.68300077e-01, 3.29530884e-01, 2.59015161e-01, 3.79508655e-01,\n",
       "       3.51790077e-01, 6.68640280e-01, 2.65609528e-01, 2.69786670e-01,\n",
       "       9.73736891e-01, 2.03200858e-01, 7.24304195e-01, 1.37786115e-01,\n",
       "       1.85130911e-01, 6.03671585e-01, 4.88888792e-01, 6.02390107e-01,\n",
       "       4.52889999e-01, 1.66006238e-01, 7.77646356e-01, 2.93325156e-01,\n",
       "       4.68093465e-01, 8.24640348e-01, 3.47833470e-01, 7.76139498e-01,\n",
       "       1.38709819e-01, 4.60878941e-01, 2.47533998e-02, 3.71976041e-01,\n",
       "       3.84549565e-01, 2.64246123e-01, 7.37548977e-01, 1.94114094e-01,\n",
       "       8.31577293e-01, 2.63618985e-01, 7.30027731e-01, 2.41370206e-02,\n",
       "       9.73986458e-01, 3.35632351e-01, 1.63572678e-01, 4.29269445e-01,\n",
       "       6.74613290e-01, 1.15210008e-01, 8.45212680e-01, 8.46359337e-01,\n",
       "       5.72662338e-01, 4.35302582e-01, 4.74974098e-01, 3.52540611e-01,\n",
       "       9.60145409e-01, 6.64553985e-01, 2.15690762e-01, 8.39424266e-01,\n",
       "       2.77964260e-01, 8.07808137e-01, 8.03578203e-01, 5.67059462e-01,\n",
       "       7.50958458e-01, 8.47951732e-01, 1.49650060e-01, 9.96060795e-02,\n",
       "       4.04922117e-01, 5.28213272e-01, 9.32991781e-01, 4.40480489e-01,\n",
       "       8.21593741e-01, 7.91037511e-01, 4.21196541e-01, 8.58976680e-01,\n",
       "       5.76385508e-01, 1.61707805e-01, 5.14270931e-01, 9.89608435e-01,\n",
       "       9.89982818e-01, 4.63892786e-01, 1.56120536e-01, 9.52039392e-02,\n",
       "       8.11854176e-01, 7.47035967e-01, 4.09129162e-01, 7.23102802e-01,\n",
       "       3.09335024e-01, 1.16220190e-01, 8.21328077e-01, 3.48332605e-01,\n",
       "       3.16960778e-02, 2.96699536e-01, 8.88468017e-01, 2.56795801e-01,\n",
       "       8.95570667e-01, 4.49643020e-01, 9.54495842e-01, 8.03507821e-01,\n",
       "       7.52116593e-02, 4.94382090e-01, 3.56753091e-02, 3.24990290e-01,\n",
       "       1.22520704e-01, 1.52585501e-01, 5.00673077e-01, 4.79897386e-01,\n",
       "       7.57166688e-03, 6.11775654e-01, 5.39458737e-01, 3.57912591e-01,\n",
       "       9.30957796e-01, 7.03815834e-02, 1.50507219e-01, 6.76053621e-01,\n",
       "       5.66124154e-02, 3.29880312e-01, 9.58488858e-01, 1.20351403e-01,\n",
       "       5.65817054e-01, 6.10041854e-01, 2.49762914e-01, 9.40282681e-01,\n",
       "       2.28795392e-01, 8.11558561e-01, 8.66658871e-01, 8.31897070e-01,\n",
       "       3.11303910e-01, 2.06754962e-01, 6.36111807e-01, 7.27804595e-01,\n",
       "       4.00476668e-01, 2.21238702e-01, 2.62625912e-01, 4.03417459e-01,\n",
       "       5.28057558e-01, 9.28803573e-01, 7.51336551e-01, 3.26830861e-02,\n",
       "       5.06678787e-01, 5.13477747e-01, 7.24807491e-01, 7.99321478e-03,\n",
       "       4.57768985e-01, 1.06992492e-01, 5.71599094e-01, 1.75444781e-01,\n",
       "       6.59476846e-01, 9.40806458e-01, 9.00509716e-01, 1.56812091e-01,\n",
       "       2.10154765e-01, 4.17472269e-01, 2.60068059e-01, 1.79252668e-01,\n",
       "       9.77856029e-01, 8.87240404e-01, 9.36760940e-01, 1.66252245e-01,\n",
       "       4.42787906e-02, 5.66258061e-01, 9.25964203e-01, 1.65954239e-01,\n",
       "       9.00832268e-01, 5.94282553e-01, 9.52130240e-01, 6.42814813e-01,\n",
       "       5.60776112e-01, 4.34466862e-01, 1.19227498e-01, 2.14800629e-01,\n",
       "       5.94151631e-01, 9.14393598e-01, 9.70548350e-01, 6.90883174e-01,\n",
       "       9.10765491e-01, 2.84590718e-01, 2.75413961e-01, 7.92576099e-01,\n",
       "       7.24835706e-01, 5.12373574e-01, 7.15783348e-01, 2.96226358e-03,\n",
       "       6.25761288e-01, 1.59145789e-01, 2.17181704e-01, 6.77890025e-01,\n",
       "       2.37820753e-01, 1.71395677e-01, 1.19751224e-01, 2.53109112e-01,\n",
       "       7.18314427e-01, 3.47169547e-02, 4.09164319e-01, 5.74509594e-01,\n",
       "       8.63314831e-01, 3.33586105e-01, 4.99427676e-02, 3.01028259e-01,\n",
       "       5.21619445e-01, 2.24322897e-01, 9.52295852e-01, 7.82929024e-01,\n",
       "       6.56662614e-01, 5.69358085e-01, 5.44229297e-01, 5.50914704e-01,\n",
       "       4.46272787e-01, 9.24471387e-01, 8.85309171e-01, 5.71048592e-01,\n",
       "       5.90935369e-01, 9.97461864e-02, 4.62462660e-01, 2.01277304e-01])"
      ]
     },
     "execution_count": 73,
     "metadata": {},
     "output_type": "execute_result"
    }
   ],
   "source": [
    "random.uniform(size=500)"
   ]
  },
  {
   "cell_type": "code",
   "execution_count": 71,
   "id": "c33ee313",
   "metadata": {},
   "outputs": [
    {
     "name": "stderr",
     "output_type": "stream",
     "text": [
      "C:\\ProgramData\\Anaconda3\\lib\\site-packages\\seaborn\\distributions.py:2619: FutureWarning: `distplot` is a deprecated function and will be removed in a future version. Please adapt your code to use either `displot` (a figure-level function with similar flexibility) or `kdeplot` (an axes-level function for kernel density plots).\n",
      "  warnings.warn(msg, FutureWarning)\n"
     ]
    },
    {
     "data": {
      "text/plain": [
       "<AxesSubplot:ylabel='Density'>"
      ]
     },
     "execution_count": 71,
     "metadata": {},
     "output_type": "execute_result"
    },
    {
     "data": {
      "image/png": "[encoded data removed]",
      "text/plain": [
       "<Figure size 432x288 with 1 Axes>"
      ]
     },
     "metadata": {
      "needs_background": "light"
     },
     "output_type": "display_data"
    }
   ],
   "source": [
    "from numpy import random\n",
    "sns.distplot(random.uniform(size=500),hist=False)"
   ]
  },
  {
   "cell_type": "code",
   "execution_count": 74,
   "id": "52922f12",
   "metadata": {},
   "outputs": [
    {
     "data": {
      "text/plain": [
       "<AxesSubplot:ylabel='Count'>"
      ]
     },
     "execution_count": 74,
     "metadata": {},
     "output_type": "execute_result"
    },
    {
     "data": {
      "image/png": "[encoded data removed]",
      "text/plain": [
       "<Figure size 432x288 with 1 Axes>"
      ]
     },
     "metadata": {
      "needs_background": "light"
     },
     "output_type": "display_data"
    }
   ],
   "source": [
    "sns.histplot(np.random.randint(1,8,size=800))"
   ]
  },
  {
   "cell_type": "code",
   "execution_count": 75,
   "id": "9f94739e",
   "metadata": {},
   "outputs": [
    {
     "data": {
      "text/plain": [
       "<AxesSubplot:ylabel='Count'>"
      ]
     },
     "execution_count": 75,
     "metadata": {},
     "output_type": "execute_result"
    },
    {
     "data": {
      "image/png": "[encoded data removed]",
      "text/plain": [
       "<Figure size 432x288 with 1 Axes>"
      ]
     },
     "metadata": {
      "needs_background": "light"
     },
     "output_type": "display_data"
    }
   ],
   "source": [
    "p=0.3\n",
    "sample_size=1000\n",
    "\n",
    "bernouli_data=np.random.choice([0,1],size=sample_size,p=[1-p,p])\n",
    "\n",
    "sns.histplot(bernouli_data,bins=2,kde=False,color=\"blue\")"
   ]
  },
  {
   "cell_type": "code",
   "execution_count": 80,
   "id": "4def3cbd",
   "metadata": {},
   "outputs": [],
   "source": [
    "no_of_trials=10\n",
    "probaility=0.6\n",
    "\n",
    "data3=np.random.binomial(no_of_trials,probaility,10000)"
   ]
  },
  {
   "cell_type": "code",
   "execution_count": 81,
   "id": "93d1bb26",
   "metadata": {},
   "outputs": [
    {
     "name": "stderr",
     "output_type": "stream",
     "text": [
      "C:\\ProgramData\\Anaconda3\\lib\\site-packages\\seaborn\\distributions.py:2619: FutureWarning: `distplot` is a deprecated function and will be removed in a future version. Please adapt your code to use either `displot` (a figure-level function with similar flexibility) or `histplot` (an axes-level function for histograms).\n",
      "  warnings.warn(msg, FutureWarning)\n"
     ]
    },
    {
     "data": {
      "text/plain": [
       "<AxesSubplot:ylabel='Density'>"
      ]
     },
     "execution_count": 81,
     "metadata": {},
     "output_type": "execute_result"
    },
    {
     "data": {
      "image/png": "[encoded data removed]",
      "text/plain": [
       "<Figure size 432x288 with 1 Axes>"
      ]
     },
     "metadata": {
      "needs_background": "light"
     },
     "output_type": "display_data"
    }
   ],
   "source": [
    "sns.distplot(data3)"
   ]
  },
  {
   "cell_type": "code",
   "execution_count": 82,
   "id": "c6addaf6",
   "metadata": {},
   "outputs": [
    {
     "name": "stderr",
     "output_type": "stream",
     "text": [
      "C:\\ProgramData\\Anaconda3\\lib\\site-packages\\seaborn\\distributions.py:2619: FutureWarning: `distplot` is a deprecated function and will be removed in a future version. Please adapt your code to use either `displot` (a figure-level function with similar flexibility) or `histplot` (an axes-level function for histograms).\n",
      "  warnings.warn(msg, FutureWarning)\n"
     ]
    },
    {
     "data": {
      "image/png": "[encoded data removed]",
      "text/plain": [
       "<Figure size 432x288 with 1 Axes>"
      ]
     },
     "metadata": {
      "needs_background": "light"
     },
     "output_type": "display_data"
    }
   ],
   "source": [
    "poisson_data = np.random.poisson(lam=5, size=1000)\n",
    " \n",
    "# plotting a histogram\n",
    "ax = sns.distplot(poisson_data,\n",
    "                  kde=False,\n",
    "                  color='blue')\n",
    "ax.set(xlabel='Poisson Distribution', ylabel='Frequency')\n",
    " \n",
    "plt.show()"
   ]
  },
  {
   "cell_type": "markdown",
   "id": "76306813",
   "metadata": {},
   "source": [
    "# central limit theoram"
   ]
  },
  {
   "cell_type": "code",
   "execution_count": 84,
   "id": "201c5e18",
   "metadata": {},
   "outputs": [],
   "source": [
    "population=np.random.randint(10,20,50)"
   ]
  },
  {
   "cell_type": "code",
   "execution_count": 85,
   "id": "26f7a832",
   "metadata": {},
   "outputs": [
    {
     "data": {
      "text/plain": [
       "array([18, 13, 12, 14, 17, 10, 15, 11, 19, 10, 16, 13, 16, 16, 12, 14, 19,\n",
       "       18, 15, 13, 17, 17, 17, 19, 18, 19, 17, 13, 16, 18, 13, 19, 15, 11,\n",
       "       10, 11, 18, 12, 12, 11, 13, 18, 16, 12, 19, 10, 12, 19, 14, 19])"
      ]
     },
     "execution_count": 85,
     "metadata": {},
     "output_type": "execute_result"
    }
   ],
   "source": [
    "population"
   ]
  },
  {
   "cell_type": "code",
   "execution_count": 86,
   "id": "02a0e31c",
   "metadata": {},
   "outputs": [
    {
     "data": {
      "text/plain": [
       "14.92"
      ]
     },
     "execution_count": 86,
     "metadata": {},
     "output_type": "execute_result"
    }
   ],
   "source": [
    "np.mean(population)"
   ]
  },
  {
   "cell_type": "code",
   "execution_count": 87,
   "id": "9bcaea18",
   "metadata": {},
   "outputs": [
    {
     "data": {
      "text/plain": [
       "15.0"
      ]
     },
     "execution_count": 87,
     "metadata": {},
     "output_type": "execute_result"
    }
   ],
   "source": [
    "np.median(population)"
   ]
  },
  {
   "cell_type": "code",
   "execution_count": 88,
   "id": "e7d9f2a1",
   "metadata": {},
   "outputs": [
    {
     "data": {
      "text/plain": [
       "19"
      ]
     },
     "execution_count": 88,
     "metadata": {},
     "output_type": "execute_result"
    }
   ],
   "source": [
    "from statistics import mode\n",
    "mode(population)"
   ]
  },
  {
   "cell_type": "code",
   "execution_count": 90,
   "id": "fafe94a8",
   "metadata": {},
   "outputs": [],
   "source": [
    "#random sample form the population\n",
    "sample=np.random.choice(population,20)"
   ]
  },
  {
   "cell_type": "code",
   "execution_count": 93,
   "id": "183c404f",
   "metadata": {},
   "outputs": [
    {
     "name": "stdout",
     "output_type": "stream",
     "text": [
      "mean of the sample 14.15\n",
      "medien of the sample 13.0\n",
      "mode of the sample 13\n"
     ]
    }
   ],
   "source": [
    "print(f\"mean of the sample {np.mean(sample)}\")\n",
    "print(f\"medien of the sample {np.median(sample)}\")\n",
    "print(f\"mode of the sample {mode(sample)}\")"
   ]
  },
  {
   "cell_type": "markdown",
   "id": "2a90736d",
   "metadata": {},
   "source": [
    "**Suppose you have a population with any shape of probability distribution (not necessarily normal), and you draw random samples of a fixed size from this population. As the sample size increases, the distribution of the sample means approaches a normal distribution, regardless of the shape of the original population distribution.**"
   ]
  },
  {
   "cell_type": "code",
   "execution_count": 94,
   "id": "8209bf02",
   "metadata": {},
   "outputs": [],
   "source": [
    "sample1=np.random.choice(population,20)\n",
    "sample2=np.random.choice(population,20)\n",
    "sample3=np.random.choice(population,20)\n",
    "sample4=np.random.choice(population,20)"
   ]
  },
  {
   "cell_type": "code",
   "execution_count": 95,
   "id": "2af58128",
   "metadata": {},
   "outputs": [
    {
     "name": "stdout",
     "output_type": "stream",
     "text": [
      "[14 13 12 16 12 17 17 19 11 17 12 19 10 13 15 11 13 18 10 15]\n",
      "============================================================\n",
      "[13 13 14 19 11 15 13 16 19 15 10 12 13 19 19 10 13 12 11 16]\n",
      "============================================================\n",
      "[13 19 19 16 10 12 13 19 17 14 16 18 11 17 17 13 10 15 13 19]\n",
      "============================================================\n",
      "[14 14 19 19 12 12 12 12 13 19 10 14 18 19 18 17 13 17 18 11]\n"
     ]
    }
   ],
   "source": [
    "print(sample1)\n",
    "print(60*\"=\")\n",
    "print(sample2)\n",
    "print(60*\"=\")\n",
    "print(sample3)\n",
    "print(60*\"=\")\n",
    "print(sample4)"
   ]
  },
  {
   "cell_type": "code",
   "execution_count": 102,
   "id": "f5f7897c",
   "metadata": {},
   "outputs": [
    {
     "name": "stdout",
     "output_type": "stream",
     "text": [
      "============================================================\n"
     ]
    }
   ],
   "source": [
    "print(60*\"=\")"
   ]
  },
  {
   "cell_type": "code",
   "execution_count": 100,
   "id": "9b71bdd4",
   "metadata": {},
   "outputs": [
    {
     "name": "stdout",
     "output_type": "stream",
     "text": [
      "14.2\n",
      "14.15\n",
      "15.05\n",
      "15.05\n"
     ]
    }
   ],
   "source": [
    "mnean_of_the_sample=[]\n",
    "\n",
    "all_sample=[sample1,sample2,sample3,sample4]\n",
    "\n",
    "for sample in all_sample:\n",
    "    print(np.mean(sample))\n",
    "    mnean_of_the_sample.append(np.mean(sample))"
   ]
  },
  {
   "cell_type": "code",
   "execution_count": 101,
   "id": "068ee270",
   "metadata": {},
   "outputs": [
    {
     "data": {
      "text/plain": [
       "[14.2, 14.15, 15.05, 15.05]"
      ]
     },
     "execution_count": 101,
     "metadata": {},
     "output_type": "execute_result"
    }
   ],
   "source": [
    "mnean_of_the_sample"
   ]
  },
  {
   "cell_type": "code",
   "execution_count": 134,
   "id": "9a572b64",
   "metadata": {},
   "outputs": [],
   "source": [
    "population=np.random.lognormal(3.0,1.0,1000)"
   ]
  },
  {
   "cell_type": "code",
   "execution_count": 135,
   "id": "6471d9dc",
   "metadata": {},
   "outputs": [
    {
     "data": {
      "text/plain": [
       "array([  6.83348007,   2.62065925,   6.50867201,  64.94503307,\n",
       "        29.86210649,   4.815292  ,   6.66499222,  48.34390226,\n",
       "       175.64628261,  49.23993334,  16.96000393,  34.77637167,\n",
       "         5.18701378,   5.52607816, 103.58693643,  23.24118781,\n",
       "        60.45191185,  79.5309649 ,   9.63715924,  12.89256064,\n",
       "        19.70900532,   8.99696193,  77.2343222 ,  78.7450858 ,\n",
       "       313.63549983,   3.85706195,  13.10043015,  15.47467688,\n",
       "         2.82582181,   8.67818913,   7.48618423,   8.79262235,\n",
       "         9.34271875,   5.88194498,  17.89182783,  41.42097902,\n",
       "        37.06705484,  36.91656214,   5.04756851, 119.64998944,\n",
       "         4.57389422,  12.62916726,  14.0635027 ,  26.46195529,\n",
       "        51.63786792,  18.97415177,  12.98407877,  31.44671241,\n",
       "        69.41883058,  15.85704968,  11.37929899,  39.11393009,\n",
       "         6.93510091,  21.99529378,   4.96165563, 115.63711916,\n",
       "         7.68872681,  14.73705569,  10.49392716,  14.82375044,\n",
       "         5.59042109,  22.09452233,  46.73365044,  11.29458911,\n",
       "        12.44671355, 108.98021024,   8.16600937,  25.24618825,\n",
       "        25.90450707,  16.13357801,  12.25415298,  37.50938234,\n",
       "        26.72529689,  22.26417594,  20.10962275,  70.39025768,\n",
       "        92.05752179,  25.3172728 , 102.59305142,  99.51017525,\n",
       "         9.26392065,  43.0448899 ,  24.09553098,  15.61041189,\n",
       "        22.070301  ,  13.1863098 ,  45.16616037,   2.37634606,\n",
       "        32.6808591 ,   7.80288035,  32.4964868 ,  77.18188394,\n",
       "        22.64700045,  26.46129241,  42.46497059,  77.36736223,\n",
       "        50.38114686,   8.68287298,   5.19374175,  42.118224  ,\n",
       "        14.92684879,  70.80156314,  25.41406542,  21.56540271,\n",
       "         6.37050612,  71.56718176, 243.65409932,  16.41519594,\n",
       "        27.27772492,  42.53853604,  80.81865752,  25.28598852,\n",
       "         7.07303718,  55.59786107,   4.86797384,  12.86645883,\n",
       "         5.28417633,  33.60799517,   5.77486198,  13.20663609,\n",
       "        28.24116894,  29.2618859 ,  18.99637902,  55.21738335,\n",
       "        15.62351095,   4.79892892,  33.99140105,  20.5411433 ,\n",
       "        37.72329937,   8.9879343 , 118.35846844,  11.87082141,\n",
       "        46.60894094,   4.5682224 ,  75.54924888,  37.61428553,\n",
       "        12.49872635,  37.89268564,  28.81391651,  22.07218627,\n",
       "        66.92219053,  23.91232019, 166.29233257,  18.76071562,\n",
       "        98.48886055,   7.27015284,   9.56622051,   8.76356455,\n",
       "        19.13504394,   7.54383996, 109.10732687,  29.24189862,\n",
       "        16.49481762,  90.04924438,   9.49990895,  12.56382379,\n",
       "        43.69651991,  20.68344744,  33.28062248,  12.1823268 ,\n",
       "        26.24742981,  34.11981561,  18.40666694,  73.21220023,\n",
       "        12.64407054,  12.24129963,  31.84997674,   6.67461146,\n",
       "        40.94312446,  15.99032445,   5.4428785 ,  46.78799576,\n",
       "         2.63671318,  33.18154643,  16.18706884,  24.93307185,\n",
       "         7.27910118,  29.41599647,   4.46694759,   4.60118766,\n",
       "        21.49436624,  38.91815393,  21.01687436,  20.83226222,\n",
       "        49.48712753,  33.89323208,   4.09600667,   7.94249822,\n",
       "        38.30718901,  46.8467302 , 337.86531989,  16.55661124,\n",
       "        14.18377638,  34.88106677,  45.13220365,  65.80694044,\n",
       "        21.61704692,  11.4585517 ,   4.44282922, 121.42570014,\n",
       "         7.92412576,  46.77171459,  14.26775114,   5.31578965,\n",
       "        25.78133907,  76.1547207 , 104.05382224,  59.42161403,\n",
       "        14.77177656, 135.82926502,  63.2117787 , 164.73812977,\n",
       "        44.41532391,  15.60550019,   5.54553399,  35.23578576,\n",
       "        24.96913957,   8.05878801,  17.19766482,   5.3808    ,\n",
       "         6.50943129,  15.19272608,  37.54355761,  77.87760734,\n",
       "        36.07000607,  15.31853394,  25.18730944, 102.94297926,\n",
       "        12.40300904,   6.63272434,  61.36703828,   4.00829443,\n",
       "         9.35261315,  20.3988443 ,  16.52679403,  30.24600614,\n",
       "        25.49832291,   9.56695103,  28.2436027 ,  18.03946251,\n",
       "         7.56404996,  33.48349304,  86.60488091,  90.49603753,\n",
       "        12.46715218,  20.15798096,  26.7164416 ,  16.97486415,\n",
       "        13.49173328,  49.1177055 ,  25.36977097,  11.36325792,\n",
       "        27.47826641,  22.34970882,   4.52273285,  95.46166904,\n",
       "        23.45715311,  21.77791851,   3.12794331,   7.45189364,\n",
       "        24.33354174,   4.9129252 ,  16.82227018,  14.34613071,\n",
       "        11.04112753,  23.34423145, 112.01438252,  72.26992928,\n",
       "        34.25050167,  46.19040883,  11.28033033,  40.41908467,\n",
       "        17.97056165,   7.68984044,  15.51609737,  30.78485938,\n",
       "        15.35126051,  51.83802729,  10.43545344,   5.81628552,\n",
       "       231.78828772,  20.41489325,  63.23445069,  29.62368812,\n",
       "        72.33816785,   2.4702241 ,   4.65157298,  11.83216604,\n",
       "        14.01021212,   8.89862324,  13.34268223,   8.0486956 ,\n",
       "        33.00374039,  13.58154417, 101.99668135,  30.12447754,\n",
       "         8.3181882 ,  46.78420519,  19.35913078,  19.12684242,\n",
       "        20.90673427,  20.27574056,  30.88642346,  27.34977736,\n",
       "        18.98458366,  63.93107455,  22.19328698,  54.68466671,\n",
       "        26.43644331,  15.45123307,  61.09522044,   1.4594267 ,\n",
       "        47.76595081, 158.36380265,  33.3901413 ,   2.26749689,\n",
       "        12.23791598,  11.1452438 ,  18.21906188,  15.9544307 ,\n",
       "        39.85026504,   2.04924688,  21.87656296,  84.45092248,\n",
       "        56.68262534,  55.14319425,  39.63833135, 139.92151084,\n",
       "       119.44996623,  19.8968874 ,   3.75017471,   6.86459493,\n",
       "         9.271571  ,  10.06389051,  30.23184362,  13.41568211,\n",
       "        16.22471691, 104.43058903,  54.07131837,  30.47130382,\n",
       "        35.68587869,  11.62254803,   7.2862367 ,  54.83335557,\n",
       "        19.48922417,  17.6118215 ,  17.2429066 , 134.55076983,\n",
       "         7.04000911,   4.18042362,  73.04915781,  22.60295837,\n",
       "        18.95316886,  28.1239585 ,  25.17508249,  44.59567607,\n",
       "        11.78542008,  18.96162212,   7.907381  ,   2.2134579 ,\n",
       "        67.99148452,  30.29780626, 261.75167587,  51.20983401,\n",
       "         8.12333568, 150.98029923,   8.29268107,   7.71252785,\n",
       "        65.16969055,  19.38304267,  85.14552951,  86.89535306,\n",
       "        10.91064346,  41.20526429,  44.35227024,  36.53597734,\n",
       "         5.90704266,  62.31406613,   9.07245346,  16.03370904,\n",
       "        20.82410851,  14.61043596,  23.51288127,   8.02419567,\n",
       "         9.22853588,   8.33523621,  19.78897652,   8.58012977,\n",
       "        12.61032298,   6.56519598,   3.86103093,  15.03547747,\n",
       "        26.16849946,  15.8517828 ,  12.93351968, 134.72160843,\n",
       "        56.27191307,   4.05916878,   8.73876116,  43.85956228,\n",
       "        34.31581334,  37.65754208,  25.0963336 ,  68.93002497,\n",
       "        33.90683063,  13.33029756,  10.64554787,  26.93616624,\n",
       "       158.29896145,   9.69323636,  63.68832979,  10.79542035,\n",
       "        32.75287537,   4.31722635,  20.04738051,  27.14994966,\n",
       "        26.03107355,   7.59771016,  15.02927473,  27.41810543,\n",
       "         2.68480044,  16.72626972,  27.78107528,  18.75221119,\n",
       "         3.04476006,  19.28759878,   9.65959772,  10.01897743,\n",
       "         8.31325165,   4.36389995,  51.1611558 ,   6.10146319,\n",
       "        20.29133666,   5.34361764,  14.03741208,  15.9584273 ,\n",
       "        35.49901202,  14.26233558,  95.75394616,   9.27091484,\n",
       "        42.1370514 ,  53.93156945,  15.99367463, 121.31677586,\n",
       "        45.33689546,   9.93290661,  36.78697466,   4.29449515,\n",
       "        40.52790027,   6.27674703,  67.02643096,  17.61013398,\n",
       "        26.05731234,  83.52397603,   8.69836233,  10.49820169,\n",
       "         6.13218323,   8.804923  ,  44.22335604,  31.58234506,\n",
       "        15.77125923,  35.06497995,  20.86685267,  17.64988637,\n",
       "         1.97316442,   9.32284275,  37.87591634,  10.1613582 ,\n",
       "         9.98286801,  17.92630102,   8.40465768, 109.56614553,\n",
       "        11.43467527,  25.56051369,   5.94279951,  34.15665182,\n",
       "       121.93353067,  17.8411764 ,  19.26543723,  69.19428613,\n",
       "         5.85628553,  14.31297006,  19.30310349,   6.20920565,\n",
       "        11.28198063,  63.38088299,  23.06810869,  13.63708835,\n",
       "        59.67360217,  19.27879367,   8.73424138,   1.51825865,\n",
       "        68.31339831,  30.73687668,  12.61959571,   4.82191233,\n",
       "        28.30895378,  11.15537411, 307.06987316,  42.73115773,\n",
       "        22.92155388,  22.28393963,  13.34318646,  22.13492757,\n",
       "        14.52400973,   6.54747567,   5.62276577,  64.3320885 ,\n",
       "       114.3506615 ,  10.14271141,  27.80764635,   6.55898688,\n",
       "        12.4648881 ,  18.81279906,   8.50727099,  20.50503034,\n",
       "        60.71462819,  30.00074159,   9.06907611, 254.82889695,\n",
       "        28.63895109,  64.70483223,  21.09999189,  59.13127541,\n",
       "        16.69789158,  17.00205216,  42.66316294,   9.61307906,\n",
       "        13.26896441,  29.59518012,  32.45978065, 128.16654648,\n",
       "        16.89504541,  16.11800287,  49.61724101,   7.76327462,\n",
       "        27.5051118 ,  48.84966459,   7.27054668,  11.45141926,\n",
       "        50.48666399,  10.65626223,  50.60515995,  11.36151124,\n",
       "        39.22902417,  19.46966186,   8.50481624,  16.61317172,\n",
       "        13.11078035,   7.01212171,  11.13923002, 182.41863171,\n",
       "        26.87316897,   8.28090396,  31.07331074,   4.76418362,\n",
       "        17.44140278,  27.43241309,  15.94109863,   9.81670146,\n",
       "        15.14534518,   2.69149972,  24.09575147,  21.02121893,\n",
       "        43.70225478,   6.88629039,  56.45388083,  51.26472596,\n",
       "         4.27698086,  26.56521597,   6.97474312,  29.10696852,\n",
       "        29.08781277,  11.78168222,   4.60542212,  33.99467574,\n",
       "        45.15446606,  32.33211368,  80.21963495,   8.87793383,\n",
       "        16.42039421,  98.58465285,  38.75265286,  12.05089206,\n",
       "        72.69389018,  12.32251349,  20.61108187,  41.55520616,\n",
       "        33.07982628,  48.44166708,  12.46910935,  27.77379932,\n",
       "        10.93902247,   9.36677905,  44.12562462, 153.0788922 ,\n",
       "        75.37102324,  42.53979377,  15.92422956,  19.86427653,\n",
       "        20.35189151,  18.87091433,  16.8290335 ,  28.29835561,\n",
       "        58.56836452,  51.29477422,   7.17870137,   8.76567449,\n",
       "        17.64892826,  43.8519278 ,  38.48023429, 112.75369656,\n",
       "        76.25510123,  62.666235  ,  48.16453043,  60.95798605,\n",
       "        46.79969215,  38.28267808,  20.41430589,  38.45717818,\n",
       "        75.61349651, 203.38870552,  36.07395657,  14.40279527,\n",
       "        29.02330143,  21.91830664,  13.39214227,  51.77439161,\n",
       "        16.75033592,  67.80750053,  11.11195917,  17.49036244,\n",
       "        18.77561179,  19.76886612,  48.11588271,   1.65816599,\n",
       "        19.44360807,  19.04922747,  60.94189926,  43.25222115,\n",
       "        62.08676932,  47.5614964 ,   5.41170884,  39.26373649,\n",
       "        21.92466374,  48.00120737,  20.65024627,  16.55872725,\n",
       "        26.87762765,  16.4218364 ,  16.49636366,  29.75742223,\n",
       "        20.32001909, 119.66714321,  12.17019013,  19.76235744,\n",
       "        20.26183042,  25.26031135, 171.5881732 ,  39.92679365,\n",
       "        11.48633883,  30.4586988 ,   8.6760041 ,  30.53631756,\n",
       "         4.98974268,  19.84032075,  84.05199673,   8.03010671,\n",
       "         7.96375814,  17.99252707,  32.98991309,  19.9704935 ,\n",
       "        43.07198468,  38.94621979,  21.76800361,   7.51026804,\n",
       "        68.51758642,   7.12515819,  20.62740678,  14.26317409,\n",
       "        32.96692023,   3.47411523,  21.50764026, 248.90589236,\n",
       "        28.86072579,  22.12352323,  18.89980582,   6.09122336,\n",
       "        26.48699342,  12.81929201,  11.45976664,  15.48307853,\n",
       "        39.43979671,  32.0105326 ,  71.63995299,  20.51793568,\n",
       "         5.76013276,   9.86278483,  55.31244654,  68.08682834,\n",
       "        11.58242052,  17.55814874,  13.74367745,  14.76425438,\n",
       "        45.09426259, 125.50968173,  15.11887268, 149.37908784,\n",
       "        14.36087746,  32.46861691, 106.75259183,  11.73918338,\n",
       "         8.71633753,  27.35995044,  42.16903495,  74.0770092 ,\n",
       "        31.60419755, 195.98531498,   8.21669111,  13.60591155,\n",
       "        14.81247343,  14.88556957,  63.12159585,  43.17299074,\n",
       "        44.80137715,  32.54339054,  61.77336025,  59.62176846,\n",
       "        10.87489089,  14.92137191,  32.68877384,  37.11280414,\n",
       "         6.77811155,  20.50119283,  15.3913779 ,  38.81103316,\n",
       "        54.81093385,  11.56913924,  45.30582234,  21.415293  ,\n",
       "       121.63945359,  11.61213446,  27.2989062 ,   3.47990259,\n",
       "        29.61227361,  40.24762413,  37.81984459,  15.15058937,\n",
       "         9.53559323,  38.94734582,  14.2966924 ,  15.55266571,\n",
       "         1.36350119,   6.66482179,  61.12787956,  12.28990729,\n",
       "         3.15854729,  24.53850423,  15.77062826,   2.71716332,\n",
       "        14.27131014,  54.59027553,  18.73853258,  31.21939825,\n",
       "        14.28492821,   5.81922157,  30.23310105,  58.07804919,\n",
       "        13.57444443,   2.39184299,  18.15707914,  29.79326392,\n",
       "         8.70379688, 132.16162546,  14.66920161,  74.32259009,\n",
       "        85.32961875,  12.46376123,  17.57801642,  21.57704115,\n",
       "        14.94525108,  25.17340435,   9.19290269,   7.94520511,\n",
       "        12.1260682 ,  34.88562707,   4.60485118,  15.49613833,\n",
       "         7.7514444 ,  39.93890711,  24.28757715,   5.19090208,\n",
       "        34.76791115,  26.60029033,  72.65355235,   7.21157841,\n",
       "         5.25819892,  47.47813557,  48.02456032,  70.9062309 ,\n",
       "        46.72332216,  10.00471973,  26.01812368,  25.17011027,\n",
       "        18.68943571,   2.80716223,  18.01657003,  48.92663125,\n",
       "        10.35715144, 356.99063795,   6.90276135,  13.2085908 ,\n",
       "        28.8562457 ,  40.64210484,  18.485022  ,  20.57999014,\n",
       "         7.08707273,  30.05194217,  11.27448495,  14.19889151,\n",
       "        28.29733281,   6.49925022,  18.90812026,  13.26320595,\n",
       "        18.15416681,  17.08759812,  14.95826837,   9.47413169,\n",
       "        32.96938776,  31.28213993,  73.23729422,   9.38864145,\n",
       "        16.98650402,  21.43670446,   7.06141734,  32.02690018,\n",
       "         8.00702997, 150.375025  ,  24.84831403,  36.81231867,\n",
       "         8.9760498 ,  14.43073617,  68.10888347,  41.45809792,\n",
       "         4.04582055,  10.18279429,  22.55838511,   9.0170595 ,\n",
       "        33.65181574,  70.66558651,  50.49489844,  24.21320999,\n",
       "         8.23173104,  31.91029636,  19.67666265,   8.33297302,\n",
       "         7.79148541,  18.7317012 ,   4.25772415,  50.22217053,\n",
       "         5.86159935,   6.51491644,  30.85902443,  17.85904296,\n",
       "        10.32144601,  11.86567615,  20.01870055,  23.63905236,\n",
       "        41.88863169,   5.94164525,   3.25103218,  28.47516523,\n",
       "         4.192306  ,  11.6270196 ,  99.71289917,  14.14239103,\n",
       "        10.56816443,  38.0895454 ,  69.47326288,  56.98856448,\n",
       "        43.56084405, 122.91604273,  24.24519227,  11.55814871,\n",
       "        41.73146662,  14.89299266,  53.01010559,  29.1331474 ,\n",
       "        58.32978714,  51.2187576 ,  88.24015565,  20.4611052 ,\n",
       "        61.0013655 ,   8.62224817,  25.50162487,  10.95773019,\n",
       "       160.19548242,   4.6256735 ,  20.74817816,  26.52382355,\n",
       "        25.75434839,  54.38651467,  80.51099659,  10.10876852,\n",
       "        39.16446063,  13.74045339,  25.84290099,   8.94778911,\n",
       "         6.48487423,  35.077601  ,   1.5628192 ,  10.05161218,\n",
       "        11.71440102,  36.67073244,  15.79382146,  56.20697474,\n",
       "        61.88569681,   5.28794581,  13.33578952,  27.97460661,\n",
       "        67.50383939,  20.00093012,   6.45324056,   7.94397649,\n",
       "        16.74941752,  19.96989786,  50.77903139,  18.26360617,\n",
       "        12.95602245,  45.89343291, 127.07263345,  10.92480665,\n",
       "         5.97221914,  47.96953383,   8.20745584,  12.98560297,\n",
       "         9.09570372,  21.56129548,  28.4968794 ,  14.92418567,\n",
       "         9.02419144,   2.35679631,  23.091232  ,  17.66755692,\n",
       "        15.51610837,  51.84774475,  37.48426649,  64.9138975 ,\n",
       "         8.30959275,  15.85462009,  15.84537868,  79.02819199,\n",
       "        71.86607336,  10.66493856,  24.79657119,  56.33318198,\n",
       "         5.78202865,  11.06823626,   9.09771656,  33.91726205,\n",
       "       346.7799288 ,  95.76076728,   9.92793028,  38.7234884 ,\n",
       "        42.44692378,  19.19892166,  13.03239301,  15.61249277,\n",
       "        20.0481235 ,  14.4754086 ,  16.05678405,  37.09382322,\n",
       "         5.26092646,   6.32270856,   3.17255341,  34.02802684,\n",
       "        24.97438994,  47.10064564,  32.74207739, 119.20170367,\n",
       "        24.89845816,  12.75228575,  10.29017903,  17.32392986,\n",
       "         5.90409542,   5.38559149,   6.2017388 ,  18.87378277,\n",
       "         6.87999787,   6.06306955,  66.84091459,  15.69050767,\n",
       "         3.04168858,  30.53977655,  11.09574004,   2.23395778,\n",
       "        85.34357727,  57.40205122,  10.01841307,  89.86962248])"
      ]
     },
     "execution_count": 135,
     "metadata": {},
     "output_type": "execute_result"
    }
   ],
   "source": [
    "population"
   ]
  },
  {
   "cell_type": "code",
   "execution_count": 136,
   "id": "c0d14d75",
   "metadata": {},
   "outputs": [
    {
     "data": {
      "text/plain": [
       "1000"
      ]
     },
     "execution_count": 136,
     "metadata": {},
     "output_type": "execute_result"
    }
   ],
   "source": [
    "len(population)"
   ]
  },
  {
   "cell_type": "code",
   "execution_count": 137,
   "id": "babe4022",
   "metadata": {},
   "outputs": [
    {
     "name": "stderr",
     "output_type": "stream",
     "text": [
      "C:\\ProgramData\\Anaconda3\\lib\\site-packages\\seaborn\\distributions.py:2619: FutureWarning: `distplot` is a deprecated function and will be removed in a future version. Please adapt your code to use either `displot` (a figure-level function with similar flexibility) or `histplot` (an axes-level function for histograms).\n",
      "  warnings.warn(msg, FutureWarning)\n"
     ]
    },
    {
     "data": {
      "text/plain": [
       "<AxesSubplot:ylabel='Density'>"
      ]
     },
     "execution_count": 137,
     "metadata": {},
     "output_type": "execute_result"
    },
    {
     "data": {
      "image/png": "[encoded data removed]",
      "text/plain": [
       "<Figure size 432x288 with 1 Axes>"
      ]
     },
     "metadata": {
      "needs_background": "light"
     },
     "output_type": "display_data"
    }
   ],
   "source": [
    "sns.distplot(population)"
   ]
  },
  {
   "cell_type": "markdown",
   "id": "391673ee",
   "metadata": {},
   "source": [
    "Suppose you have a population with any shape of probability distribution (not necessarily normal), and you draw random samples**(at least 30)** of a fixed size(in our case i took 3000 initially) from this population. As the sample size increases**(it might be anything and take as much as data)**, the distribution of the sample means approaches a normal distribution, regardless of the shape of the original population distribution."
   ]
  },
  {
   "cell_type": "code",
   "execution_count": 138,
   "id": "9a96c813",
   "metadata": {},
   "outputs": [
    {
     "data": {
      "text/plain": [
       "1000"
      ]
     },
     "execution_count": 138,
     "metadata": {},
     "output_type": "execute_result"
    }
   ],
   "source": [
    "len(population)"
   ]
  },
  {
   "cell_type": "code",
   "execution_count": 139,
   "id": "ffe7fa91",
   "metadata": {},
   "outputs": [
    {
     "name": "stdout",
     "output_type": "stream",
     "text": [
      "300\n"
     ]
    }
   ],
   "source": [
    "size=int(len(population)*0.30)\n",
    "print(size)"
   ]
  },
  {
   "cell_type": "code",
   "execution_count": 140,
   "id": "551ae16b",
   "metadata": {},
   "outputs": [],
   "source": [
    "sample_mean=[]\n",
    "\n",
    "for i in range(1,31):\n",
    "    sample=np.random.choice(population,size=size)\n",
    "    sample_mean.append(np.mean(sample))"
   ]
  },
  {
   "cell_type": "code",
   "execution_count": 141,
   "id": "20cbda4a",
   "metadata": {},
   "outputs": [
    {
     "data": {
      "text/plain": [
       "[32.54928093377833,\n",
       " 31.833335226624005,\n",
       " 38.07746051101965,\n",
       " 33.86932035826713,\n",
       " 28.958326376229987,\n",
       " 34.93959299077269,\n",
       " 35.72787466771079,\n",
       " 35.39098638808059,\n",
       " 33.324775860595054,\n",
       " 33.44794181112963,\n",
       " 32.773764329257205,\n",
       " 34.59071605376132,\n",
       " 32.227999177757525,\n",
       " 31.678643417952934,\n",
       " 33.18006154382263,\n",
       " 33.40464977767486,\n",
       " 32.228020209983455,\n",
       " 34.02757802234895,\n",
       " 31.383970778705905,\n",
       " 32.37496486890156,\n",
       " 35.58637273339273,\n",
       " 32.90622711455917,\n",
       " 32.02613010943042,\n",
       " 33.656396858266454,\n",
       " 35.66616884853157,\n",
       " 29.668912937198964,\n",
       " 30.99713819903193,\n",
       " 35.29664966028523,\n",
       " 32.96293656747478,\n",
       " 29.874977311804937]"
      ]
     },
     "execution_count": 141,
     "metadata": {},
     "output_type": "execute_result"
    }
   ],
   "source": [
    "sample_mean"
   ]
  },
  {
   "cell_type": "code",
   "execution_count": 142,
   "id": "d58246b5",
   "metadata": {},
   "outputs": [
    {
     "name": "stderr",
     "output_type": "stream",
     "text": [
      "C:\\ProgramData\\Anaconda3\\lib\\site-packages\\seaborn\\distributions.py:2619: FutureWarning: `distplot` is a deprecated function and will be removed in a future version. Please adapt your code to use either `displot` (a figure-level function with similar flexibility) or `histplot` (an axes-level function for histograms).\n",
      "  warnings.warn(msg, FutureWarning)\n"
     ]
    },
    {
     "data": {
      "text/plain": [
       "<AxesSubplot:ylabel='Density'>"
      ]
     },
     "execution_count": 142,
     "metadata": {},
     "output_type": "execute_result"
    },
    {
     "data": {
      "image/png": "[encoded data removed]",
      "text/plain": [
       "<Figure size 432x288 with 1 Axes>"
      ]
     },
     "metadata": {
      "needs_background": "light"
     },
     "output_type": "display_data"
    }
   ],
   "source": [
    "sns.distplot(sample_mean)"
   ]
  },
  {
   "cell_type": "code",
   "execution_count": null,
   "id": "0ad4566d",
   "metadata": {},
   "outputs": [],
   "source": []
  }
 ],
 "metadata": {
  "kernelspec": {
   "display_name": "Python 3 (ipykernel)",
   "language": "python",
   "name": "python3"
  },
  "language_info": {
   "codemirror_mode": {
    "name": "ipython",
    "version": 3
   },
   "file_extension": ".py",
   "mimetype": "text/x-python",
   "name": "python",
   "nbconvert_exporter": "python",
   "pygments_lexer": "ipython3",
   "version": "3.9.7"
  }
 },
 "nbformat": 4,
 "nbformat_minor": 5
}
