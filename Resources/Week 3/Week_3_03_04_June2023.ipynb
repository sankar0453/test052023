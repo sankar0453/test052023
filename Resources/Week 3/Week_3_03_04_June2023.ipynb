{
 "cells": [
  {
   "cell_type": "markdown",
   "metadata": {},
   "source": [
    "# Operations on List"
   ]
  },
  {
   "cell_type": "code",
   "execution_count": 1,
   "metadata": {},
   "outputs": [
    {
     "name": "stdout",
     "output_type": "stream",
     "text": [
      "[0, 1, 2, 3, 4]\n",
      "[5, 6, 7, 8, 9]\n",
      "[7, 8, 9]\n",
      "[2, 3, 4]\n",
      "[1, 3, 5]\n",
      "[9, 8, 7, 6, 5, 4, 3, 2, 1, 0]\n",
      "[9, 7, 5, 3, 1]\n",
      "[6, 5, 4, 3, 2]\n",
      "[8, 6, 4]\n"
     ]
    }
   ],
   "source": [
    "# Slicing\n",
    "\n",
    "# Define a list\n",
    "numbers = [0, 1, 2, 3, 4, 5, 6, 7, 8, 9]\n",
    "\n",
    "# Get the first 5 items\n",
    "print(numbers[:5])  # Output: [0, 1, 2, 3, 4]\n",
    "\n",
    "# Get the items from index 5 to the end\n",
    "print(numbers[5:])  # Output: [5, 6, 7, 8, 9]\n",
    "\n",
    "# Get the last 3 items\n",
    "print(numbers[-3:])  # Output: [7, 8, 9]\n",
    "\n",
    "# Get the items from index 2 to index 5 (exclusive)\n",
    "print(numbers[2:5])  # Output: [2, 3, 4]\n",
    "\n",
    "# Get every second item in the range from index 1 to index 6\n",
    "print(numbers[1:6:2])  # Output: [1, 3, 5]\n",
    "\n",
    "# Reverse the list\n",
    "print(numbers[::-1])  # Output: [9, 8, 7, 6, 5, 4, 3, 2, 1, 0]\n",
    "\n",
    "# Get every second item in the reversed list\n",
    "print(numbers[::-2])  # Output: [9, 7, 5, 3, 1]\n",
    "\n",
    "# Get a sublist in reverse order (e.g., items from index 2 to index 6)\n",
    "print(numbers[6:1:-1])  # Output: [6, 5, 4, 3, 2]\n",
    "\n",
    "# Slicing with negative step, starting from end\n",
    "print(numbers[8:2:-2])  # Output: [8, 6, 4]\n"
   ]
  },
  {
   "cell_type": "code",
   "execution_count": 6,
   "metadata": {},
   "outputs": [
    {
     "name": "stdout",
     "output_type": "stream",
     "text": [
      "Before changing item by index:  ['apple', 'banana', 'cherry', 'apple', 'elderberry']\n",
      "After changing item by index:  ['kiwi', 'banana', 'cherry', 'apple', 'elderberry']\n",
      "\n",
      "Before changing items by slicing:  ['kiwi', 'banana', 'cherry', 'apple', 'elderberry']\n",
      "After changing items by slicing:  ['kiwi', 'blackcurrant', 'cantaloupe', 'apple', 'elderberry']\n",
      "\n",
      "Before changing items based on condition:  ['kiwi', 'blackcurrant', 'cantaloupe', 'apple', 'elderberry']\n",
      "After changing items based on condition:  ['kiwi', 'blackcurrant', 'cantaloupe', 'kiwi', 'elderberry']\n",
      "\n",
      "Before using list method to replace:  ['kiwi', 'blackcurrant', 'cantaloupe', 'kiwi', 'elderberry']\n",
      "After using list method to replace:  ['apple', 'kiwi', 'cherry']\n"
     ]
    }
   ],
   "source": [
    "# Example List\n",
    "fruits = ['apple', 'banana', 'cherry', 'apple', 'elderberry']\n",
    "\n",
    "# Change an item by index\n",
    "print(\"Before changing item by index: \", fruits)\n",
    "fruits[0] = 'kiwi'\n",
    "print(\"After changing item by index: \", fruits)  # Output: ['kiwi', 'banana', 'cherry', 'apple', 'elderberry']\n",
    "\n",
    "# Change multiple items by slicing\n",
    "print(\"\\nBefore changing items by slicing: \", fruits)\n",
    "fruits[1:3] = ['blackcurrant', 'cantaloupe']\n",
    "print(\"After changing items by slicing: \", fruits)  # Output: ['kiwi', 'blackcurrant', 'cantaloupe', 'apple', 'elderberry']\n",
    "\n",
    "# Change items based on condition\n",
    "print(\"\\nBefore changing items based on condition: \", fruits)\n",
    "fruits = ['kiwi' if fruit == 'apple' else fruit for fruit in fruits]\n",
    "print(\"After changing items based on condition: \", fruits)  # Output: ['kiwi', 'blackcurrant', 'cantaloupe', 'kiwi', 'elderberry']\n",
    "\n",
    "# Use list method to replace\n",
    "print(\"\\nBefore using list method to replace: \", fruits)\n",
    "fruits = ['apple', 'banana', 'cherry']\n",
    "fruits.insert(1, 'kiwi')  # Insert 'kiwi' at index 1\n",
    "fruits.pop(2)  # Remove the item at index 2 ('banana')\n",
    "print(\"After using list method to replace: \", fruits)  # Output: ['apple', 'kiwi', 'cherry']\n"
   ]
  },
  {
   "cell_type": "code",
   "execution_count": 4,
   "metadata": {},
   "outputs": [
    {
     "name": "stdout",
     "output_type": "stream",
     "text": [
      "Before append:  ['apple', 'banana', 'cherry']\n",
      "After append:  ['apple', 'banana', 'cherry', 'dragonfruit']\n",
      "\n",
      "Before insert:  ['apple', 'banana', 'cherry', 'dragonfruit']\n",
      "After insert:  ['apple', 'kiwi', 'banana', 'cherry', 'dragonfruit']\n",
      "\n",
      "Before extend:  ['apple', 'kiwi', 'banana', 'cherry', 'dragonfruit']\n",
      "After extend:  ['apple', 'kiwi', 'banana', 'cherry', 'dragonfruit', 'mango', 'nectarine']\n",
      "\n",
      "Before slicing:  ['apple', 'kiwi', 'banana', 'cherry', 'dragonfruit', 'mango', 'nectarine']\n",
      "After slicing:  ['apple', 'kiwi', 'blackcurrant', 'cantaloupe', 'banana', 'cherry', 'dragonfruit', 'mango', 'nectarine']\n",
      "\n",
      "Before adding another list:  ['apple', 'kiwi', 'blackcurrant', 'cantaloupe', 'banana', 'cherry', 'dragonfruit', 'mango', 'nectarine']\n",
      "After adding another list:  ['apple', 'kiwi', 'blackcurrant', 'cantaloupe', 'banana', 'cherry', 'dragonfruit', 'mango', 'nectarine', 'orange', 'papaya']\n"
     ]
    }
   ],
   "source": [
    "# Example List\n",
    "fruits = ['apple', 'banana', 'cherry']\n",
    "\n",
    "# Adding an item to the end of the list using append()\n",
    "print(\"Before append: \", fruits)\n",
    "fruits.append('dragonfruit')\n",
    "print(\"After append: \", fruits)  # Output: ['apple', 'banana', 'cherry', 'dragonfruit']\n",
    "\n",
    "# Adding an item at a specific position using insert()\n",
    "print(\"\\nBefore insert: \", fruits)\n",
    "fruits.insert(1, 'kiwi')\n",
    "print(\"After insert: \", fruits)  # Output: ['apple', 'kiwi', 'banana', 'cherry', 'dragonfruit']\n",
    "\n",
    "# Adding multiple items to the end of the list using extend()\n",
    "print(\"\\nBefore extend: \", fruits)\n",
    "fruits.extend(['mango', 'nectarine'])\n",
    "print(\"After extend: \", fruits)  # Output: ['apple', 'kiwi', 'banana', 'cherry', 'dragonfruit', 'mango', 'nectarine']\n",
    "\n",
    "# Adding multiple items at a specific position by slicing\n",
    "print(\"\\nBefore slicing: \", fruits)\n",
    "fruits[2:2] = ['blackcurrant', 'cantaloupe']\n",
    "print(\"After slicing: \", fruits)  # Output: ['apple', 'kiwi', 'blackcurrant', 'cantaloupe', 'banana', 'cherry', 'dragonfruit', 'mango', 'nectarine']\n",
    "\n",
    "# Adding items from another list using the \"+\" operator\n",
    "print(\"\\nBefore adding another list: \", fruits)\n",
    "other_fruits = ['orange', 'papaya']\n",
    "fruits = fruits + other_fruits\n",
    "print(\"After adding another list: \", fruits)  # Output: ['apple', 'kiwi', 'blackcurrant', 'cantaloupe', 'banana', 'cherry', 'dragonfruit', 'mango', 'nectarine', 'orange', 'papaya']\n"
   ]
  },
  {
   "cell_type": "code",
   "execution_count": 7,
   "metadata": {},
   "outputs": [
    {
     "name": "stdout",
     "output_type": "stream",
     "text": [
      "Before pop:  ['apple', 'kiwi', 'blackcurrant', 'cantaloupe', 'kiwi', 'elderberry']\n",
      "After pop: ['apple', 'blackcurrant', 'cantaloupe', 'kiwi', 'elderberry'], removed item: kiwi\n",
      "\n",
      "Before remove:  ['apple', 'blackcurrant', 'cantaloupe', 'kiwi', 'elderberry']\n",
      "After remove:  ['apple', 'cantaloupe', 'kiwi', 'elderberry']\n",
      "\n",
      "Before slicing:  ['apple', 'cantaloupe', 'kiwi', 'elderberry']\n",
      "After slicing:  ['apple', 'elderberry']\n",
      "\n",
      "Before clear:  ['apple', 'elderberry']\n",
      "After clear:  []\n"
     ]
    }
   ],
   "source": [
    "# Example List\n",
    "fruits = ['apple', 'kiwi', 'blackcurrant', 'cantaloupe', 'kiwi', 'elderberry']\n",
    "\n",
    "# Removing an item by index using pop()\n",
    "print(\"Before pop: \", fruits)\n",
    "removed = fruits.pop(1)\n",
    "print(f\"After pop: {fruits}, removed item: {removed}\")  # Output: ['apple', 'blackcurrant', 'cantaloupe', 'kiwi', 'elderberry'], removed item: kiwi\n",
    "\n",
    "# Removing an item by value using remove()\n",
    "print(\"\\nBefore remove: \", fruits)\n",
    "fruits.remove('blackcurrant')\n",
    "print(\"After remove: \", fruits)  # Output: ['apple', 'cantaloupe', 'kiwi', 'elderberry']\n",
    "\n",
    "# Removing multiple items by slicing\n",
    "print(\"\\nBefore slicing: \", fruits)\n",
    "del fruits[1:3]\n",
    "print(\"After slicing: \", fruits)  # Output: ['apple', 'elderberry']\n",
    "\n",
    "# Removing all items using clear()\n",
    "print(\"\\nBefore clear: \", fruits)\n",
    "fruits.clear()\n",
    "print(\"After clear: \", fruits)  # Output: []\n"
   ]
  },
  {
   "cell_type": "code",
   "execution_count": 8,
   "metadata": {},
   "outputs": [
    {
     "name": "stdout",
     "output_type": "stream",
     "text": [
      "Looping through list using a for loop:\n",
      "apple\n",
      "kiwi\n",
      "blackcurrant\n",
      "cantaloupe\n",
      "kiwi\n",
      "elderberry\n",
      "\n",
      "Looping through list by index using a for loop and range():\n",
      "Item at index 0 is apple\n",
      "Item at index 1 is kiwi\n",
      "Item at index 2 is blackcurrant\n",
      "Item at index 3 is cantaloupe\n",
      "Item at index 4 is kiwi\n",
      "Item at index 5 is elderberry\n",
      "\n",
      "Looping through a list and creating a new list (list comprehension):\n",
      "['APPLE', 'KIWI', 'BLACKCURRANT', 'CANTALOUPE', 'KIWI', 'ELDERBERRY']\n",
      "\n",
      "Looping through a list using enumerate() to get both the index and the value:\n",
      "Item at index 0 is apple\n",
      "Item at index 1 is kiwi\n",
      "Item at index 2 is blackcurrant\n",
      "Item at index 3 is cantaloupe\n",
      "Item at index 4 is kiwi\n",
      "Item at index 5 is elderberry\n",
      "\n",
      "Looping through a list using a while loop:\n",
      "apple\n",
      "kiwi\n",
      "blackcurrant\n",
      "cantaloupe\n",
      "kiwi\n",
      "elderberry\n"
     ]
    }
   ],
   "source": [
    "# Example List\n",
    "fruits = ['apple', 'kiwi', 'blackcurrant', 'cantaloupe', 'kiwi', 'elderberry']\n",
    "\n",
    "# Looping through a list using a for loop\n",
    "print(\"Looping through list using a for loop:\")\n",
    "for fruit in fruits:\n",
    "    print(fruit)\n",
    "\n",
    "# Looping through a list by index using a for loop and range()\n",
    "print(\"\\nLooping through list by index using a for loop and range():\")\n",
    "for i in range(len(fruits)):\n",
    "    print(f\"Item at index {i} is {fruits[i]}\")\n",
    "\n",
    "# Looping through a list and creating a new list (list comprehension)\n",
    "print(\"\\nLooping through a list and creating a new list (list comprehension):\")\n",
    "capitalized_fruits = [fruit.upper() for fruit in fruits]\n",
    "print(capitalized_fruits)  # Output: ['APPLE', 'KIWI', 'BLACKCURRANT', 'CANTALOUPE', 'KIWI', 'ELDERBERRY']\n",
    "\n",
    "# Looping through a list using enumerate() to get both the index and the value\n",
    "print(\"\\nLooping through a list using enumerate() to get both the index and the value:\")\n",
    "for i, fruit in enumerate(fruits):\n",
    "    print(f\"Item at index {i} is {fruit}\")\n",
    "\n",
    "# Looping through a list using a while loop\n",
    "print(\"\\nLooping through a list using a while loop:\")\n",
    "i = 0\n",
    "while i < len(fruits):\n",
    "    print(fruits[i])\n",
    "    i += 1\n"
   ]
  },
  {
   "cell_type": "code",
   "execution_count": 12,
   "metadata": {},
   "outputs": [
    {
     "name": "stdout",
     "output_type": "stream",
     "text": [
      "Original list:  ['grapes', 'apple', 'banana', 'cherry', 'mangoes']\n",
      "\n",
      "List comprehension (lengths):  [6, 5, 6, 6, 7]\n",
      "\n",
      "Sorted list (ascending):  ['apple', 'banana', 'cherry', 'grapes', 'mangoes']\n",
      "Sorted list (descending):  ['mangoes', 'grapes', 'cherry', 'banana', 'apple']\n",
      "\n",
      "Copied list:  ['mangoes', 'grapes', 'cherry', 'banana', 'apple']\n",
      "\n",
      "Joined list:  ['mangoes', 'grapes', 'cherry', 'banana', 'apple', 'elderberry', 'fig', 'grapefruit']\n",
      "\n",
      "List methods:\n",
      "After append:  ['mangoes', 'grapes', 'cherry', 'banana', 'apple', 'honeydew']\n",
      "After remove:  ['mangoes', 'grapes', 'cherry', 'apple', 'honeydew']\n",
      "Index of 'cherry':  2\n",
      "Count of 'apple':  1\n",
      "After pop at index 2:  ['mangoes', 'grapes', 'apple', 'honeydew']\n",
      "After clear:  []\n"
     ]
    }
   ],
   "source": [
    "# Original list\n",
    "fruits = ['grapes', 'apple', 'banana', 'cherry', 'mangoes']\n",
    "print(\"Original list: \", fruits)\n",
    "\n",
    "# List Comprehension\n",
    "lengths = [len(fruit) for fruit in fruits]\n",
    "print(\"\\nList comprehension (lengths): \", lengths)  # Output: [6, 5, 6, 6, 7]\n",
    "\n",
    "# Sort Lists\n",
    "fruits.sort()\n",
    "print(\"\\nSorted list (ascending): \", fruits)  # Output: ['apple', 'banana', 'cherry', 'grapes', 'mangoes']\n",
    "\n",
    "fruits.sort(reverse=True)\n",
    "print(\"Sorted list (descending): \", fruits)  # Output: ['mangoes', 'grapes', 'cherry', 'banana', 'apple']\n",
    "\n",
    "# Copy Lists\n",
    "fruits_copy = fruits.copy()\n",
    "print(\"\\nCopied list: \", fruits_copy)  # Output: ['mangoes', 'grapes', 'cherry', 'banana', 'apple']\n",
    "\n",
    "# Join Lists\n",
    "fruits_extra = ['elderberry', 'fig', 'grapefruit']\n",
    "joined_list = fruits + fruits_extra\n",
    "print(\"\\nJoined list: \", joined_list)  # Output: ['mangoes', 'grapes', 'cherry', 'banana', 'apple', 'elderberry', 'fig', 'grapefruit']\n",
    "\n",
    "# List Methods\n",
    "print(\"\\nList methods:\")\n",
    "fruits.append('honeydew')\n",
    "print(\"After append: \", fruits)  # Output: ['mangoes', 'grapes', 'cherry', 'banana', 'apple', 'honeydew']\n",
    "\n",
    "fruits.remove('banana')\n",
    "print(\"After remove: \", fruits)  # Output: ['mangoes', 'grapes', 'cherry', 'apple', 'honeydew']\n",
    "\n",
    "index = fruits.index('cherry')\n",
    "print(\"Index of 'cherry': \", index)  # Output: 2\n",
    "\n",
    "count = fruits.count('apple')\n",
    "print(\"Count of 'apple': \", count)  # Output: 1\n",
    "\n",
    "fruits.pop(2)\n",
    "print(\"After pop at index 2: \", fruits)  # Output: ['mangoes', 'grapes', 'apple', 'honeydew']\n",
    "\n",
    "fruits.clear()\n",
    "print(\"After clear: \", fruits)  # Output: []\n"
   ]
  },
  {
   "cell_type": "markdown",
   "metadata": {},
   "source": [
    "# Tuples"
   ]
  },
  {
   "cell_type": "code",
   "execution_count": 13,
   "metadata": {},
   "outputs": [
    {
     "name": "stdout",
     "output_type": "stream",
     "text": [
      "Original tuple:  ('grapes', 'apple', 'banana', 'cherry', 'mangoes')\n",
      "\n",
      "Accessing elements in tuple:\n",
      "First fruit:  grapes\n",
      "Last fruit:  mangoes\n",
      "\n",
      "Updating tuples:\n",
      "After updating tuple:  ('grapes', 'kiwi', 'banana', 'cherry', 'mangoes')\n",
      "\n",
      "Unpacking tuples:\n",
      "Fruit1:  grapes\n",
      "Fruit2:  kiwi\n",
      "Fruit3:  banana\n",
      "Fruit4:  cherry\n",
      "Fruit5:  mangoes\n"
     ]
    }
   ],
   "source": [
    "# Access Tuples\n",
    "fruits_tuple = ('grapes', 'apple', 'banana', 'cherry', 'mangoes')\n",
    "print(\"Original tuple: \", fruits_tuple)\n",
    "\n",
    "print(\"\\nAccessing elements in tuple:\")\n",
    "print(\"First fruit: \", fruits_tuple[0])  # Output: 'grapes'\n",
    "print(\"Last fruit: \", fruits_tuple[-1])  # Output: 'mangoes'\n",
    "\n",
    "# Update Tuples\n",
    "# Tuples are immutable, so we can't directly change an element of a tuple. \n",
    "# But we can concatenate tuples or convert them to lists, modify them, and then convert back to tuples.\n",
    "print(\"\\nUpdating tuples:\")\n",
    "list_fruits = list(fruits_tuple)  \n",
    "list_fruits[1] = 'kiwi'  # Changing 'apple' to 'kiwi'\n",
    "fruits_tuple = tuple(list_fruits)\n",
    "print(\"After updating tuple: \", fruits_tuple)  # Output: ('grapes', 'kiwi', 'banana', 'cherry', 'mangoes')\n",
    "\n",
    "# Unpack Tuples\n",
    "print(\"\\nUnpacking tuples:\")\n",
    "fruit1, fruit2, fruit3, fruit4, fruit5 = fruits_tuple\n",
    "print(\"Fruit1: \", fruit1)  # Output: 'grapes'\n",
    "print(\"Fruit2: \", fruit2)  # Output: 'kiwi'\n",
    "print(\"Fruit3: \", fruit3)  # Output: 'banana'\n",
    "print(\"Fruit4: \", fruit4)  # Output: 'cherry'\n",
    "print(\"Fruit5: \", fruit5)  # Output: 'mangoes'\n"
   ]
  },
  {
   "cell_type": "code",
   "execution_count": 14,
   "metadata": {},
   "outputs": [
    {
     "name": "stdout",
     "output_type": "stream",
     "text": [
      "Original tuple:  ('grapes', 'kiwi', 'banana', 'cherry', 'mangoes')\n",
      "\n",
      "Looping through tuple:\n",
      "grapes\n",
      "kiwi\n",
      "banana\n",
      "cherry\n",
      "mangoes\n",
      "\n",
      "Joining tuples:\n",
      "Joined tuple:  ('grapes', 'kiwi', 'banana', 'cherry', 'mangoes', 'orange', 'peach')\n",
      "\n",
      "Tuple methods:\n",
      "Count of 'kiwi':  1\n",
      "Index of 'cherry':  3\n"
     ]
    }
   ],
   "source": [
    "# Original Tuple\n",
    "fruits_tuple = ('grapes', 'kiwi', 'banana', 'cherry', 'mangoes')\n",
    "print(\"Original tuple: \", fruits_tuple)\n",
    "\n",
    "# Loop Tuples\n",
    "print(\"\\nLooping through tuple:\")\n",
    "for fruit in fruits_tuple:\n",
    "    print(fruit)\n",
    "\n",
    "# Join Tuples\n",
    "print(\"\\nJoining tuples:\")\n",
    "more_fruits = ('orange', 'peach')\n",
    "joined_tuple = fruits_tuple + more_fruits\n",
    "print(\"Joined tuple: \", joined_tuple)  # Output: ('grapes', 'kiwi', 'banana', 'cherry', 'mangoes', 'orange', 'peach')\n",
    "\n",
    "# Tuple Methods\n",
    "print(\"\\nTuple methods:\")\n",
    "count = fruits_tuple.count('kiwi')\n",
    "print(\"Count of 'kiwi': \", count)  # Output: 1\n",
    "\n",
    "index = fruits_tuple.index('cherry')\n",
    "print(\"Index of 'cherry': \", index)  # Output: 3\n"
   ]
  },
  {
   "cell_type": "code",
   "execution_count": 15,
   "metadata": {},
   "outputs": [
    {
     "name": "stdout",
     "output_type": "stream",
     "text": [
      "Original tuple:  ('grapes', 'kiwi', 'banana', 'cherry', 'mangoes', 'kiwi')\n",
      "\n",
      "Tuple methods:\n",
      "Count of 'kiwi':  2\n",
      "Index of 'cherry':  3\n"
     ]
    }
   ],
   "source": [
    "# Original Tuple\n",
    "fruits_tuple = ('grapes', 'kiwi', 'banana', 'cherry', 'mangoes', 'kiwi')\n",
    "print(\"Original tuple: \", fruits_tuple)\n",
    "\n",
    "# Tuple Methods\n",
    "print(\"\\nTuple methods:\")\n",
    "\n",
    "# count()\n",
    "count_kiwi = fruits_tuple.count('kiwi')\n",
    "print(\"Count of 'kiwi': \", count_kiwi)  # Output: 2\n",
    "\n",
    "# index()\n",
    "index_cherry = fruits_tuple.index('cherry')\n",
    "print(\"Index of 'cherry': \", index_cherry)  # Output: 3\n"
   ]
  },
  {
   "cell_type": "markdown",
   "metadata": {},
   "source": [
    "# Dictionaries"
   ]
  },
  {
   "cell_type": "code",
   "execution_count": 17,
   "metadata": {},
   "outputs": [
    {
     "name": "stdout",
     "output_type": "stream",
     "text": [
      "Original dictionary:  {'grapes': 5, 'kiwi': 2, 'banana': 6, 'cherry': 8, 'mangoes': 7}\n",
      "\n",
      "Accessing dictionary items:\n",
      "Value of 'banana':  6\n",
      "\n",
      "Changing dictionary items:\n",
      "Updated dictionary:  {'grapes': 5, 'kiwi': 2, 'banana': 10, 'cherry': 8, 'mangoes': 7}\n",
      "\n",
      "Adding items to dictionary:\n",
      "Updated dictionary:  {'grapes': 5, 'kiwi': 2, 'banana': 10, 'cherry': 8, 'mangoes': 7, 'apple': 4}\n",
      "\n",
      "Removing items from dictionary:\n",
      "Updated dictionary:  {'grapes': 5, 'banana': 10, 'cherry': 8, 'mangoes': 7, 'apple': 4}\n",
      "\n",
      "Looping through a dictionary:\n",
      "grapes 5\n",
      "banana 10\n",
      "cherry 8\n",
      "mangoes 7\n",
      "apple 4\n",
      "\n",
      "Dictionary comprehension:\n",
      "New dictionary (prices):  {'grapes': 10, 'banana': 20, 'cherry': 16, 'mangoes': 14, 'apple': 8}\n",
      "\n",
      "Copying a dictionary:\n",
      "Copied dictionary:  {'grapes': 5, 'banana': 10, 'cherry': 8, 'mangoes': 7, 'apple': 4}\n",
      "\n",
      "Merging dictionaries:\n",
      "Updated dictionary:  {'grapes': 5, 'banana': 10, 'cherry': 8, 'mangoes': 7, 'apple': 4, 'peach': 3, 'orange': 4}\n",
      "\n",
      "Dictionary methods:\n",
      "Keys:  dict_keys(['grapes', 'banana', 'cherry', 'mangoes', 'apple', 'peach', 'orange'])\n",
      "Values:  dict_values([5, 10, 8, 7, 4, 3, 4])\n",
      "Items:  dict_items([('grapes', 5), ('banana', 10), ('cherry', 8), ('mangoes', 7), ('apple', 4), ('peach', 3), ('orange', 4)])\n"
     ]
    }
   ],
   "source": [
    "# Original dictionary\n",
    "fruits_dict = {'grapes': 5, 'kiwi': 2, 'banana': 6, 'cherry': 8, 'mangoes': 7}\n",
    "print(\"Original dictionary: \", fruits_dict)\n",
    "\n",
    "# Accessing dictionary items\n",
    "print(\"\\nAccessing dictionary items:\")\n",
    "print(\"Value of 'banana': \", fruits_dict['banana'])  # Output: 6\n",
    "\n",
    "# Change dictionary items\n",
    "print(\"\\nChanging dictionary items:\")\n",
    "fruits_dict['banana'] = 10\n",
    "print(\"Updated dictionary: \", fruits_dict)  # Output: {'grapes': 5, 'kiwi': 2, 'banana': 10, 'cherry': 8, 'mangoes': 7}\n",
    "\n",
    "# Adding items to dictionary\n",
    "print(\"\\nAdding items to dictionary:\")\n",
    "fruits_dict['apple'] = 4\n",
    "print(\"Updated dictionary: \", fruits_dict)  # Output: {'grapes': 5, 'kiwi': 2, 'banana': 10, 'cherry': 8, 'mangoes': 7, 'apple': 4}\n",
    "\n",
    "# Removing items from dictionary\n",
    "print(\"\\nRemoving items from dictionary:\")\n",
    "fruits_dict.pop('kiwi')\n",
    "print(\"Updated dictionary: \", fruits_dict)  # Output: {'grapes': 5, 'banana': 10, 'cherry': 8, 'mangoes': 7, 'apple': 4}\n",
    "\n",
    "# Looping through a dictionary\n",
    "print(\"\\nLooping through a dictionary:\")\n",
    "for key, value in fruits_dict.items():\n",
    "    print(key, value)\n",
    "\n",
    "# Dictionary comprehension\n",
    "print(\"\\nDictionary comprehension:\")\n",
    "prices = {key: value * 2 for key, value in fruits_dict.items()}\n",
    "print(\"New dictionary (prices): \", prices)  # Output: {'grapes': 10, 'banana': 20, 'cherry': 16, 'mangoes': 14, 'apple': 8}\n",
    "\n",
    "# Copying a dictionary\n",
    "print(\"\\nCopying a dictionary:\")\n",
    "fruits_copy = fruits_dict.copy()\n",
    "print(\"Copied dictionary: \", fruits_copy)  # Output: {'grapes': 5, 'banana': 10, 'cherry': 8, 'mangoes': 7, 'apple': 4}\n",
    "\n",
    "# Merging dictionaries\n",
    "print(\"\\nMerging dictionaries:\")\n",
    "extra_fruits = {'peach': 3, 'orange': 4}\n",
    "fruits_dict.update(extra_fruits)\n",
    "print(\"Updated dictionary: \", fruits_dict)  # Output: {'grapes': 5, 'banana': 10, 'cherry': 8, 'mangoes': 7, 'apple': 4, 'peach': 3, 'orange': 4}\n",
    "\n",
    "# Dictionary methods\n",
    "print(\"\\nDictionary methods:\")\n",
    "keys = fruits_dict.keys()\n",
    "print(\"Keys: \", keys)  # Output: dict_keys(['grapes', 'banana', 'cherry', 'mangoes', 'apple', 'peach', 'orange'])\n",
    "\n",
    "values = fruits_dict.values()\n",
    "print(\"Values: \", values)  # Output: dict_values([5, 10, 8, 7, 4, 3, 4])\n",
    "\n",
    "items = fruits_dict.items()\n",
    "print(\"Items: \", items)  # Output: dict_items([('grapes', 5), ('banana', 10), ('cherry', 8), ('mangoes', 7), ('apple', 4), ('peach', 3), ('orange', 4)])\n"
   ]
  },
  {
   "cell_type": "markdown",
   "metadata": {},
   "source": [
    "# Sets\n"
   ]
  },
  {
   "cell_type": "code",
   "execution_count": 18,
   "metadata": {},
   "outputs": [
    {
     "name": "stdout",
     "output_type": "stream",
     "text": [
      "Original set:  {'grapes', 'kiwi', 'mangoes', 'cherry', 'banana'}\n",
      "\n",
      "Accessing set items (as a list):\n",
      "First item:  grapes\n",
      "\n",
      "Adding items to set:\n",
      "Updated set:  {'grapes', 'apple', 'kiwi', 'mangoes', 'cherry', 'banana'}\n",
      "\n",
      "Removing items from set:\n",
      "Updated set:  {'grapes', 'apple', 'mangoes', 'cherry', 'banana'}\n",
      "\n",
      "Looping through a set:\n",
      "grapes\n",
      "apple\n",
      "mangoes\n",
      "cherry\n",
      "banana\n",
      "\n",
      "Set comprehension:\n",
      "New set (lengths):  {5, 6, 7}\n",
      "\n",
      "Copying a set:\n",
      "Copied set:  {'grapes', 'apple', 'cherry', 'banana', 'mangoes'}\n",
      "\n",
      "Joining sets:\n",
      "Joined set:  {'grapes', 'apple', 'cherry', 'orange', 'peach', 'banana', 'mangoes'}\n",
      "\n",
      "Set methods:\n",
      "After add:  {'grapes', 'apple', 'pear', 'mangoes', 'cherry', 'banana'}\n",
      "After remove:  {'grapes', 'pear', 'mangoes', 'cherry', 'banana'}\n"
     ]
    }
   ],
   "source": [
    "# Original set\n",
    "fruits_set = {'grapes', 'kiwi', 'banana', 'cherry', 'mangoes'}\n",
    "print(\"Original set: \", fruits_set)\n",
    "\n",
    "# Access set items\n",
    "# We cannot access individual items in a set directly as sets are unordered, \n",
    "# but we can loop through the set or convert it to a list/tuple and access them.\n",
    "print(\"\\nAccessing set items (as a list):\")\n",
    "fruits_list = list(fruits_set)\n",
    "print(\"First item: \", fruits_list[0])\n",
    "\n",
    "# Add set items\n",
    "print(\"\\nAdding items to set:\")\n",
    "fruits_set.add('apple')\n",
    "print(\"Updated set: \", fruits_set)\n",
    "\n",
    "# Remove set items\n",
    "print(\"\\nRemoving items from set:\")\n",
    "fruits_set.remove('kiwi')\n",
    "print(\"Updated set: \", fruits_set)\n",
    "\n",
    "# Looping through a set\n",
    "print(\"\\nLooping through a set:\")\n",
    "for fruit in fruits_set:\n",
    "    print(fruit)\n",
    "\n",
    "# Set comprehension\n",
    "print(\"\\nSet comprehension:\")\n",
    "lengths = {len(fruit) for fruit in fruits_set}\n",
    "print(\"New set (lengths): \", lengths)\n",
    "\n",
    "# Copying a set\n",
    "print(\"\\nCopying a set:\")\n",
    "fruits_copy = fruits_set.copy()\n",
    "print(\"Copied set: \", fruits_copy)\n",
    "\n",
    "# Join sets\n",
    "print(\"\\nJoining sets:\")\n",
    "more_fruits = {'orange', 'peach'}\n",
    "all_fruits = fruits_set.union(more_fruits)\n",
    "print(\"Joined set: \", all_fruits)\n",
    "\n",
    "# Set methods\n",
    "print(\"\\nSet methods:\")\n",
    "fruits_set.add('pear')\n",
    "print(\"After add: \", fruits_set)\n",
    "fruits_set.remove('apple')\n",
    "print(\"After remove: \", fruits_set)\n"
   ]
  },
  {
   "cell_type": "markdown",
   "metadata": {},
   "source": [
    "# User Defined Functions in Python\n",
    "\n",
    "<p>Functions</p>\n",
    "<ul>\n",
    "    <li>Built-in Functions</li>\n",
    "    <li>User Defined Functions</li>\n",
    "</ul>\n",
    "\n",
    "<p><strong>User Defined Functions</strong> is a block of reusable code that performs a specific task. You define a function using the def keyword, followed by the function name, parentheses (), and a colon :. Inside the parentheses, you can specify any parameters your function will take. The function&apos;s code block is indented under the function definition.</p>"
   ]
  },
  {
   "cell_type": "code",
   "execution_count": 22,
   "metadata": {},
   "outputs": [
    {
     "name": "stdout",
     "output_type": "stream",
     "text": [
      "Hello, World!\n"
     ]
    }
   ],
   "source": [
    "def greet():\n",
    "    print(\"Hello, World!\")\n",
    "\n",
    "# Calling the function\n",
    "greet()  # Output: Hello, World!\n"
   ]
  },
  {
   "cell_type": "code",
   "execution_count": 23,
   "metadata": {},
   "outputs": [
    {
     "name": "stdout",
     "output_type": "stream",
     "text": [
      "Hello, Alice!\n"
     ]
    }
   ],
   "source": [
    "# Here's a slightly more complex example, where the function takes a parameter:\n",
    "\n",
    "def greet(name):\n",
    "    print(\"Hello, \" + name + \"!\")\n",
    "\n",
    "# Calling the function\n",
    "greet(\"Alice\")  # Output: Hello, Alice!\n"
   ]
  },
  {
   "cell_type": "code",
   "execution_count": 24,
   "metadata": {},
   "outputs": [
    {
     "name": "stdout",
     "output_type": "stream",
     "text": [
      "8\n"
     ]
    }
   ],
   "source": [
    "def add_numbers(num1, num2):\n",
    "    return num1 + num2\n",
    "\n",
    "# Calling the function\n",
    "result = add_numbers(3, 5)\n",
    "print(result)  # Output: 8\n"
   ]
  },
  {
   "cell_type": "code",
   "execution_count": null,
   "metadata": {},
   "outputs": [],
   "source": []
  }
 ],
 "metadata": {
  "kernelspec": {
   "display_name": "Python 3",
   "language": "python",
   "name": "python3"
  },
  "language_info": {
   "codemirror_mode": {
    "name": "ipython",
    "version": 3
   },
   "file_extension": ".py",
   "mimetype": "text/x-python",
   "name": "python",
   "nbconvert_exporter": "python",
   "pygments_lexer": "ipython3",
   "version": "3.8.5"
  }
 },
 "nbformat": 4,
 "nbformat_minor": 4
}
