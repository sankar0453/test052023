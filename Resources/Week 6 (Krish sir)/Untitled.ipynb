{
 "cells": [
  {
   "cell_type": "markdown",
   "metadata": {},
   "source": [
    "## Classes And OOPS"
   ]
  },
  {
   "cell_type": "code",
   "execution_count": 1,
   "metadata": {},
   "outputs": [],
   "source": [
    "## Empty class\n",
    "class Person:\n",
    "    pass"
   ]
  },
  {
   "cell_type": "code",
   "execution_count": 179,
   "metadata": {},
   "outputs": [],
   "source": [
    "a=[1,2,3,4]"
   ]
  },
  {
   "cell_type": "code",
   "execution_count": 181,
   "metadata": {},
   "outputs": [
    {
     "data": {
      "text/plain": [
       "['__add__',\n",
       " '__class__',\n",
       " '__contains__',\n",
       " '__delattr__',\n",
       " '__delitem__',\n",
       " '__dir__',\n",
       " '__doc__',\n",
       " '__eq__',\n",
       " '__format__',\n",
       " '__ge__',\n",
       " '__getattribute__',\n",
       " '__getitem__',\n",
       " '__gt__',\n",
       " '__hash__',\n",
       " '__iadd__',\n",
       " '__imul__',\n",
       " '__init__',\n",
       " '__init_subclass__',\n",
       " '__iter__',\n",
       " '__le__',\n",
       " '__len__',\n",
       " '__lt__',\n",
       " '__mul__',\n",
       " '__ne__',\n",
       " '__new__',\n",
       " '__reduce__',\n",
       " '__reduce_ex__',\n",
       " '__repr__',\n",
       " '__reversed__',\n",
       " '__rmul__',\n",
       " '__setattr__',\n",
       " '__setitem__',\n",
       " '__sizeof__',\n",
       " '__str__',\n",
       " '__subclasshook__',\n",
       " 'append',\n",
       " 'clear',\n",
       " 'copy',\n",
       " 'count',\n",
       " 'extend',\n",
       " 'index',\n",
       " 'insert',\n",
       " 'pop',\n",
       " 'remove',\n",
       " 'reverse',\n",
       " 'sort']"
      ]
     },
     "execution_count": 181,
     "metadata": {},
     "output_type": "execute_result"
    }
   ],
   "source": [
    "dir(a)"
   ]
  },
  {
   "cell_type": "code",
   "execution_count": 180,
   "metadata": {},
   "outputs": [
    {
     "name": "stdout",
     "output_type": "stream",
     "text": [
      "[1, 2, 3, 4]\n"
     ]
    }
   ],
   "source": [
    "print(a)"
   ]
  },
  {
   "cell_type": "code",
   "execution_count": 9,
   "metadata": {},
   "outputs": [],
   "source": [
    "a=list()"
   ]
  },
  {
   "cell_type": "code",
   "execution_count": 11,
   "metadata": {},
   "outputs": [
    {
     "data": {
      "text/plain": [
       "list"
      ]
     },
     "execution_count": 11,
     "metadata": {},
     "output_type": "execute_result"
    }
   ],
   "source": [
    "type(a)"
   ]
  },
  {
   "cell_type": "code",
   "execution_count": 5,
   "metadata": {},
   "outputs": [],
   "source": [
    "#perosn1 iss  an object or instance\n",
    "person1=Person()"
   ]
  },
  {
   "cell_type": "code",
   "execution_count": 8,
   "metadata": {},
   "outputs": [
    {
     "name": "stdout",
     "output_type": "stream",
     "text": [
      "<__main__.Person object at 0x0000018899887250>\n"
     ]
    }
   ],
   "source": [
    "print(person1)"
   ]
  },
  {
   "cell_type": "code",
   "execution_count": 12,
   "metadata": {},
   "outputs": [],
   "source": [
    "person1.name=\"KRish\""
   ]
  },
  {
   "cell_type": "code",
   "execution_count": 13,
   "metadata": {},
   "outputs": [
    {
     "name": "stdout",
     "output_type": "stream",
     "text": [
      "KRish\n"
     ]
    }
   ],
   "source": [
    "print(person1.name)"
   ]
  },
  {
   "cell_type": "code",
   "execution_count": 15,
   "metadata": {},
   "outputs": [],
   "source": [
    "person1.lastname=\"Naik\""
   ]
  },
  {
   "cell_type": "code",
   "execution_count": null,
   "metadata": {},
   "outputs": [],
   "source": [
    "person1=Person()"
   ]
  },
  {
   "cell_type": "code",
   "execution_count": 16,
   "metadata": {},
   "outputs": [
    {
     "data": {
      "text/plain": [
       "['__class__',\n",
       " '__delattr__',\n",
       " '__dict__',\n",
       " '__dir__',\n",
       " '__doc__',\n",
       " '__eq__',\n",
       " '__format__',\n",
       " '__ge__',\n",
       " '__getattribute__',\n",
       " '__gt__',\n",
       " '__hash__',\n",
       " '__init__',\n",
       " '__init_subclass__',\n",
       " '__le__',\n",
       " '__lt__',\n",
       " '__module__',\n",
       " '__ne__',\n",
       " '__new__',\n",
       " '__reduce__',\n",
       " '__reduce_ex__',\n",
       " '__repr__',\n",
       " '__setattr__',\n",
       " '__sizeof__',\n",
       " '__str__',\n",
       " '__subclasshook__',\n",
       " '__weakref__',\n",
       " 'lastname',\n",
       " 'name']"
      ]
     },
     "execution_count": 16,
     "metadata": {},
     "output_type": "execute_result"
    }
   ],
   "source": [
    "dir(person1)"
   ]
  },
  {
   "cell_type": "code",
   "execution_count": 17,
   "metadata": {},
   "outputs": [],
   "source": [
    "class Person:\n",
    "    def __init__(self,name1,last_name1):\n",
    "        self.name=name1\n",
    "        self.last_name=last_name1\n",
    "        \n",
    "        \n",
    "    "
   ]
  },
  {
   "cell_type": "code",
   "execution_count": 19,
   "metadata": {},
   "outputs": [],
   "source": [
    "person=Person(\"Krish\",\"Naik\")"
   ]
  },
  {
   "cell_type": "code",
   "execution_count": 20,
   "metadata": {},
   "outputs": [
    {
     "name": "stdout",
     "output_type": "stream",
     "text": [
      "Krish\n"
     ]
    }
   ],
   "source": [
    "print(person.name)"
   ]
  },
  {
   "cell_type": "code",
   "execution_count": 21,
   "metadata": {},
   "outputs": [],
   "source": [
    "person2=Person(\"Shreyas\",\"Nair\")"
   ]
  },
  {
   "cell_type": "code",
   "execution_count": 22,
   "metadata": {},
   "outputs": [
    {
     "data": {
      "text/plain": [
       "'Shreyas'"
      ]
     },
     "execution_count": 22,
     "metadata": {},
     "output_type": "execute_result"
    }
   ],
   "source": [
    "person2.name"
   ]
  },
  {
   "cell_type": "code",
   "execution_count": 25,
   "metadata": {},
   "outputs": [
    {
     "data": {
      "text/plain": [
       "<__main__.Person at 0x18899974760>"
      ]
     },
     "execution_count": 25,
     "metadata": {},
     "output_type": "execute_result"
    }
   ],
   "source": [
    "person2"
   ]
  },
  {
   "cell_type": "code",
   "execution_count": 24,
   "metadata": {},
   "outputs": [
    {
     "data": {
      "text/plain": [
       "'Nair'"
      ]
     },
     "execution_count": 24,
     "metadata": {},
     "output_type": "execute_result"
    }
   ],
   "source": [
    "person2.last_name"
   ]
  },
  {
   "cell_type": "code",
   "execution_count": 31,
   "metadata": {},
   "outputs": [],
   "source": [
    "class Person:\n",
    "    def __init__(self,name1,last_name1):\n",
    "        self.name=name1\n",
    "        self.last_name=last_name1\n",
    "    def __str__(self):\n",
    "        return f\"The name is {self.name} and last name is {self.last_name}\"\n"
   ]
  },
  {
   "cell_type": "code",
   "execution_count": 32,
   "metadata": {},
   "outputs": [
    {
     "name": "stdout",
     "output_type": "stream",
     "text": [
      "The name is Krish and last name is NAik\n"
     ]
    }
   ],
   "source": [
    "person1=Person(\"Krish\",\"NAik\")\n",
    "print(person1)"
   ]
  },
  {
   "cell_type": "code",
   "execution_count": 33,
   "metadata": {},
   "outputs": [
    {
     "data": {
      "text/plain": [
       "'Hello how are you Krish'"
      ]
     },
     "execution_count": 33,
     "metadata": {},
     "output_type": "execute_result"
    }
   ],
   "source": [
    "\"Hello how are you {}\".format(\"Krish\")"
   ]
  },
  {
   "cell_type": "code",
   "execution_count": null,
   "metadata": {},
   "outputs": [],
   "source": [
    "## Bank account class and add infor like account number,account hoilde rname and balance "
   ]
  },
  {
   "cell_type": "code",
   "execution_count": 53,
   "metadata": {},
   "outputs": [],
   "source": [
    "class BankAccount:\n",
    "    def __init__(self,account_number,account_holder,balance=0):\n",
    "        self.account_number=account_number\n",
    "        self.account_holder=account_holder\n",
    "        self.balance=balance\n",
    "        \n",
    "    def deposit(self,deposit):\n",
    "        self.balance=self.balance + deposit\n",
    "        \n",
    "    def withdrawl(self,withdrawl_amt):\n",
    "        if withdrawl_amt <= self.balance:\n",
    "            self.balance=self.balance - withdrawl_amt\n",
    "        else:\n",
    "            print(\"The Balance is less\")\n",
    "        \n",
    "        \n",
    "        "
   ]
  },
  {
   "cell_type": "code",
   "execution_count": 54,
   "metadata": {},
   "outputs": [],
   "source": [
    "account1=BankAccount(\"1234\",\"Krish Naik\",0)"
   ]
  },
  {
   "cell_type": "code",
   "execution_count": 55,
   "metadata": {},
   "outputs": [
    {
     "data": {
      "text/plain": [
       "['__class__',\n",
       " '__delattr__',\n",
       " '__dict__',\n",
       " '__dir__',\n",
       " '__doc__',\n",
       " '__eq__',\n",
       " '__format__',\n",
       " '__ge__',\n",
       " '__getattribute__',\n",
       " '__gt__',\n",
       " '__hash__',\n",
       " '__init__',\n",
       " '__init_subclass__',\n",
       " '__le__',\n",
       " '__lt__',\n",
       " '__module__',\n",
       " '__ne__',\n",
       " '__new__',\n",
       " '__reduce__',\n",
       " '__reduce_ex__',\n",
       " '__repr__',\n",
       " '__setattr__',\n",
       " '__sizeof__',\n",
       " '__str__',\n",
       " '__subclasshook__',\n",
       " '__weakref__',\n",
       " 'account_holder',\n",
       " 'account_number',\n",
       " 'balance',\n",
       " 'deposit',\n",
       " 'withdrawl']"
      ]
     },
     "execution_count": 55,
     "metadata": {},
     "output_type": "execute_result"
    }
   ],
   "source": [
    "dir(account1)"
   ]
  },
  {
   "cell_type": "code",
   "execution_count": 56,
   "metadata": {},
   "outputs": [
    {
     "name": "stdout",
     "output_type": "stream",
     "text": [
      "0\n"
     ]
    }
   ],
   "source": [
    "print(account1.balance)"
   ]
  },
  {
   "cell_type": "code",
   "execution_count": 57,
   "metadata": {},
   "outputs": [],
   "source": [
    "account1.deposit(100)"
   ]
  },
  {
   "cell_type": "code",
   "execution_count": 58,
   "metadata": {},
   "outputs": [
    {
     "name": "stdout",
     "output_type": "stream",
     "text": [
      "100\n"
     ]
    }
   ],
   "source": [
    "print(account1.balance)"
   ]
  },
  {
   "cell_type": "code",
   "execution_count": 61,
   "metadata": {},
   "outputs": [],
   "source": [
    "account1.withdrawl(50)"
   ]
  },
  {
   "cell_type": "code",
   "execution_count": 62,
   "metadata": {},
   "outputs": [
    {
     "name": "stdout",
     "output_type": "stream",
     "text": [
      "50\n"
     ]
    }
   ],
   "source": [
    "print(account1.balance)"
   ]
  },
  {
   "cell_type": "code",
   "execution_count": 63,
   "metadata": {},
   "outputs": [],
   "source": [
    "class BankAccount:\n",
    "    def __init__(self,account_number, account_holder_name, balance=0):\n",
    "        self.account_number=account_number\n",
    "        self.account_holder_name=account_holder_name\n",
    "        self.balance=balance\n",
    "    def deposit(self,amount):\n",
    "        self.balance+=amount\n"
   ]
  },
  {
   "cell_type": "code",
   "execution_count": 66,
   "metadata": {},
   "outputs": [],
   "source": [
    "class BankAccount :\n",
    "    def __init__(self,account_number,account_holder_name,balance = 0):\n",
    "        self.account_number = account_number\n",
    "        self.account_holder_name = account_holder_name\n",
    "        self.balance = balance\n",
    "        \n",
    "    \n",
    "    def deposit (self,amount):\n",
    "        self.balance += amount\n",
    "        \n",
    "    \n",
    "    def withdrawl(self,withdrawl):\n",
    "        self.balance = self.balance - withdrawl\n",
    "        \n",
    "\n",
    "    \n"
   ]
  },
  {
   "cell_type": "code",
   "execution_count": 67,
   "metadata": {},
   "outputs": [
    {
     "name": "stdout",
     "output_type": "stream",
     "text": [
      "0\n"
     ]
    }
   ],
   "source": [
    "account1 = BankAccount(\"1234\",\"Shruti Joshi\",0)\n",
    "print(account1.balance)"
   ]
  },
  {
   "cell_type": "code",
   "execution_count": null,
   "metadata": {},
   "outputs": [],
   "source": [
    "# Bank Account Class\n",
    "class Bank_account:\n",
    "    def __init__(self, account_holdername, balance, account_number, account_type):\n",
    "        self.account_holdername=account_holdername\n",
    "        self.account_number=account_number\n",
    "        self.balance=balance\n",
    "        self.account_type=account_type\n",
    "        \n",
    "    def deposit(self, amount):\n",
    "        self.balance += amount\n",
    "        print(f\"your new balance is {self.balance}\" )\n",
    "    \n",
    "    def widrawal(self, amount):\n",
    "        if amount <= self.balance:\n",
    "            self.balance -= amount\n",
    "            print(f\"Your updated balance is {self.balance}\")\n",
    "        else:\n",
    "            print(\"You do not have sufficient funds\")\n",
    "\n",
    "\n"
   ]
  },
  {
   "cell_type": "code",
   "execution_count": 69,
   "metadata": {},
   "outputs": [],
   "source": [
    "## Class represting a to do list\n",
    "\n",
    "class TodoList:\n",
    "    ## constructor\n",
    "    def __init__(self,owner):\n",
    "        self.owner=owner\n",
    "        self.tasks=[]\n",
    "    \n",
    "    def add_task(self,task):\n",
    "        self.tasks.append(task)\n",
    "        \n",
    "    def complete_task(self,task):\n",
    "        if task in self.tasks:\n",
    "            self.tasks.remove(task)\n",
    "            print(f\"Task '{task}' completed\")\n",
    "        else:\n",
    "            print(\"The task is not found\")\n",
    "            \n",
    "    def display_tasks(self):\n",
    "        print(f\"The todo task of {self.owner}:\")\n",
    "        for task in self.tasks:\n",
    "            print(task)\n",
    "        \n",
    "    "
   ]
  },
  {
   "cell_type": "code",
   "execution_count": 71,
   "metadata": {},
   "outputs": [],
   "source": [
    "krish=TodoList(\"Krissh\")"
   ]
  },
  {
   "cell_type": "code",
   "execution_count": 72,
   "metadata": {},
   "outputs": [
    {
     "data": {
      "text/plain": [
       "[]"
      ]
     },
     "execution_count": 72,
     "metadata": {},
     "output_type": "execute_result"
    }
   ],
   "source": [
    "krish.tasks"
   ]
  },
  {
   "cell_type": "code",
   "execution_count": 73,
   "metadata": {},
   "outputs": [],
   "source": [
    "krish.add_task(\"I have to teach at 9am with real wworld examples\")"
   ]
  },
  {
   "cell_type": "code",
   "execution_count": 74,
   "metadata": {},
   "outputs": [
    {
     "name": "stdout",
     "output_type": "stream",
     "text": [
      "The todo task of Krissh:\n",
      "I have to teach at 9am with real wworld examples\n"
     ]
    }
   ],
   "source": [
    "krish.display_tasks()"
   ]
  },
  {
   "cell_type": "code",
   "execution_count": 75,
   "metadata": {},
   "outputs": [],
   "source": [
    "krish.add_task(\"12pm need to have lunch\")"
   ]
  },
  {
   "cell_type": "code",
   "execution_count": 76,
   "metadata": {},
   "outputs": [
    {
     "name": "stdout",
     "output_type": "stream",
     "text": [
      "The todo task of Krissh:\n",
      "I have to teach at 9am with real wworld examples\n",
      "12pm need to have lunch\n"
     ]
    }
   ],
   "source": [
    "krish.display_tasks()"
   ]
  },
  {
   "cell_type": "code",
   "execution_count": 78,
   "metadata": {},
   "outputs": [
    {
     "name": "stdout",
     "output_type": "stream",
     "text": [
      "Task '12pm need to have lunch' completed\n"
     ]
    }
   ],
   "source": [
    "krish.complete_task(\"12pm need to have lunch\")"
   ]
  },
  {
   "cell_type": "code",
   "execution_count": 79,
   "metadata": {},
   "outputs": [
    {
     "name": "stdout",
     "output_type": "stream",
     "text": [
      "The todo task of Krissh:\n",
      "I have to teach at 9am with real wworld examples\n"
     ]
    }
   ],
   "source": [
    "krish.display_tasks()"
   ]
  },
  {
   "cell_type": "code",
   "execution_count": null,
   "metadata": {},
   "outputs": [],
   "source": [
    "# To-Do List\n",
    "\n",
    "class ToDoList:\n",
    "    # constructor\n",
    "    def __init__(self, owner):\n",
    "        self.owner = owner\n",
    "        self.tasks=[]\n",
    "    def add_task(self,task):\n",
    "        self.tasks.append(task)\n",
    "    def complete_task(self,task):\n",
    "        if task in self.tasks:\n",
    "            self.tasks.remove(task)\n",
    "            print(f\"Task '{task}' Completed\")\n",
    "        else:\n",
    "            print(f\"The task '{task}' not found\") \n",
    "    def display_task(self):\n",
    "        print(f\" The ToDo tasks of {self.owner}:\")\n",
    "        for task in self.tasks:\n",
    "            print(task)\n"
   ]
  },
  {
   "cell_type": "code",
   "execution_count": 107,
   "metadata": {},
   "outputs": [],
   "source": [
    "class BankAccount:\n",
    "    def __init__(self,account_number1,account_holder1,balance1=0):\n",
    "        self.account_number=account_number1\n",
    "        self.account_holder=account_holder1\n",
    "        self.balance=balance1\n",
    "        \n",
    "    def deposit(self,amount):\n",
    "        self.balance+=amount\n",
    "        \n",
    "    def withdraw(self,amount):\n",
    "        if amount<=self.balance:\n",
    "            self.balance-=amount\n",
    "        else:\n",
    "            print(\"Insufficient funds\")"
   ]
  },
  {
   "cell_type": "code",
   "execution_count": 108,
   "metadata": {},
   "outputs": [],
   "source": [
    "person1=BankAccount(1234,\"Krish Naik\")"
   ]
  },
  {
   "cell_type": "code",
   "execution_count": 109,
   "metadata": {},
   "outputs": [
    {
     "data": {
      "text/plain": [
       "0"
      ]
     },
     "execution_count": 109,
     "metadata": {},
     "output_type": "execute_result"
    }
   ],
   "source": [
    "person1.balance"
   ]
  },
  {
   "cell_type": "code",
   "execution_count": 110,
   "metadata": {},
   "outputs": [],
   "source": [
    "person1.deposit(100)"
   ]
  },
  {
   "cell_type": "code",
   "execution_count": 112,
   "metadata": {},
   "outputs": [],
   "source": [
    "person1.withdraw(90)"
   ]
  },
  {
   "cell_type": "code",
   "execution_count": 114,
   "metadata": {},
   "outputs": [
    {
     "data": {
      "text/plain": [
       "10"
      ]
     },
     "execution_count": 114,
     "metadata": {},
     "output_type": "execute_result"
    }
   ],
   "source": [
    "person1.balance"
   ]
  },
  {
   "cell_type": "code",
   "execution_count": 118,
   "metadata": {},
   "outputs": [],
   "source": [
    "class Car:\n",
    "    def __init__(self,brand,model,color):\n",
    "        self.brand=brand\n",
    "        self.model=model\n",
    "        self.color=color\n",
    "    def start_engine(self):\n",
    "        print(f\"The {self.color} {self.brand} {self.model} is starting\")\n",
    "        \n",
    "    def stop_enginer(self):\n",
    "        print(f\"The {self.color} {self.brand} {self.model} is stoppinf\")\n",
    "    "
   ]
  },
  {
   "cell_type": "code",
   "execution_count": 116,
   "metadata": {},
   "outputs": [],
   "source": [
    "car1=Car(\"BMW\",\"EV\",\"Red\")"
   ]
  },
  {
   "cell_type": "code",
   "execution_count": 117,
   "metadata": {},
   "outputs": [
    {
     "data": {
      "text/plain": [
       "'BMW'"
      ]
     },
     "execution_count": 117,
     "metadata": {},
     "output_type": "execute_result"
    }
   ],
   "source": [
    "car1.brand"
   ]
  },
  {
   "cell_type": "code",
   "execution_count": 120,
   "metadata": {},
   "outputs": [],
   "source": [
    "class Mobilephone:\n",
    "    def __init__(self,brand,model,processor,price):\n",
    "        self.brand=brand\n",
    "        self.model=model\n",
    "        self.processor=processor\n",
    "        self.price=price\n",
    "        \n",
    "    def make_calls(self,number):\n",
    "        print(f\"calling {number} with {self.brand} and {self.model}\")\n",
    "        \n",
    "    def send_messages(self,number,message):\n",
    "        print(f\"sending message to {number} : {message}\")\n",
    "    \n",
    "    def end_call(self,number):\n",
    "        print(f\"Call is disconnected with {number}\")\n",
    "\n",
    "    \n"
   ]
  },
  {
   "cell_type": "code",
   "execution_count": 123,
   "metadata": {},
   "outputs": [],
   "source": [
    "samsung=Mobilephone(\"Samsung\",\"Note 3\",\"8 gen 2\",125000)"
   ]
  },
  {
   "cell_type": "code",
   "execution_count": 124,
   "metadata": {},
   "outputs": [
    {
     "name": "stdout",
     "output_type": "stream",
     "text": [
      "calling 9894737282 with Samsung and Note 3\n"
     ]
    }
   ],
   "source": [
    "samsung.make_calls(9894737282)"
   ]
  },
  {
   "cell_type": "code",
   "execution_count": 129,
   "metadata": {},
   "outputs": [],
   "source": [
    "class MobilePhone:\n",
    "    \n",
    "    def __init__(self,brand,model,processor,price):\n",
    "        self.brand = brand\n",
    "        self.model = model\n",
    "        self.processor = processor\n",
    "        self.price = price\n",
    "        \n",
    "    def make_calls(self,number):\n",
    "        print(f\"Calling the number {number}\")\n",
    "        \n",
    "    def play_games(self):\n",
    "        print(\"Gaming begins\")\n",
    "        \n",
    "    def send_messages(self,number):\n",
    "        print(f\"Sending message to {number}\")\n"
   ]
  },
  {
   "cell_type": "code",
   "execution_count": 130,
   "metadata": {},
   "outputs": [
    {
     "data": {
      "text/plain": [
       "<__main__.MobilePhone at 0x1889b9df5b0>"
      ]
     },
     "execution_count": 130,
     "metadata": {},
     "output_type": "execute_result"
    }
   ],
   "source": [
    "MobilePhone(\"Samsung\",\"Note 3\",\"8 gen 2\",125000)"
   ]
  },
  {
   "cell_type": "code",
   "execution_count": 131,
   "metadata": {},
   "outputs": [],
   "source": [
    "class Laptop :\n",
    "    def __init__(self,model,brand):\n",
    "        self.model = model\n",
    "        self.brand = brand\n",
    "        \n",
    "    def power_on(self) :\n",
    "        print(f\"This {self.brand} {self.model} is now switched on\")\n",
    "        \n",
    "    def power_off(self) :\n",
    "        print(f\"This {self.brand} {self.model} is now switched off\")\n",
    "\n"
   ]
  },
  {
   "cell_type": "code",
   "execution_count": 133,
   "metadata": {},
   "outputs": [
    {
     "data": {
      "text/plain": [
       "['__class__',\n",
       " '__delattr__',\n",
       " '__dict__',\n",
       " '__dir__',\n",
       " '__doc__',\n",
       " '__eq__',\n",
       " '__format__',\n",
       " '__ge__',\n",
       " '__getattribute__',\n",
       " '__gt__',\n",
       " '__hash__',\n",
       " '__init__',\n",
       " '__init_subclass__',\n",
       " '__le__',\n",
       " '__lt__',\n",
       " '__module__',\n",
       " '__ne__',\n",
       " '__new__',\n",
       " '__reduce__',\n",
       " '__reduce_ex__',\n",
       " '__repr__',\n",
       " '__setattr__',\n",
       " '__sizeof__',\n",
       " '__str__',\n",
       " '__subclasshook__',\n",
       " '__weakref__',\n",
       " 'brand',\n",
       " 'end_call',\n",
       " 'make_calls',\n",
       " 'model',\n",
       " 'price',\n",
       " 'processor',\n",
       " 'send_messages']"
      ]
     },
     "execution_count": 133,
     "metadata": {},
     "output_type": "execute_result"
    }
   ],
   "source": [
    "dir(samsung)"
   ]
  },
  {
   "cell_type": "code",
   "execution_count": null,
   "metadata": {},
   "outputs": [],
   "source": [
    "## VLC media player\n",
    "## Camera\n",
    "## Games\n",
    "## Dishwasher\n",
    "## Washing machine "
   ]
  },
  {
   "cell_type": "code",
   "execution_count": 145,
   "metadata": {},
   "outputs": [],
   "source": [
    "class ToDo:\n",
    "    def __init__(self,name):\n",
    "        self.name=name\n",
    "        self.list_dict=[]\n",
    "    def add_task(self,task,time):\n",
    "        TT_dic={\"task\":task,\"time\":time}\n",
    "        self.list_dict.append(TT_dic)\n",
    "    def remove_task(self,task):\n",
    "        for i in range(len(self.list_dict)):\n",
    "            print(i)\n",
    "            if task == (self.list_dict[i][\"task\"]):\n",
    "                print(self.list_dict)\n",
    "                self.list_dict.pop(i)\n",
    "        \n",
    "          \n",
    "        \n",
    "\n",
    "    "
   ]
  },
  {
   "cell_type": "code",
   "execution_count": 150,
   "metadata": {},
   "outputs": [],
   "source": [
    "lst=['A','B']"
   ]
  },
  {
   "cell_type": "code",
   "execution_count": null,
   "metadata": {},
   "outputs": [],
   "source": [
    "lst.pop()"
   ]
  },
  {
   "cell_type": "code",
   "execution_count": 146,
   "metadata": {},
   "outputs": [],
   "source": [
    "todo=ToDo(\"Krish\")\n"
   ]
  },
  {
   "cell_type": "code",
   "execution_count": 147,
   "metadata": {},
   "outputs": [],
   "source": [
    "todo.add_task('A','9 am')"
   ]
  },
  {
   "cell_type": "code",
   "execution_count": 148,
   "metadata": {},
   "outputs": [
    {
     "data": {
      "text/plain": [
       "[{'task': 'A', 'time': '9 am'}]"
      ]
     },
     "execution_count": 148,
     "metadata": {},
     "output_type": "execute_result"
    }
   ],
   "source": [
    "todo.list_dict"
   ]
  },
  {
   "cell_type": "code",
   "execution_count": 144,
   "metadata": {},
   "outputs": [
    {
     "name": "stdout",
     "output_type": "stream",
     "text": [
      "{'task': 'A', 'time': '9 am'}\n"
     ]
    }
   ],
   "source": [
    "for i in todo.list_dict:\n",
    "    print(i)\n",
    "    \n",
    "    if 'A'=="
   ]
  },
  {
   "cell_type": "code",
   "execution_count": 149,
   "metadata": {},
   "outputs": [
    {
     "name": "stdout",
     "output_type": "stream",
     "text": [
      "0\n",
      "[{'task': 'A', 'time': '9 am'}]\n"
     ]
    },
    {
     "ename": "ValueError",
     "evalue": "list.remove(x): x not in list",
     "output_type": "error",
     "traceback": [
      "\u001b[1;31m---------------------------------------------------------------------------\u001b[0m",
      "\u001b[1;31mValueError\u001b[0m                                Traceback (most recent call last)",
      "\u001b[1;32m<ipython-input-149-bc23445fd3b8>\u001b[0m in \u001b[0;36m<module>\u001b[1;34m\u001b[0m\n\u001b[1;32m----> 1\u001b[1;33m \u001b[0mtodo\u001b[0m\u001b[1;33m.\u001b[0m\u001b[0mremove_task\u001b[0m\u001b[1;33m(\u001b[0m\u001b[1;34m'A'\u001b[0m\u001b[1;33m)\u001b[0m\u001b[1;33m\u001b[0m\u001b[1;33m\u001b[0m\u001b[0m\n\u001b[0m",
      "\u001b[1;32m<ipython-input-145-ec5c5fb37521>\u001b[0m in \u001b[0;36mremove_task\u001b[1;34m(self, task)\u001b[0m\n\u001b[0;32m     11\u001b[0m             \u001b[1;32mif\u001b[0m \u001b[0mtask\u001b[0m \u001b[1;33m==\u001b[0m \u001b[1;33m(\u001b[0m\u001b[0mself\u001b[0m\u001b[1;33m.\u001b[0m\u001b[0mlist_dict\u001b[0m\u001b[1;33m[\u001b[0m\u001b[0mi\u001b[0m\u001b[1;33m]\u001b[0m\u001b[1;33m[\u001b[0m\u001b[1;34m\"task\"\u001b[0m\u001b[1;33m]\u001b[0m\u001b[1;33m)\u001b[0m\u001b[1;33m:\u001b[0m\u001b[1;33m\u001b[0m\u001b[1;33m\u001b[0m\u001b[0m\n\u001b[0;32m     12\u001b[0m                 \u001b[0mprint\u001b[0m\u001b[1;33m(\u001b[0m\u001b[0mself\u001b[0m\u001b[1;33m.\u001b[0m\u001b[0mlist_dict\u001b[0m\u001b[1;33m)\u001b[0m\u001b[1;33m\u001b[0m\u001b[1;33m\u001b[0m\u001b[0m\n\u001b[1;32m---> 13\u001b[1;33m                 \u001b[0mself\u001b[0m\u001b[1;33m.\u001b[0m\u001b[0mlist_dict\u001b[0m\u001b[1;33m.\u001b[0m\u001b[0mremove\u001b[0m\u001b[1;33m(\u001b[0m\u001b[0mi\u001b[0m\u001b[1;33m)\u001b[0m\u001b[1;33m\u001b[0m\u001b[1;33m\u001b[0m\u001b[0m\n\u001b[0m\u001b[0;32m     14\u001b[0m \u001b[1;33m\u001b[0m\u001b[0m\n\u001b[0;32m     15\u001b[0m \u001b[1;33m\u001b[0m\u001b[0m\n",
      "\u001b[1;31mValueError\u001b[0m: list.remove(x): x not in list"
     ]
    }
   ],
   "source": [
    "todo.remove_task('A')"
   ]
  },
  {
   "cell_type": "code",
   "execution_count": 155,
   "metadata": {},
   "outputs": [],
   "source": [
    "class Mobile_phone:\n",
    "    def __init__(self, brand, model, processor, price):\n",
    "        \n",
    "        self.brand = brand\n",
    "        self.model = model\n",
    "        self.processor = processor\n",
    "        self.price = price\n",
    "    \n",
    "    def make_calls(self, number):\n",
    "        print(f'calling {number} with {self.brand} having {self.model} with {self.processor} of {self.price} is making call')"
   ]
  },
  {
   "cell_type": "code",
   "execution_count": 151,
   "metadata": {},
   "outputs": [],
   "source": [
    "class Mobile_phone:\n",
    "  def __init__(self, brand, model, processor, price):\n",
    "    self.brand = brand\n",
    "    self.model = model\n",
    "    self.processor = processor\n",
    "    self.price = price\n",
    "\n",
    "    def make_calls(self, number):\n",
    "      print(f'calling {number} with {self.brand} having {self.model} with {self.processor} of {self.price} is making call')\n",
    "\n",
    "    def send_msgs(self, number, message):\n",
    "      print(f'sending {message} to {number} with {self.brand} having {self.model} with {self.processor} of {self.price} is making call')\n",
    "\n",
    "    def end_calls(self,number):\n",
    "      print(f'calling {number} with {self.brand} having {self.model} with {self.processor} of {self.price} is ending call')\n"
   ]
  },
  {
   "cell_type": "code",
   "execution_count": 157,
   "metadata": {},
   "outputs": [],
   "source": [
    "mobile = Mobile_phone('Apple','i14','macos', 12000)\n"
   ]
  },
  {
   "cell_type": "code",
   "execution_count": 158,
   "metadata": {},
   "outputs": [
    {
     "data": {
      "text/plain": [
       "'Apple'"
      ]
     },
     "execution_count": 158,
     "metadata": {},
     "output_type": "execute_result"
    }
   ],
   "source": [
    "mobile.brand"
   ]
  },
  {
   "cell_type": "code",
   "execution_count": 159,
   "metadata": {},
   "outputs": [
    {
     "name": "stdout",
     "output_type": "stream",
     "text": [
      "calling 9876543210 with Apple having i14 with macos of 12000 is making call\n"
     ]
    }
   ],
   "source": [
    "mobile.make_calls(9876543210)\n"
   ]
  },
  {
   "cell_type": "code",
   "execution_count": 160,
   "metadata": {},
   "outputs": [],
   "source": [
    "class BankAccount:\n",
    "    def __init__(self,account_number,account_holder,balance=0):\n",
    "        self.account_number=account_number\n",
    "        self.account_holder=account_holder\n",
    "        self.balance=balance\n",
    "        \n",
    "    def deposit(self,amount):\n",
    "        self.balance+=amount\n"
   ]
  },
  {
   "cell_type": "code",
   "execution_count": 161,
   "metadata": {},
   "outputs": [],
   "source": [
    "person1=BankAccount('123','Krish')"
   ]
  },
  {
   "cell_type": "code",
   "execution_count": 163,
   "metadata": {},
   "outputs": [],
   "source": [
    "person1.deposit(100)"
   ]
  },
  {
   "cell_type": "code",
   "execution_count": 167,
   "metadata": {},
   "outputs": [],
   "source": [
    "class MobilePhone:\n",
    "    def __init__(self,brand,model,processor,price):\n",
    "        self.brand=brand\n",
    "        self.model=model\n",
    "        self.processor=processor\n",
    "        self.price=price\n",
    "        \n",
    "    def make_calls(self,number):\n",
    "        print(f\"Calling {number} with {self.brand} and {self.model}\")\n",
    "        \n",
    "    def sending_messages(self,number,message):\n",
    "        print(f\"Sending message to {number} : {message}\")\n",
    "    \n",
    "    def end_call(self,number):\n",
    "        print(f\"Call is disconnected with {number}\")\n"
   ]
  },
  {
   "cell_type": "code",
   "execution_count": 168,
   "metadata": {},
   "outputs": [],
   "source": [
    "mobile = MobilePhone('Apple','i14','macos', 12000)"
   ]
  },
  {
   "cell_type": "code",
   "execution_count": 169,
   "metadata": {},
   "outputs": [
    {
     "name": "stdout",
     "output_type": "stream",
     "text": [
      "Calling 93783643 with Apple and i14\n"
     ]
    }
   ],
   "source": [
    "mobile.make_calls(93783643)"
   ]
  },
  {
   "cell_type": "code",
   "execution_count": 170,
   "metadata": {},
   "outputs": [],
   "source": [
    "# To-Do List\n",
    "\n",
    "class ToDoList:\n",
    "    # constructor\n",
    "    def __init__(self, owner):\n",
    "        self.owner = owner\n",
    "        self.tasks=[]\n",
    "    def add_task(self,task):\n",
    "        self.tasks.append(task)\n",
    "    def complete_task(self,task):\n",
    "        if task in self.tasks:\n",
    "            self.tasks.remove(task)\n",
    "            print(f\"Task '{task}' Completed\")\n",
    "        else:\n",
    "            print(f\"The task '{task}' not found\") \n",
    "    def display_task(self):\n",
    "        print(f\" The ToDo tasks of {self.owner}:\")\n",
    "        for task in self.tasks:\n",
    "            print(task)\n"
   ]
  },
  {
   "cell_type": "code",
   "execution_count": 171,
   "metadata": {},
   "outputs": [],
   "source": [
    "todo=TodoList('Krish')"
   ]
  },
  {
   "cell_type": "code",
   "execution_count": 172,
   "metadata": {},
   "outputs": [],
   "source": [
    "todo.add_task('A')"
   ]
  },
  {
   "cell_type": "code",
   "execution_count": 175,
   "metadata": {},
   "outputs": [
    {
     "name": "stdout",
     "output_type": "stream",
     "text": [
      "The todo task of Krish:\n",
      "A\n"
     ]
    }
   ],
   "source": [
    "todo.display_tasks()"
   ]
  },
  {
   "cell_type": "code",
   "execution_count": 176,
   "metadata": {},
   "outputs": [],
   "source": [
    "class Laptop:\n",
    "    def __init__(self,brand,price):\n",
    "        self.brand=brand\n",
    "        self.price=price\n",
    "    def power_on(self):\n",
    "        print(f\"This {self.brand} is now switched on\")\n",
    "    def power_off(self):\n",
    "        print(f\"This {self.brand} is now switched off\")\n"
   ]
  },
  {
   "cell_type": "code",
   "execution_count": 177,
   "metadata": {},
   "outputs": [],
   "source": [
    "lap=Laptop('lenovo',35000)"
   ]
  },
  {
   "cell_type": "code",
   "execution_count": 178,
   "metadata": {},
   "outputs": [
    {
     "name": "stdout",
     "output_type": "stream",
     "text": [
      "This lenovo is now switched off\n"
     ]
    }
   ],
   "source": [
    "lap.power_off()"
   ]
  },
  {
   "cell_type": "code",
   "execution_count": 187,
   "metadata": {},
   "outputs": [],
   "source": [
    "class BankAccount:\n",
    "    def __init__(self,account_number,account_holder,balance=0):\n",
    "        self.account_number=account_number\n",
    "        self.account_holder=account_holder\n",
    "        self.balance=balance\n",
    "    def deposit(self,amount):\n",
    "        self.balance+=amount\n",
    "    def withdrawl(self, withdrawl_amt):        \n",
    "        if withdrawl_amt <= self.balance:\n",
    "            self.balance=self.balance - withdrawl_amt\n",
    "        else:\n",
    "            print(\"you have less balance\")\n"
   ]
  },
  {
   "cell_type": "code",
   "execution_count": 188,
   "metadata": {},
   "outputs": [],
   "source": [
    "account1 = BankAccount(\"1234\",\"varsha\",0)\n",
    "account1.deposit(110)\n",
    "account1.withdrawl(90)\n"
   ]
  },
  {
   "cell_type": "code",
   "execution_count": 189,
   "metadata": {},
   "outputs": [
    {
     "data": {
      "text/plain": [
       "<__main__.BankAccount at 0x1889bf8a2b0>"
      ]
     },
     "execution_count": 189,
     "metadata": {},
     "output_type": "execute_result"
    }
   ],
   "source": [
    "account1"
   ]
  },
  {
   "cell_type": "code",
   "execution_count": 184,
   "metadata": {},
   "outputs": [],
   "source": [
    "account1.deposit(100)"
   ]
  },
  {
   "cell_type": "code",
   "execution_count": 185,
   "metadata": {},
   "outputs": [],
   "source": [
    "account1.withdrawl(90)"
   ]
  },
  {
   "cell_type": "code",
   "execution_count": 191,
   "metadata": {},
   "outputs": [
    {
     "name": "stdout",
     "output_type": "stream",
     "text": [
      "My task list:\n",
      "\n",
      "11.15-> class\n",
      "11.0-> tea break\n",
      "1.0-> Lunch\n",
      "Task Lunch\n",
      "class\n",
      "Key does not exist\n",
      "tea break\n",
      "Key does not exist\n",
      "Lunch\n"
     ]
    }
   ],
   "source": [
    "class to_dolist:\n",
    "    def __init__(self):\n",
    "        self.task_list={}\n",
    "        \n",
    "    def add_task(self,task,time):\n",
    "        if task not in self.task_list.items():\n",
    "            self.task_list.update({task:time})\n",
    "        else:\n",
    "            self.task_list[key]=task\n",
    "            self.task_list[time]=time\n",
    "    def display(self):\n",
    "        for key,value in self.task_list.items():\n",
    "            print(f\"{value}-> {key}\")\n",
    "    def remove_task(self,task):\n",
    "        print(\"Task\",task)\n",
    "        for key,value in self.task_list.items():\n",
    "            print(key)\n",
    "            if(task==key):\n",
    "              self.task_list.pop(key)\n",
    "              break\n",
    "            else:\n",
    "              print(\"Key does not exist\")\n",
    "            \n",
    "                \n",
    "print(f\"My task list:\\n\")\n",
    "person1=to_dolist()\n",
    "\n",
    "person1.add_task(\"class\",9.00)\n",
    "person1.add_task(\"tea break\",11.00)\n",
    "person1.add_task(\"class\",11.15)\n",
    "person1.add_task(\"Lunch\",1.00)\n",
    "person1.display()\n",
    "person1.remove_task(\"Lunch\")\n"
   ]
  },
  {
   "cell_type": "code",
   "execution_count": 195,
   "metadata": {},
   "outputs": [],
   "source": [
    "class ToDoList:\n",
    "    def __init__(self,owner):\n",
    "        self.owner=owner\n",
    "        self.tasks=[]\n",
    "        \n",
    "    def add_task(self,task):\n",
    "        self.tasks.append(task)\n",
    "        \n",
    "    def complete_task(self,task):\n",
    "        if task in self.tasks:\n",
    "            self.tasks.remove(task)\n",
    "            print(f\"Task '{task}' completed\")\n",
    "        else:\n",
    "            print(\"The task is not found\")\n",
    "            \n",
    "    def display_tasks(self):\n",
    "        print(f\"The todo task of {self.owner}:\")\n",
    "        for task in self.tasks:\n",
    "            print(task)\n"
   ]
  },
  {
   "cell_type": "code",
   "execution_count": 196,
   "metadata": {},
   "outputs": [],
   "source": [
    "Tejaswi=ToDoList(\"Tejasswi\")\n"
   ]
  },
  {
   "cell_type": "code",
   "execution_count": 198,
   "metadata": {},
   "outputs": [
    {
     "data": {
      "text/plain": [
       "[]"
      ]
     },
     "execution_count": 198,
     "metadata": {},
     "output_type": "execute_result"
    }
   ],
   "source": [
    "Tejaswi.tasks"
   ]
  },
  {
   "cell_type": "code",
   "execution_count": null,
   "metadata": {},
   "outputs": [],
   "source": [
    "|"
   ]
  }
 ],
 "metadata": {
  "kernelspec": {
   "display_name": "Python 3",
   "language": "python",
   "name": "python3"
  },
  "language_info": {
   "codemirror_mode": {
    "name": "ipython",
    "version": 3
   },
   "file_extension": ".py",
   "mimetype": "text/x-python",
   "name": "python",
   "nbconvert_exporter": "python",
   "pygments_lexer": "ipython3",
   "version": "3.8.5"
  }
 },
 "nbformat": 4,
 "nbformat_minor": 4
}
