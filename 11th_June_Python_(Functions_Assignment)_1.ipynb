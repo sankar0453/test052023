{
  "nbformat": 4,
  "nbformat_minor": 0,
  "metadata": {
    "colab": {
      "provenance": []
    },
    "kernelspec": {
      "name": "python3",
      "display_name": "Python 3"
    },
    "language_info": {
      "name": "python"
    }
  },
  "cells": [
    {
      "cell_type": "markdown",
      "source": [
        "**11th June - Python (Functions Assignment) - 1**"
      ],
      "metadata": {
        "id": "_2AxCuXuy7ws"
      }
    },
    {
      "cell_type": "markdown",
      "source": [
        "1. What is a lambda function in Python, and how does it differ from a regular function?\n"
      ],
      "metadata": {
        "id": "LIL99XCt8hhH"
      }
    },
    {
      "cell_type": "code",
      "execution_count": null,
      "metadata": {
        "id": "OuVuI-HX75W1"
      },
      "outputs": [],
      "source": [
        "# lambda function is a anynamous function.It is used for Short terms operations.\n",
        "# It does not have any method name but it can have multiple arguments and only one expression.\n",
        "# We can achecive functonality using lambda keyword.\n",
        "# The expression evaluted when it called and return values.\n",
        "# return values implicitly no need to diclare\n",
        "# The difference from regular functions that we dont diclare method name.\n",
        "add=lambda a,b:a+b\n",
        "print(add(3,9))\n"
      ]
    },
    {
      "cell_type": "markdown",
      "source": [
        "2. Can a lambda function in Python have multiple arguments? If yes, how can you define and use\n",
        "them?\n"
      ],
      "metadata": {
        "id": "ZoNJ2rzP79l0"
      }
    },
    {
      "cell_type": "code",
      "source": [
        "# Yes, It can have multiple arguments\n",
        "\n",
        "add=lambda a,b:a+b\n",
        "print(add(3,9))"
      ],
      "metadata": {
        "id": "YqrxvsxL8kSo"
      },
      "execution_count": null,
      "outputs": []
    },
    {
      "cell_type": "markdown",
      "source": [
        "3. How are lambda functions typically used in Python? Provide an example use case.\n"
      ],
      "metadata": {
        "id": "5mbdgt1p8Dhl"
      }
    },
    {
      "cell_type": "code",
      "source": [
        "# Lambda functions are commenly used in scenarios where quick short lived functions required such as in functional programming, filtering data,\n",
        "# mapping values and defining small utilit functions.\n",
        "\n",
        "#Sorting students using lambda\n",
        "students = [(\"Alice\", 22), (\"Bob\", 19), (\"Charlie\", 21), (\"David\", 18)]\n",
        "sorted_students = sorted(students, key=lambda x: x[1])\n",
        "print(sorted_students)"
      ],
      "metadata": {
        "colab": {
          "base_uri": "https://localhost:8080/"
        },
        "id": "i43Am-0p8k30",
        "outputId": "b39869bf-d80c-42c3-ba52-294b0baf9a0a"
      },
      "execution_count": 8,
      "outputs": [
        {
          "output_type": "stream",
          "name": "stdout",
          "text": [
            "[('David', 18), ('Bob', 19), ('Charlie', 21), ('Alice', 22)]\n"
          ]
        }
      ]
    },
    {
      "cell_type": "markdown",
      "source": [
        "4. What are the advantages and limitations of lambda functions compared to regular functions in\n",
        "Python?\n"
      ],
      "metadata": {
        "id": "yvHyv2TZ8Dwr"
      }
    },
    {
      "cell_type": "code",
      "source": [
        "# Advantages:\n",
        "# -lambdas are useful in short lived operation\n",
        "# -useful in single expressio operation\n",
        "# -Lambda functions are anonymous, meaning they don't require a formal name\n",
        "\n",
        "# Disdvantages\n",
        "# -Limited to single expression\n",
        "# -Less readability\n",
        "# -Lack of reusability"
      ],
      "metadata": {
        "id": "QLg8-C1-8lgp"
      },
      "execution_count": null,
      "outputs": []
    },
    {
      "cell_type": "markdown",
      "source": [
        "5. Are lambda functions in Python able to access variables defined outside of their own scope?\n",
        "Explain with an example.\n"
      ],
      "metadata": {
        "id": "chlmKzXC8D9h"
      }
    },
    {
      "cell_type": "code",
      "source": [
        "# Yes, It access variable outside of the scope\n",
        "def outer_function():\n",
        "    x = 10\n",
        "    lambda_func = lambda y: x + y\n",
        "    return lambda_func\n",
        "\n",
        "# Example usage\n",
        "inner_func = outer_function()\n",
        "result = inner_func(5)\n",
        "print(\"Result:\", result)\n"
      ],
      "metadata": {
        "colab": {
          "base_uri": "https://localhost:8080/"
        },
        "id": "HzXsN9m48mBB",
        "outputId": "26c902a3-a7a4-4c44-852c-ffd346cf9e38"
      },
      "execution_count": 36,
      "outputs": [
        {
          "output_type": "stream",
          "name": "stdout",
          "text": [
            "Result: 15\n"
          ]
        }
      ]
    },
    {
      "cell_type": "markdown",
      "source": [
        "6. Write a lambda function to calculate the square of a given number.\n"
      ],
      "metadata": {
        "id": "DRNPVOaH8EBC"
      }
    },
    {
      "cell_type": "code",
      "source": [
        "num_square=lambda x:x*x\n",
        "print(num_square(2))"
      ],
      "metadata": {
        "colab": {
          "base_uri": "https://localhost:8080/"
        },
        "id": "XuBoZRMA8mgw",
        "outputId": "1215fc62-4407-4fd3-8df9-ced3f57712a4"
      },
      "execution_count": 9,
      "outputs": [
        {
          "output_type": "stream",
          "name": "stdout",
          "text": [
            "4\n"
          ]
        }
      ]
    },
    {
      "cell_type": "markdown",
      "source": [
        "7. Create a lambda function to find the maximum value in a list of integers.\n"
      ],
      "metadata": {
        "id": "qyF5EhaQ8EIU"
      }
    },
    {
      "cell_type": "code",
      "source": [
        "lst=[1,2,3,4,5,5,6,7,9]\n",
        "max_num=max(lst, key=lambda x:x)\n",
        "print(max_num)"
      ],
      "metadata": {
        "colab": {
          "base_uri": "https://localhost:8080/"
        },
        "id": "qecnBKYS8neW",
        "outputId": "50c7abfe-96ec-4879-c23b-1f1912c903b0"
      },
      "execution_count": 10,
      "outputs": [
        {
          "output_type": "stream",
          "name": "stdout",
          "text": [
            "9\n"
          ]
        }
      ]
    },
    {
      "cell_type": "markdown",
      "source": [
        "8. Implement a lambda function to filter out all the even numbers from a list of integers.\n"
      ],
      "metadata": {
        "id": "hJNJ64nb8EL1"
      }
    },
    {
      "cell_type": "code",
      "source": [
        "lst=[1,2,3,4,5,5,6,7,9]\n",
        "even_numbers=list(filter(lambda x:x%2==0,lst))\n",
        "print(even_numbers)"
      ],
      "metadata": {
        "colab": {
          "base_uri": "https://localhost:8080/"
        },
        "id": "8BSpoGfk8n7j",
        "outputId": "90fc3140-e99a-4e52-88ee-ecadb3f46276"
      },
      "execution_count": 12,
      "outputs": [
        {
          "output_type": "stream",
          "name": "stdout",
          "text": [
            "[2, 4, 6]\n"
          ]
        }
      ]
    },
    {
      "cell_type": "markdown",
      "source": [
        "9. Write a lambda function to sort a list of strings in ascending order based on the length of each\n",
        "string.\n"
      ],
      "metadata": {
        "id": "Iu0tZfRR8EQL"
      }
    },
    {
      "cell_type": "code",
      "source": [
        "strings = [\"apple\", \"banana\", \"kiwi\", \"orange\", \"pear\"]\n",
        "list_sort=sorted(strings,key =lambda x:len(x))\n",
        "list_sort"
      ],
      "metadata": {
        "colab": {
          "base_uri": "https://localhost:8080/"
        },
        "id": "YJVB1rL_8oYk",
        "outputId": "eeb3d63e-0645-44ac-db7e-d1c30858993f"
      },
      "execution_count": 17,
      "outputs": [
        {
          "output_type": "execute_result",
          "data": {
            "text/plain": [
              "['kiwi', 'pear', 'apple', 'banana', 'orange']"
            ]
          },
          "metadata": {},
          "execution_count": 17
        }
      ]
    },
    {
      "cell_type": "markdown",
      "source": [
        "10. Create a lambda function that takes two lists as input and returns a new list containing the\n",
        "common elements between the two lists.\n"
      ],
      "metadata": {
        "id": "JWJSV21C8ETm"
      }
    },
    {
      "cell_type": "code",
      "source": [
        "list1 = [1, 2, 3, 4, 5]\n",
        "list2 = [4, 5, 6, 7]\n",
        "common_elements=list(filter(lambda x:x in list1, list2))\n",
        "print(common_elements)"
      ],
      "metadata": {
        "colab": {
          "base_uri": "https://localhost:8080/"
        },
        "id": "lDbi5IUR8oqm",
        "outputId": "3f238d3d-639a-4421-f2e6-018ded3ca82b"
      },
      "execution_count": 19,
      "outputs": [
        {
          "output_type": "stream",
          "name": "stdout",
          "text": [
            "[4, 5]\n"
          ]
        }
      ]
    },
    {
      "cell_type": "markdown",
      "source": [
        "11. Write a recursive function to calculate the factorial of a given positive integer.\n"
      ],
      "metadata": {
        "id": "1Z9UtaP18Ech"
      }
    },
    {
      "cell_type": "code",
      "source": [
        "def num_factorial(n):\n",
        "  sum=0\n",
        "  if n == 0:\n",
        "    return 1\n",
        "  else:\n",
        "    return  n*num_factorial(n-1)\n",
        "print(num_factorial(5))\n",
        ""
      ],
      "metadata": {
        "colab": {
          "base_uri": "https://localhost:8080/"
        },
        "id": "km0DhaxE8pvh",
        "outputId": "814a8600-ac1a-482a-c4c4-527105a514a1"
      },
      "execution_count": 25,
      "outputs": [
        {
          "output_type": "stream",
          "name": "stdout",
          "text": [
            "120\n"
          ]
        }
      ]
    },
    {
      "cell_type": "markdown",
      "source": [
        "12. Implement a recursive function to compute the nth Fibonacci number.\n"
      ],
      "metadata": {
        "id": "Q16o3Lq08Ef4"
      }
    },
    {
      "cell_type": "code",
      "source": [
        "def feb_series(n):\n",
        "  if n <= 0:\n",
        "    return []\n",
        "  elif n == 1:\n",
        "    return [0]\n",
        "  elif n == 2:\n",
        "    return [0,1]\n",
        "  else:\n",
        "    fibseries=feb_series(n-1)\n",
        "    fibseries.append(fibseries[-1]+fibseries[-2])\n",
        "    return fibseries\n",
        "print(feb_series(8))\n"
      ],
      "metadata": {
        "colab": {
          "base_uri": "https://localhost:8080/"
        },
        "id": "5WEvwu6L8qEf",
        "outputId": "68d79f0f-0955-4428-ea4d-90b340db4dec"
      },
      "execution_count": 28,
      "outputs": [
        {
          "output_type": "stream",
          "name": "stdout",
          "text": [
            "[0, 1, 1, 2, 3, 5, 8, 13]\n"
          ]
        }
      ]
    },
    {
      "cell_type": "markdown",
      "source": [
        "13. Create a recursive function to find the sum of all the elements in a given list.\n",
        ""
      ],
      "metadata": {
        "id": "Xm9WA1Ql8EjU"
      }
    },
    {
      "cell_type": "code",
      "source": [
        "def sum(lst):\n",
        "  if len(lst)==0:\n",
        "    return 0\n",
        "  return lst[0]+sum(lst[1:])\n",
        "print(sum([1,2,3,4,5]))\n"
      ],
      "metadata": {
        "colab": {
          "base_uri": "https://localhost:8080/"
        },
        "id": "DX1ypy0z8qeN",
        "outputId": "3db50188-258f-456b-c740-3e9611c2abfa"
      },
      "execution_count": 30,
      "outputs": [
        {
          "output_type": "stream",
          "name": "stdout",
          "text": [
            "15\n"
          ]
        }
      ]
    },
    {
      "cell_type": "markdown",
      "source": [
        "14. Write a recursive function to determine whether a given string is a palindrome.\n"
      ],
      "metadata": {
        "id": "y2LP8ID68bdk"
      }
    },
    {
      "cell_type": "code",
      "source": [
        "def is_palindrome(string):\n",
        "    if len(string) <= 1:\n",
        "        return True\n",
        "    elif string[0] == string[-1]:\n",
        "        return is_palindrome(string[1:-1])\n",
        "    else:\n",
        "        return False\n",
        "\n",
        "# Example usage\n",
        "word1 = \"radar\"\n",
        "word2 = \"python\"\n",
        "result1 = is_palindrome(word1)\n",
        "result2 = is_palindrome(word2)\n",
        "print(f\"Is '{word1}' a palindrome? {result1}\")\n",
        "print(f\"Is '{word2}' a palindrome? {result2}\")\n"
      ],
      "metadata": {
        "colab": {
          "base_uri": "https://localhost:8080/"
        },
        "id": "tzbjCmbK8rCN",
        "outputId": "91f9269d-8725-4662-95cf-40b5a8a6dd0c"
      },
      "execution_count": 35,
      "outputs": [
        {
          "output_type": "stream",
          "name": "stdout",
          "text": [
            "Is 'radar' a palindrome? True\n",
            "Is 'python' a palindrome? False\n"
          ]
        }
      ]
    },
    {
      "cell_type": "markdown",
      "source": [
        "15. Implement a recursive function to find the greatest common divisor (GCD) of two positive integers."
      ],
      "metadata": {
        "id": "vDBcgrWG8bhH"
      }
    },
    {
      "cell_type": "code",
      "source": [
        "def gcd(a, b):\n",
        "    if b == 0:\n",
        "        return a\n",
        "    else:\n",
        "        return gcd(b, a % b)\n",
        "print(gcd(36,48))"
      ],
      "metadata": {
        "colab": {
          "base_uri": "https://localhost:8080/"
        },
        "id": "D2a8fZb88rUl",
        "outputId": "77b967df-5763-47d1-d6dc-891582ecbae0"
      },
      "execution_count": 34,
      "outputs": [
        {
          "output_type": "stream",
          "name": "stdout",
          "text": [
            "12\n",
            "0\n"
          ]
        }
      ]
    }
  ]
}