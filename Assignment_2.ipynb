{
 "cells": [
  {
   "cell_type": "markdown",
   "id": "6df554d1",
   "metadata": {},
   "source": [
    "#### 1.What are the two values of the Boolean data type? How do you write them?"
   ]
  },
  {
   "cell_type": "code",
   "execution_count": 2,
   "id": "3ae82cad",
   "metadata": {},
   "outputs": [
    {
     "data": {
      "text/plain": [
       "False"
      ]
     },
     "execution_count": 2,
     "metadata": {},
     "output_type": "execute_result"
    }
   ],
   "source": [
    "True\n",
    "False"
   ]
  },
  {
   "cell_type": "markdown",
   "id": "2a764cea",
   "metadata": {},
   "source": [
    "#### 2. What are the three different types of Boolean operators?"
   ]
  },
  {
   "cell_type": "code",
   "execution_count": null,
   "id": "aeeaccd2",
   "metadata": {},
   "outputs": [],
   "source": [
    "and\n",
    "or \n",
    "not"
   ]
  },
  {
   "cell_type": "markdown",
   "id": "6020371e",
   "metadata": {},
   "source": [
    "#### 3. Make a list of each Boolean operator's truth tables (i.e. every possible combination of Boolean values for the operator and what it evaluate )."
   ]
  },
  {
   "cell_type": "code",
   "execution_count": null,
   "id": "252ae684",
   "metadata": {},
   "outputs": [],
   "source": [
    "1. Logical AND (and):\n",
    "Operand 1\tOperand 2\tResult\n",
    "True\tTrue\tTrue\n",
    "True\tFalse\tFalse\n",
    "False\tTrue\tFalse\n",
    "False\tFalse\tFalse\n",
    "2. Logical OR (or):\n",
    "Operand 1\tOperand 2\tResult\n",
    "True\tTrue\tTrue\n",
    "True\tFalse\tTrue\n",
    "False\tTrue\tTrue\n",
    "False\tFalse\tFalse\n",
    "3. Logical NOT (not):\n",
    "Operand\tResult\n",
    "True\tFalse\n",
    "False\tTrue"
   ]
  },
  {
   "cell_type": "markdown",
   "id": "aa77b1d6",
   "metadata": {},
   "source": [
    "#### 4. What are the values of the following expressions?\n"
   ]
  },
  {
   "cell_type": "code",
   "execution_count": null,
   "id": "899737a5",
   "metadata": {},
   "outputs": [],
   "source": [
    "# (5 > 4) and (3 == 5) #False\n",
    "#not (5 > 4) # False\n",
    "# (5 > 4) or (3 == 5) # True\n",
    "# not ((5 > 4) or (3 == 5)) False\n",
    "# (True and True) and (True == False) False\n",
    "# (not False) or (not True) True"
   ]
  },
  {
   "cell_type": "markdown",
   "id": "3bdd8913",
   "metadata": {},
   "source": [
    "#### 5. What are the six comparison operators?"
   ]
  },
  {
   "cell_type": "markdown",
   "id": "37f901c3",
   "metadata": {},
   "source": [
    ">\n",
    "<\n",
    ">=\n",
    "<=\n",
    "==\n",
    "!=\n"
   ]
  },
  {
   "cell_type": "markdown",
   "id": "99481230",
   "metadata": {},
   "source": [
    "#### 6. How do you tell the difference between the equal to and assignment operators?Describe a condition and when you would use one."
   ]
  },
  {
   "cell_type": "code",
   "execution_count": 14,
   "id": "b9d1ed66",
   "metadata": {},
   "outputs": [
    {
     "name": "stdout",
     "output_type": "stream",
     "text": [
      "a is equal to b\n",
      "You are 18 years old!\n"
     ]
    }
   ],
   "source": [
    "a=5\n",
    "b=5\n",
    "if a == b:\n",
    "    print(\"a is equal to b\")\n",
    "else:\n",
    "    print(\"a is not equal to b\")\n",
    "    \n",
    "age=18\n",
    "if age == :\n",
    "    print(\"You are 18 years old!\")\n",
    "else:\n",
    "    print(\"You are not 18 years old!\")"
   ]
  },
  {
   "cell_type": "markdown",
   "id": "e98e9d7b",
   "metadata": {},
   "source": [
    "#### 7. Identify the three blocks in this code:\n"
   ]
  },
  {
   "cell_type": "code",
   "execution_count": 15,
   "id": "d9dfde47",
   "metadata": {},
   "outputs": [
    {
     "name": "stdout",
     "output_type": "stream",
     "text": [
      "ham\n",
      "spam\n",
      "spam\n"
     ]
    }
   ],
   "source": [
    "spam = 0\n",
    "if spam == 10:\n",
    "    print('eggs') #1st block\n",
    "if spam > 5:\n",
    "    print('bacon')#2nd block\n",
    "else:\n",
    "    print('ham') #3rd block\n",
    "print('spam')\n",
    "print('spam')"
   ]
  },
  {
   "cell_type": "markdown",
   "id": "e2a70d0f",
   "metadata": {},
   "source": [
    "#### 8. Write code that prints Hello if 1 is stored in spam, prints Howdy if 2 is stored in spam, and prints Greetings! if anything else is stored in spam."
   ]
  },
  {
   "cell_type": "code",
   "execution_count": 20,
   "id": "30cd121b",
   "metadata": {},
   "outputs": [
    {
     "name": "stdout",
     "output_type": "stream",
     "text": [
      "Greetings!\n"
     ]
    }
   ],
   "source": [
    "spam=4# assign values here\n",
    "if spam==1 :\n",
    "    print('Hello')\n",
    "elif spam==2 : \n",
    "    print('Howdy')\n",
    "else:\n",
    "    print('Greetings!')"
   ]
  },
  {
   "cell_type": "markdown",
   "id": "fea369e7",
   "metadata": {},
   "source": [
    "#### 9.If your programme is stuck in an endless loop, what keys you’ll press?"
   ]
  },
  {
   "cell_type": "code",
   "execution_count": null,
   "id": "f5ad2ca8",
   "metadata": {},
   "outputs": [],
   "source": [
    "Ctl+c"
   ]
  },
  {
   "cell_type": "markdown",
   "id": "1ce222a1",
   "metadata": {},
   "source": [
    "#### 10. How can you tell the difference between break and continue?"
   ]
  },
  {
   "cell_type": "code",
   "execution_count": 15,
   "id": "36be9722",
   "metadata": {},
   "outputs": [
    {
     "name": "stdout",
     "output_type": "stream",
     "text": [
      "4\n",
      "5\n",
      "6\n",
      "7\n"
     ]
    }
   ],
   "source": [
    "# Here program generates 4, 5, 6, 7 an skips 1,2 ,3 and 8,9,10\n",
    "for i in range(1,11):\n",
    "    if(i<=3):\n",
    "        continue\n",
    "    if(i==8):\n",
    "        break\n",
    "    print(i)\n",
    "    "
   ]
  },
  {
   "cell_type": "markdown",
   "id": "d6b09b6c",
   "metadata": {},
   "source": [
    "#### 11. In a for loop, what is the difference between range(10), range(0, 10), and range(0, 10, 1)?"
   ]
  },
  {
   "cell_type": "code",
   "execution_count": null,
   "id": "adc4efac",
   "metadata": {},
   "outputs": [],
   "source": [
    "# range (10)       gives 0 t0 9 values\n",
    "# range(0, 10)     gives 0 t0 9 values \n",
    "# range(0, 10, 1)  gives 0 t0 9 values\n"
   ]
  },
  {
   "cell_type": "markdown",
   "id": "19fc3575",
   "metadata": {},
   "source": [
    "#### 12. Write a short program that prints the numbers 1 to 10 using a for loop. Then write an equivalent program that prints the numbers 1 to 10 using a while loop."
   ]
  },
  {
   "cell_type": "code",
   "execution_count": 4,
   "id": "5ea1b8d4",
   "metadata": {},
   "outputs": [
    {
     "name": "stdout",
     "output_type": "stream",
     "text": [
      "1\n",
      "2\n",
      "3\n",
      "4\n",
      "5\n",
      "6\n",
      "7\n",
      "8\n",
      "9\n",
      "10\n"
     ]
    }
   ],
   "source": [
    "# for i in range(1,11):\n",
    "#     print(i)\n",
    "    \n",
    "i=0\n",
    "while (i<10):\n",
    "    i+=1\n",
    "    print(i)"
   ]
  },
  {
   "cell_type": "markdown",
   "id": "e6787412",
   "metadata": {},
   "source": [
    "#### 13. If you had a function named bacon() inside a module named spam, how would you call it after importing spam?"
   ]
  },
  {
   "cell_type": "code",
   "execution_count": null,
   "id": "b2e3366f",
   "metadata": {},
   "outputs": [],
   "source": [
    "import spam as sp\n",
    "sp.bacon()"
   ]
  }
 ],
 "metadata": {
  "kernelspec": {
   "display_name": "Python 3 (ipykernel)",
   "language": "python",
   "name": "python3"
  },
  "language_info": {
   "codemirror_mode": {
    "name": "ipython",
    "version": 3
   },
   "file_extension": ".py",
   "mimetype": "text/x-python",
   "name": "python",
   "nbconvert_exporter": "python",
   "pygments_lexer": "ipython3",
   "version": "3.10.9"
  }
 },
 "nbformat": 4,
 "nbformat_minor": 5
}
