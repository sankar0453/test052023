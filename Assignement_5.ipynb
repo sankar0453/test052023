{
 "cells": [
  {
   "cell_type": "markdown",
   "id": "6cc407b9",
   "metadata": {},
   "source": [
    "#### 1. What does an empty dictionary's code look like?"
   ]
  },
  {
   "cell_type": "code",
   "execution_count": 9,
   "id": "7458a653",
   "metadata": {},
   "outputs": [
    {
     "data": {
      "text/plain": [
       "dict"
      ]
     },
     "execution_count": 9,
     "metadata": {},
     "output_type": "execute_result"
    }
   ],
   "source": [
    "my_dict={} \n",
    "\n",
    "type(my_dict)"
   ]
  },
  {
   "cell_type": "markdown",
   "id": "aab9dcda",
   "metadata": {},
   "source": [
    "#### 2. What is the value of a dictionary value with the key 'foo' and the value 42?"
   ]
  },
  {
   "cell_type": "code",
   "execution_count": 10,
   "id": "a76f5500",
   "metadata": {},
   "outputs": [
    {
     "name": "stdout",
     "output_type": "stream",
     "text": [
      "42\n"
     ]
    }
   ],
   "source": [
    "my_dict={'foo':42} \n",
    "value = my_dict['foo']\n",
    "print(value)"
   ]
  },
  {
   "cell_type": "markdown",
   "id": "4738ae74",
   "metadata": {},
   "source": [
    "#### 3. What is the most significant distinction between a dictionary and a list?"
   ]
  },
  {
   "cell_type": "code",
   "execution_count": null,
   "id": "afb8fc77",
   "metadata": {},
   "outputs": [],
   "source": [
    "# Dictionary are store elements with key: values where as list store only values\n",
    "# Dictionary does not allow duplicate values where as list allows\n",
    "# Dictionary is ordered and changable\n"
   ]
  },
  {
   "cell_type": "markdown",
   "id": "5ef6dc82",
   "metadata": {},
   "source": [
    "#### 4. What happens if you try to access spam['foo'] if spam is {'bar': 100}?"
   ]
  },
  {
   "cell_type": "code",
   "execution_count": null,
   "id": "bda0b105",
   "metadata": {},
   "outputs": [],
   "source": [
    "spam = {'bar': 100}\n",
    "print(spam['foo'])   #KeyError: 'foo'\n"
   ]
  },
  {
   "cell_type": "markdown",
   "id": "5fd7e2c4",
   "metadata": {},
   "source": [
    "#### 5. If a dictionary is stored in spam, what is the difference between the expressions 'cat' in spam and 'cat' in spam.keys()?"
   ]
  },
  {
   "cell_type": "code",
   "execution_count": 16,
   "id": "132f32e4",
   "metadata": {},
   "outputs": [
    {
     "name": "stdout",
     "output_type": "stream",
     "text": [
      "True\n",
      "True\n"
     ]
    }
   ],
   "source": [
    "spam = {'cat': 'meow', 'dog': 'woof'}\n",
    "print('cat' in spam) #True\n",
    "\n",
    "spam = {'cat': 'meow', 'dog': 'woof'}\n",
    "print('cat' in spam.keys()) #True"
   ]
  },
  {
   "cell_type": "markdown",
   "id": "abe932e6",
   "metadata": {},
   "source": [
    "#### 6. If a dictionary is stored in spam, what is the difference between the expressions 'cat' in spam and 'cat' in spam.values()?"
   ]
  },
  {
   "cell_type": "code",
   "execution_count": 17,
   "id": "ec432bf2",
   "metadata": {
    "scrolled": true
   },
   "outputs": [
    {
     "name": "stdout",
     "output_type": "stream",
     "text": [
      "True\n",
      "False\n"
     ]
    }
   ],
   "source": [
    "spam = {'cat': 'meow', 'dog': 'woof'}\n",
    "print('cat' in spam) #True\n",
    "\n",
    "spam = {'cat': 'meow', 'dog': 'woof'}\n",
    "print('cat' in spam.values()) #False"
   ]
  },
  {
   "cell_type": "markdown",
   "id": "3f08bd70",
   "metadata": {},
   "source": [
    "#### 7. What is a shortcut for the following code?\n",
    "#### if 'color' not in spam: \n",
    "####       spam['color'] = 'black'"
   ]
  },
  {
   "cell_type": "code",
   "execution_count": null,
   "id": "b26cf34a",
   "metadata": {},
   "outputs": [],
   "source": [
    "if 'color' not in spam: \n",
    "    spam['color'] = 'black'# it adds color': 'black' to dictionary\n",
    "   "
   ]
  },
  {
   "cell_type": "markdown",
   "id": "70be582e",
   "metadata": {},
   "source": [
    "#### 8. How do you 'pretty print' dictionary values using which module and function?"
   ]
  },
  {
   "cell_type": "code",
   "execution_count": 25,
   "id": "f2b8bda3",
   "metadata": {},
   "outputs": [
    {
     "name": "stdout",
     "output_type": "stream",
     "text": [
      "{'age': 30, 'city': 'New York', 'name': 'shankar'}\n"
     ]
    }
   ],
   "source": [
    "import pprint\n",
    "\n",
    "my_dict = {'name': 'shankar', 'age': 30, 'city': 'New York'}\n",
    "pprint.pprint(my_dict)"
   ]
  }
 ],
 "metadata": {
  "kernelspec": {
   "display_name": "Python 3 (ipykernel)",
   "language": "python",
   "name": "python3"
  },
  "language_info": {
   "codemirror_mode": {
    "name": "ipython",
    "version": 3
   },
   "file_extension": ".py",
   "mimetype": "text/x-python",
   "name": "python",
   "nbconvert_exporter": "python",
   "pygments_lexer": "ipython3",
   "version": "3.10.9"
  }
 },
 "nbformat": 4,
 "nbformat_minor": 5
}
